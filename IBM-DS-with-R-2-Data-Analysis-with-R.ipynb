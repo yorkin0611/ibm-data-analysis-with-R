{
 "cells": [
  {
   "cell_type": "markdown",
   "metadata": {
    "id": "FCT88mb-lDZB"
   },
   "source": [
    "<center><img src=\"https://cf-courses-data.s3.us.cloud-object-storage.appdomain.cloud/assets/logos/SN_web_lightmode.png\" width=\"300\"></center><br/>\n",
    "\n",
    "# Assignment: Notebook for Peer Assignment\n",
    "\n",
    "Estimated time needed: 60 minutes\n"
   ]
  },
  {
   "cell_type": "markdown",
   "metadata": {
    "id": "MMf_f1kelDZB"
   },
   "source": [
    "# Assignment Scenario\n",
    "\n",
    "Congratulations! You have just been hired by a US Weather forecast firm as a data scientist.\n",
    "\n",
    "The company is considering the weather condition to help predict the possibility of precipitations, which involves using various local climatological variables, including temperature, wind speed, humidity, dew point, and pressure. The data you will be handling was collected by a NOAA weather station located at the John F. Kennedy International Airport in Queens, New York.\n",
    "\n",
    "Your task is to provide a high level analysis of weather data in JFK Airport. Your stakeholders want to understand the current and historical record of precipitations based on different variables. For now they are mainly interested in a macro-view of JFK Airport Weather, and how it relates to the possibility to rain because it will affect flight delays and etc.\n"
   ]
  },
  {
   "cell_type": "markdown",
   "metadata": {
    "id": "hByNDeyMlDZB"
   },
   "source": [
    "# Introduction\n",
    "\n",
    "This project relates to the NOAA Weather Dataset - JFK Airport (New York). The original dataset contains 114,546 hourly observations of 12 local climatological variables (such as temperature and wind speed) collected at JFK airport. This dataset can be obtained for free from the IBM Developer [Data Asset Exchange](https://developer.ibm.com/exchanges/data/all/jfk-weather-data/).\n",
    "\n",
    "For this project, you will be using a subset dataset, which contains 5727 rows (about 5% or original rows) and 9 columns. The end goal will be to predict the precipitation using some of the available features. In this project, you will practice reading data files, preprocessing data, creating models, improving models and evaluating them to ultimately choose the best model.\n",
    "\n"
   ]
  },
  {
   "cell_type": "markdown",
   "metadata": {
    "id": "MJzdEK5tlDZB"
   },
   "source": [
    "\n",
    "## Table of Contents:\n",
    "\n",
    "Using this R notebook you will complete **10 tasks**:\n",
    "* [0. Import Modules](#cell0)\n",
    "* [1. Download and Unzip NOAA Weather Dataset](#cell1)\n",
    "* [2. Read Dataset into Project](#cell2)\n",
    "* [3. Select Subset of Columns](#cell3)\n",
    "* [4. Clean Up Columns](#cell4)\n",
    "* [5. Convert Columns to Numerical Types](#cell5)\n",
    "* [6. Rename Columns](#cell6)\n",
    "* [7. Exploratory Data Analysis](#cell7)\n",
    "* [8. Linear Regression](#cell8)\n",
    "* [9. Improve the Model](#cell9)\n",
    "* [10. Find Best Model](#cell10)\n",
    "\n",
    "\n",
    "<a id=\"cell0\"></a>\n",
    "## 0. Import required modules\n",
    "\n",
    "Tidymodels is a collection of packages that use tidyverse principles to easily do the entire modeling process from preprocessing initial data, to creating a model, to tunning hyperparameters. The tidymodels packages can be used to produce high quality statistical and machine learning models. Our Jupyter notebook platforms have a built-in Tidyverse, Tidymodels and rlang packages so we do not need to install these packages prior to loading library. However, if you decide to run this lab on your RStudio Desktop locally on your machine, you can remove the commented lines of code to install these packages before loading.\n",
    "\n"
   ]
  },
  {
   "cell_type": "code",
   "execution_count": 1,
   "metadata": {
    "colab": {
     "base_uri": "https://localhost:8080/"
    },
    "executionInfo": {
     "elapsed": 27484,
     "status": "ok",
     "timestamp": 1725279014940,
     "user": {
      "displayName": "Vanja Blazinic",
      "userId": "08775111406535905076"
     },
     "user_tz": 0
    },
    "id": "bsTV8bCBlDZB",
    "outputId": "30c852a1-6e10-4e5b-c48e-71a960ad587f"
   },
   "outputs": [
    {
     "name": "stdout",
     "output_type": "stream",
     "text": [
      "[1] \"Packages installed!\"\n"
     ]
    }
   ],
   "source": [
    "# Install tidymodels if you haven't done so\n",
    "#install.packages(\"rlang\") #repos='http://cran.us.r-project.org')\n",
    "#install.packages(\"tidymodels\", dependencies=FALSE) #, repos='http://cran.us.r-project.org')\n",
    "\n",
    "# Additional package for grouping graphs together\n",
    "#install.packages(\"cowplot\", dependencies=FALSE) #, repos='http://cran.us.r-project.org')\n",
    "print(\"Packages installed!\")"
   ]
  },
  {
   "cell_type": "markdown",
   "metadata": {
    "id": "TirNBkuplDZS"
   },
   "source": [
    "**Note: After installing the packages, restart the kernel. Without installing the packages again, load them. Tidyverse and Tidymodels will be the two main packages you will use.**\n"
   ]
  },
  {
   "cell_type": "code",
   "execution_count": 2,
   "metadata": {
    "colab": {
     "base_uri": "https://localhost:8080/",
     "height": 106
    },
    "executionInfo": {
     "elapsed": 300,
     "status": "error",
     "timestamp": 1725276980566,
     "user": {
      "displayName": "Vanja Blazinic",
      "userId": "08775111406535905076"
     },
     "user_tz": 0
    },
    "id": "gPr9ympOlDZS",
    "outputId": "7459b545-d85b-4cc4-da9b-134518e6de3f"
   },
   "outputs": [
    {
     "name": "stderr",
     "output_type": "stream",
     "text": [
      "Warning message in system(\"timedatectl\", intern = TRUE):\n",
      "“running command 'timedatectl' had status 1”\n",
      "── \u001b[1mAttaching packages\u001b[22m ────────────────────────────────────── tidymodels 1.2.0 ──\n",
      "\n",
      "\u001b[32m✔\u001b[39m \u001b[34mbroom       \u001b[39m 1.0.6     \u001b[32m✔\u001b[39m \u001b[34mrecipes     \u001b[39m 1.1.0\n",
      "\u001b[32m✔\u001b[39m \u001b[34mdials       \u001b[39m 1.3.0     \u001b[32m✔\u001b[39m \u001b[34mrsample     \u001b[39m 1.2.1\n",
      "\u001b[32m✔\u001b[39m \u001b[34mdplyr       \u001b[39m 1.1.4     \u001b[32m✔\u001b[39m \u001b[34mtibble      \u001b[39m 3.2.1\n",
      "\u001b[32m✔\u001b[39m \u001b[34mggplot2     \u001b[39m 3.5.1     \u001b[32m✔\u001b[39m \u001b[34mtidyr       \u001b[39m 1.3.1\n",
      "\u001b[32m✔\u001b[39m \u001b[34minfer       \u001b[39m 1.0.7     \u001b[32m✔\u001b[39m \u001b[34mtune        \u001b[39m 1.2.1\n",
      "\u001b[32m✔\u001b[39m \u001b[34mmodeldata   \u001b[39m 1.4.0     \u001b[32m✔\u001b[39m \u001b[34mworkflows   \u001b[39m 1.1.4\n",
      "\u001b[32m✔\u001b[39m \u001b[34mparsnip     \u001b[39m 1.2.1     \u001b[32m✔\u001b[39m \u001b[34mworkflowsets\u001b[39m 1.1.0\n",
      "\u001b[32m✔\u001b[39m \u001b[34mpurrr       \u001b[39m 1.0.2     \u001b[32m✔\u001b[39m \u001b[34myardstick   \u001b[39m 1.3.1\n",
      "\n",
      "── \u001b[1mConflicts\u001b[22m ───────────────────────────────────────── tidymodels_conflicts() ──\n",
      "\u001b[31m✖\u001b[39m \u001b[34mpurrr\u001b[39m::\u001b[32mdiscard()\u001b[39m masks \u001b[34mscales\u001b[39m::discard()\n",
      "\u001b[31m✖\u001b[39m \u001b[34mdplyr\u001b[39m::\u001b[32mfilter()\u001b[39m  masks \u001b[34mstats\u001b[39m::filter()\n",
      "\u001b[31m✖\u001b[39m \u001b[34mdplyr\u001b[39m::\u001b[32mlag()\u001b[39m     masks \u001b[34mstats\u001b[39m::lag()\n",
      "\u001b[31m✖\u001b[39m \u001b[34mrecipes\u001b[39m::\u001b[32mstep()\u001b[39m  masks \u001b[34mstats\u001b[39m::step()\n",
      "\u001b[34m•\u001b[39m Use \u001b[32mtidymodels_prefer()\u001b[39m to resolve common conflicts.\n",
      "\n",
      "── \u001b[1mAttaching packages\u001b[22m ─────────────────────────────────────── tidyverse 1.3.2 ──\n",
      "\u001b[32m✔\u001b[39m \u001b[34mreadr  \u001b[39m 2.1.4     \u001b[32m✔\u001b[39m \u001b[34mforcats\u001b[39m 1.0.0\n",
      "\u001b[32m✔\u001b[39m \u001b[34mstringr\u001b[39m 1.5.0     \n",
      "── \u001b[1mConflicts\u001b[22m ────────────────────────────────────────── tidyverse_conflicts() ──\n",
      "\u001b[31m✖\u001b[39m \u001b[34mreadr\u001b[39m::\u001b[32mcol_factor()\u001b[39m masks \u001b[34mscales\u001b[39m::col_factor()\n",
      "\u001b[31m✖\u001b[39m \u001b[34mpurrr\u001b[39m::\u001b[32mdiscard()\u001b[39m    masks \u001b[34mscales\u001b[39m::discard()\n",
      "\u001b[31m✖\u001b[39m \u001b[34mdplyr\u001b[39m::\u001b[32mfilter()\u001b[39m     masks \u001b[34mstats\u001b[39m::filter()\n",
      "\u001b[31m✖\u001b[39m \u001b[34mstringr\u001b[39m::\u001b[32mfixed()\u001b[39m    masks \u001b[34mrecipes\u001b[39m::fixed()\n",
      "\u001b[31m✖\u001b[39m \u001b[34mdplyr\u001b[39m::\u001b[32mlag()\u001b[39m        masks \u001b[34mstats\u001b[39m::lag()\n",
      "\u001b[31m✖\u001b[39m \u001b[34mreadr\u001b[39m::\u001b[32mspec()\u001b[39m       masks \u001b[34myardstick\u001b[39m::spec()\n",
      "Loading required package: Matrix\n",
      "\n",
      "\n",
      "Attaching package: ‘Matrix’\n",
      "\n",
      "\n",
      "The following objects are masked from ‘package:tidyr’:\n",
      "\n",
      "    expand, pack, unpack\n",
      "\n",
      "\n",
      "Loaded glmnet 4.1-6\n",
      "\n"
     ]
    },
    {
     "name": "stdout",
     "output_type": "stream",
     "text": [
      "[1] \"Packages loaded!\"\n"
     ]
    }
   ],
   "source": [
    "# Library for modeling\n",
    "library(tidymodels)\n",
    "\n",
    "# Load tidyverse\n",
    "library(tidyverse)\n",
    "\n",
    "# Load cowplot and glmnet\n",
    "library(cowplot)\n",
    "library(glmnet)\n",
    "\n",
    "print(\"Packages loaded!\")"
   ]
  },
  {
   "cell_type": "markdown",
   "metadata": {
    "id": "GA3mxFUClDZS"
   },
   "source": [
    "\n",
    "### Understand the Dataset\n",
    "\n",
    "The original NOAA JFK dataset contains 114,546 hourly observations of various local climatological variables (including temperature, wind speed, humidity, dew point, and pressure).\n",
    "\n",
    "In this project you will use a sample dataset, which is around 293 KB. [Link to the sample dataset](https://dax-cdn.cdn.appdomain.cloud/dax-noaa-weather-data-jfk-airport/1.1.4/noaa-weather-sample-data.tar.gz).\n",
    "\n",
    "The sample contains 5727 rows (about 5% or original rows) and 9 columns, which are:\n",
    "- DATE\n",
    "- HOURLYDewPointTempF\n",
    "- HOURLYRelativeHumidity\n",
    "- HOURLYDRYBULBTEMPF\n",
    "- HOURLYWETBULBTEMPF\n",
    "- HOURLYPrecip\n",
    "- HOURLYWindSpeed\n",
    "- HOURLYSeaLevelPressure\n",
    "- HOURLYStationPressure\n",
    "\n",
    "The original dataset is much bigger. Feel free to explore the original dataset. [Link to the original dataset.](https://dax-cdn.cdn.appdomain.cloud/dax-noaa-weather-data-jfk-airport/1.1.4/noaa_weather.html)\n",
    "\n",
    "For more information about the dataset, checkout the [preview](https://dax-cdn.cdn.appdomain.cloud/dax-noaa-weather-data-jfk-airport/1.1.4/data-preview/index.html?_ga=2.176781478.281508226.1616293518-1509963377.1616117067&cm_mc_uid=90945889198916153255549&cm_mc_sid_50200000=64650651616293516933) of NOAA Weather - JFK Airport.\n"
   ]
  },
  {
   "cell_type": "markdown",
   "metadata": {
    "id": "-o69eX_xlDZS"
   },
   "source": [
    "<a id=\"cell1\"></a>\n",
    "\n",
    "## 1. Download NOAA Weather Dataset\n",
    "\n",
    "Use the `download.file()` function to download the sample dataset from the URL below.\n",
    "\n",
    "URL = 'https://dax-cdn.cdn.appdomain.cloud/dax-noaa-weather-data-jfk-airport/1.1.4/noaa-weather-sample-data.tar.gz'\n"
   ]
  },
  {
   "cell_type": "code",
   "execution_count": 3,
   "metadata": {
    "executionInfo": {
     "elapsed": 1033,
     "status": "ok",
     "timestamp": 1725276985999,
     "user": {
      "displayName": "Vanja Blazinic",
      "userId": "08775111406535905076"
     },
     "user_tz": 0
    },
    "id": "dMqLYPWDlDZS"
   },
   "outputs": [],
   "source": [
    "url <- \"https://dax-cdn.cdn.appdomain.cloud/dax-noaa-weather-data-jfk-airport/1.1.4/noaa-weather-sample-data.tar.gz\"\n",
    "download.file(url, destfile=\"noaa-weather-sample-data.tar.gz\")"
   ]
  },
  {
   "cell_type": "markdown",
   "metadata": {
    "id": "_1g9gjrflDZS"
   },
   "source": [
    "Untar the zipped file.\n"
   ]
  },
  {
   "cell_type": "code",
   "execution_count": 4,
   "metadata": {
    "colab": {
     "base_uri": "https://localhost:8080/"
    },
    "executionInfo": {
     "elapsed": 283,
     "status": "ok",
     "timestamp": 1725276987499,
     "user": {
      "displayName": "Vanja Blazinic",
      "userId": "08775111406535905076"
     },
     "user_tz": 0
    },
    "id": "Q_sqXNn-lDZS",
    "outputId": "38ee24ec-0f1f-4142-92d6-f553e6d97f5d"
   },
   "outputs": [
    {
     "name": "stderr",
     "output_type": "stream",
     "text": [
      "Warning message in untar2(tarfile, files, list, exdir, restore_times):\n",
      "“using pax extended headers”\n"
     ]
    }
   ],
   "source": [
    "untar(\"noaa-weather-sample-data.tar.gz\", tar = \"internal\")"
   ]
  },
  {
   "cell_type": "markdown",
   "metadata": {
    "id": "9lG8CnhrlDZS"
   },
   "source": [
    "<a id=\"cell2\"></a>\n",
    "## 2. Extract and Read into Project\n",
    "We start by reading in the raw dataset. You should specify the file name as \"noaa-weather-sample-data/jfk_weather_sample.csv\".\n"
   ]
  },
  {
   "cell_type": "code",
   "execution_count": 5,
   "metadata": {
    "colab": {
     "base_uri": "https://localhost:8080/",
     "height": 72
    },
    "executionInfo": {
     "elapsed": 0,
     "status": "error",
     "timestamp": 1725276990733,
     "user": {
      "displayName": "Vanja Blazinic",
      "userId": "08775111406535905076"
     },
     "user_tz": 0
    },
    "id": "muhWEQ56lDZS",
    "outputId": "e85fd01e-0588-4e9a-b95b-027f562b8608"
   },
   "outputs": [],
   "source": [
    "df <- read_csv(\"noaa-weather-sample-data/jfk_weather_sample.csv\", show_col_types=FALSE)"
   ]
  },
  {
   "cell_type": "markdown",
   "metadata": {
    "id": "jjZzPljRlDZS"
   },
   "source": [
    "Next, display the first few rows of the dataframe.\n"
   ]
  },
  {
   "cell_type": "code",
   "execution_count": 6,
   "metadata": {
    "colab": {
     "base_uri": "https://localhost:8080/",
     "height": 139
    },
    "executionInfo": {
     "elapsed": 316,
     "status": "ok",
     "timestamp": 1725276993149,
     "user": {
      "displayName": "Vanja Blazinic",
      "userId": "08775111406535905076"
     },
     "user_tz": 0
    },
    "id": "EZn-bNKIlDZS",
    "outputId": "157f23e4-cd37-4b0b-e584-ac3fa05dfe22"
   },
   "outputs": [
    {
     "data": {
      "text/html": [
       "<table class=\"dataframe\">\n",
       "<caption>A tibble: 6 × 9</caption>\n",
       "<thead>\n",
       "\t<tr><th scope=col>DATE</th><th scope=col>HOURLYDewPointTempF</th><th scope=col>HOURLYRelativeHumidity</th><th scope=col>HOURLYDRYBULBTEMPF</th><th scope=col>HOURLYWETBULBTEMPF</th><th scope=col>HOURLYPrecip</th><th scope=col>HOURLYWindSpeed</th><th scope=col>HOURLYSeaLevelPressure</th><th scope=col>HOURLYStationPressure</th></tr>\n",
       "\t<tr><th scope=col>&lt;dttm&gt;</th><th scope=col>&lt;dbl&gt;</th><th scope=col>&lt;dbl&gt;</th><th scope=col>&lt;dbl&gt;</th><th scope=col>&lt;dbl&gt;</th><th scope=col>&lt;chr&gt;</th><th scope=col>&lt;dbl&gt;</th><th scope=col>&lt;dbl&gt;</th><th scope=col>&lt;dbl&gt;</th></tr>\n",
       "</thead>\n",
       "<tbody>\n",
       "\t<tr><td>2015-07-25 13:51:00</td><td>60</td><td>46</td><td>83</td><td>68</td><td>0.00</td><td>13</td><td>30.01</td><td>29.99</td></tr>\n",
       "\t<tr><td>2016-11-18 23:51:00</td><td>34</td><td>48</td><td>53</td><td>44</td><td>0.00</td><td> 6</td><td>30.05</td><td>30.03</td></tr>\n",
       "\t<tr><td>2013-01-06 08:51:00</td><td>33</td><td>89</td><td>36</td><td>35</td><td>0.00</td><td>13</td><td>30.14</td><td>30.12</td></tr>\n",
       "\t<tr><td>2011-01-27 16:51:00</td><td>18</td><td>48</td><td>36</td><td>30</td><td>0.00</td><td>14</td><td>29.82</td><td>29.80</td></tr>\n",
       "\t<tr><td>2015-01-03 12:16:00</td><td>27</td><td>61</td><td>39</td><td>34</td><td>T   </td><td>11</td><td>   NA</td><td>30.50</td></tr>\n",
       "\t<tr><td>2013-02-15 20:51:00</td><td>35</td><td>79</td><td>41</td><td>38</td><td>0.00</td><td> 6</td><td>29.94</td><td>29.92</td></tr>\n",
       "</tbody>\n",
       "</table>\n"
      ],
      "text/latex": [
       "A tibble: 6 × 9\n",
       "\\begin{tabular}{lllllllll}\n",
       " DATE & HOURLYDewPointTempF & HOURLYRelativeHumidity & HOURLYDRYBULBTEMPF & HOURLYWETBULBTEMPF & HOURLYPrecip & HOURLYWindSpeed & HOURLYSeaLevelPressure & HOURLYStationPressure\\\\\n",
       " <dttm> & <dbl> & <dbl> & <dbl> & <dbl> & <chr> & <dbl> & <dbl> & <dbl>\\\\\n",
       "\\hline\n",
       "\t 2015-07-25 13:51:00 & 60 & 46 & 83 & 68 & 0.00 & 13 & 30.01 & 29.99\\\\\n",
       "\t 2016-11-18 23:51:00 & 34 & 48 & 53 & 44 & 0.00 &  6 & 30.05 & 30.03\\\\\n",
       "\t 2013-01-06 08:51:00 & 33 & 89 & 36 & 35 & 0.00 & 13 & 30.14 & 30.12\\\\\n",
       "\t 2011-01-27 16:51:00 & 18 & 48 & 36 & 30 & 0.00 & 14 & 29.82 & 29.80\\\\\n",
       "\t 2015-01-03 12:16:00 & 27 & 61 & 39 & 34 & T    & 11 &    NA & 30.50\\\\\n",
       "\t 2013-02-15 20:51:00 & 35 & 79 & 41 & 38 & 0.00 &  6 & 29.94 & 29.92\\\\\n",
       "\\end{tabular}\n"
      ],
      "text/markdown": [
       "\n",
       "A tibble: 6 × 9\n",
       "\n",
       "| DATE &lt;dttm&gt; | HOURLYDewPointTempF &lt;dbl&gt; | HOURLYRelativeHumidity &lt;dbl&gt; | HOURLYDRYBULBTEMPF &lt;dbl&gt; | HOURLYWETBULBTEMPF &lt;dbl&gt; | HOURLYPrecip &lt;chr&gt; | HOURLYWindSpeed &lt;dbl&gt; | HOURLYSeaLevelPressure &lt;dbl&gt; | HOURLYStationPressure &lt;dbl&gt; |\n",
       "|---|---|---|---|---|---|---|---|---|\n",
       "| 2015-07-25 13:51:00 | 60 | 46 | 83 | 68 | 0.00 | 13 | 30.01 | 29.99 |\n",
       "| 2016-11-18 23:51:00 | 34 | 48 | 53 | 44 | 0.00 |  6 | 30.05 | 30.03 |\n",
       "| 2013-01-06 08:51:00 | 33 | 89 | 36 | 35 | 0.00 | 13 | 30.14 | 30.12 |\n",
       "| 2011-01-27 16:51:00 | 18 | 48 | 36 | 30 | 0.00 | 14 | 29.82 | 29.80 |\n",
       "| 2015-01-03 12:16:00 | 27 | 61 | 39 | 34 | T    | 11 |    NA | 30.50 |\n",
       "| 2013-02-15 20:51:00 | 35 | 79 | 41 | 38 | 0.00 |  6 | 29.94 | 29.92 |\n",
       "\n"
      ],
      "text/plain": [
       "  DATE                HOURLYDewPointTempF HOURLYRelativeHumidity\n",
       "1 2015-07-25 13:51:00 60                  46                    \n",
       "2 2016-11-18 23:51:00 34                  48                    \n",
       "3 2013-01-06 08:51:00 33                  89                    \n",
       "4 2011-01-27 16:51:00 18                  48                    \n",
       "5 2015-01-03 12:16:00 27                  61                    \n",
       "6 2013-02-15 20:51:00 35                  79                    \n",
       "  HOURLYDRYBULBTEMPF HOURLYWETBULBTEMPF HOURLYPrecip HOURLYWindSpeed\n",
       "1 83                 68                 0.00         13             \n",
       "2 53                 44                 0.00          6             \n",
       "3 36                 35                 0.00         13             \n",
       "4 36                 30                 0.00         14             \n",
       "5 39                 34                 T            11             \n",
       "6 41                 38                 0.00          6             \n",
       "  HOURLYSeaLevelPressure HOURLYStationPressure\n",
       "1 30.01                  29.99                \n",
       "2 30.05                  30.03                \n",
       "3 30.14                  30.12                \n",
       "4 29.82                  29.80                \n",
       "5    NA                  30.50                \n",
       "6 29.94                  29.92                "
      ]
     },
     "metadata": {},
     "output_type": "display_data"
    }
   ],
   "source": [
    "head(df)"
   ]
  },
  {
   "cell_type": "markdown",
   "metadata": {
    "id": "i1ZrPIN6lDZS"
   },
   "source": [
    "Also, take a `glimpse` of the dataset to see the different column data types and make sure it is the correct subset dataset with about 5700 rows and 9 columns.\n"
   ]
  },
  {
   "cell_type": "code",
   "execution_count": 7,
   "metadata": {
    "colab": {
     "base_uri": "https://localhost:8080/"
    },
    "executionInfo": {
     "elapsed": 366,
     "status": "ok",
     "timestamp": 1725021648642,
     "user": {
      "displayName": "Vanja Blazinic",
      "userId": "08775111406535905076"
     },
     "user_tz": 0
    },
    "id": "gmR1fWPalDZS",
    "outputId": "999e9d34-d370-47ca-de87-db735fc6419c"
   },
   "outputs": [
    {
     "name": "stdout",
     "output_type": "stream",
     "text": [
      "Rows: 5,727\n",
      "Columns: 9\n",
      "$ DATE                   \u001b[3m\u001b[90m<dttm>\u001b[39m\u001b[23m 2015-07-25 13:51:00, 2016-11-18 23:51:00, 2013…\n",
      "$ HOURLYDewPointTempF    \u001b[3m\u001b[90m<dbl>\u001b[39m\u001b[23m 60, 34, 33, 18, 27, 35, 4, 14, 51, 71, 76, 19, …\n",
      "$ HOURLYRelativeHumidity \u001b[3m\u001b[90m<dbl>\u001b[39m\u001b[23m 46, 48, 89, 48, 61, 79, 51, 65, 90, 94, 79, 37,…\n",
      "$ HOURLYDRYBULBTEMPF     \u001b[3m\u001b[90m<dbl>\u001b[39m\u001b[23m 83, 53, 36, 36, 39, 41, 19, 24, 54, 73, 83, 44,…\n",
      "$ HOURLYWETBULBTEMPF     \u001b[3m\u001b[90m<dbl>\u001b[39m\u001b[23m 68, 44, 35, 30, 34, 38, 15, 21, 52, 72, 78, 35,…\n",
      "$ HOURLYPrecip           \u001b[3m\u001b[90m<chr>\u001b[39m\u001b[23m \"0.00\", \"0.00\", \"0.00\", \"0.00\", \"T\", \"0.00\", \"0…\n",
      "$ HOURLYWindSpeed        \u001b[3m\u001b[90m<dbl>\u001b[39m\u001b[23m 13, 6, 13, 14, 11, 6, 0, 11, 11, 5, 21, 7, 17, …\n",
      "$ HOURLYSeaLevelPressure \u001b[3m\u001b[90m<dbl>\u001b[39m\u001b[23m 30.01, 30.05, 30.14, 29.82, NA, 29.94, 30.42, 3…\n",
      "$ HOURLYStationPressure  \u001b[3m\u001b[90m<dbl>\u001b[39m\u001b[23m 29.99, 30.03, 30.12, 29.80, 30.50, 29.92, 30.40…\n"
     ]
    }
   ],
   "source": [
    "glimpse(df)"
   ]
  },
  {
   "cell_type": "markdown",
   "metadata": {
    "id": "hY4R277hlDZS"
   },
   "source": [
    "<a id=\"cell3\"></a>\n",
    "## 3. Select Subset of Columns\n",
    "\n",
    "The end goal of this project will be to predict `HOURLYprecip` (precipitation) using a few other variables. Before you can do this, you first need to preprocess the dataset. Section 3 to section 6 focuses on preprocessing.\n",
    "\n",
    "The first step in preprocessing is to select a subset of data columns and inspect the column types.\n",
    "\n",
    "The key columns that we will explore in this project are:\n",
    "- HOURLYRelativeHumidity\n",
    "- HOURLYDRYBULBTEMPF\n",
    "- HOURLYPrecip\n",
    "- HOURLYWindSpeed\n",
    "- HOURLYStationPressure\n",
    "\n",
    "Data Glossary:\n",
    "- 'HOURLYRelativeHumidity' is the relative humidity given to the nearest whole percentage.\n",
    "- 'HOURLYDRYBULBTEMPF' is the dry-bulb temperature and is commonly used as the standard air temperature reported. It is given here in whole degrees Fahrenheit.\n",
    "- 'HOURLYPrecip' is the amount of precipitation in inches to hundredths over the past hour. For certain automated stations, precipitation will be reported at sub-hourly intervals (e.g. every 15 or 20 minutes) as an accumulated amount of all precipitation within the preceding hour. A “T” indicates a trace amount of precipitation.\n",
    "- 'HOURLYWindSpeed' is the speed of the wind at the time of observation given in miles per hour (mph).\n",
    "- 'HOURLYStationPressure' is the atmospheric pressure observed at the station during the time of observation. Given in inches of Mercury (in Hg).\n",
    "\n",
    "`Select` those five columns and store the modified dataframe as a new variable.\n"
   ]
  },
  {
   "cell_type": "code",
   "execution_count": 8,
   "metadata": {
    "id": "T024Rg77lDZS"
   },
   "outputs": [],
   "source": [
    "sub_df <- select(df, c('HOURLYRelativeHumidity', 'HOURLYDRYBULBTEMPF',\n",
    "                       'HOURLYPrecip', 'HOURLYWindSpeed', 'HOURLYStationPressure')\n",
    "                 )"
   ]
  },
  {
   "cell_type": "markdown",
   "metadata": {
    "id": "qqsLXdU_lDZS"
   },
   "source": [
    "Show the first 10 rows of this new dataframe.\n"
   ]
  },
  {
   "cell_type": "code",
   "execution_count": 9,
   "metadata": {
    "colab": {
     "base_uri": "https://localhost:8080/",
     "height": 412
    },
    "executionInfo": {
     "elapsed": 16,
     "status": "ok",
     "timestamp": 1725021648642,
     "user": {
      "displayName": "Vanja Blazinic",
      "userId": "08775111406535905076"
     },
     "user_tz": 0
    },
    "id": "sAtzQ7jvlDZS",
    "outputId": "0cf0b4f8-7914-47ae-8324-84f22e4b428b"
   },
   "outputs": [
    {
     "data": {
      "text/html": [
       "<table class=\"dataframe\">\n",
       "<caption>A tibble: 10 × 5</caption>\n",
       "<thead>\n",
       "\t<tr><th scope=col>HOURLYRelativeHumidity</th><th scope=col>HOURLYDRYBULBTEMPF</th><th scope=col>HOURLYPrecip</th><th scope=col>HOURLYWindSpeed</th><th scope=col>HOURLYStationPressure</th></tr>\n",
       "\t<tr><th scope=col>&lt;dbl&gt;</th><th scope=col>&lt;dbl&gt;</th><th scope=col>&lt;chr&gt;</th><th scope=col>&lt;dbl&gt;</th><th scope=col>&lt;dbl&gt;</th></tr>\n",
       "</thead>\n",
       "<tbody>\n",
       "\t<tr><td>46</td><td>83</td><td>0.00</td><td>13</td><td>29.99</td></tr>\n",
       "\t<tr><td>48</td><td>53</td><td>0.00</td><td> 6</td><td>30.03</td></tr>\n",
       "\t<tr><td>89</td><td>36</td><td>0.00</td><td>13</td><td>30.12</td></tr>\n",
       "\t<tr><td>48</td><td>36</td><td>0.00</td><td>14</td><td>29.80</td></tr>\n",
       "\t<tr><td>61</td><td>39</td><td>T   </td><td>11</td><td>30.50</td></tr>\n",
       "\t<tr><td>79</td><td>41</td><td>0.00</td><td> 6</td><td>29.92</td></tr>\n",
       "\t<tr><td>51</td><td>19</td><td>0.00</td><td> 0</td><td>30.40</td></tr>\n",
       "\t<tr><td>65</td><td>24</td><td>0.00</td><td>11</td><td>30.35</td></tr>\n",
       "\t<tr><td>90</td><td>54</td><td>0.06</td><td>11</td><td>30.03</td></tr>\n",
       "\t<tr><td>94</td><td>73</td><td>NA  </td><td> 5</td><td>29.91</td></tr>\n",
       "</tbody>\n",
       "</table>\n"
      ],
      "text/latex": [
       "A tibble: 10 × 5\n",
       "\\begin{tabular}{lllll}\n",
       " HOURLYRelativeHumidity & HOURLYDRYBULBTEMPF & HOURLYPrecip & HOURLYWindSpeed & HOURLYStationPressure\\\\\n",
       " <dbl> & <dbl> & <chr> & <dbl> & <dbl>\\\\\n",
       "\\hline\n",
       "\t 46 & 83 & 0.00 & 13 & 29.99\\\\\n",
       "\t 48 & 53 & 0.00 &  6 & 30.03\\\\\n",
       "\t 89 & 36 & 0.00 & 13 & 30.12\\\\\n",
       "\t 48 & 36 & 0.00 & 14 & 29.80\\\\\n",
       "\t 61 & 39 & T    & 11 & 30.50\\\\\n",
       "\t 79 & 41 & 0.00 &  6 & 29.92\\\\\n",
       "\t 51 & 19 & 0.00 &  0 & 30.40\\\\\n",
       "\t 65 & 24 & 0.00 & 11 & 30.35\\\\\n",
       "\t 90 & 54 & 0.06 & 11 & 30.03\\\\\n",
       "\t 94 & 73 & NA   &  5 & 29.91\\\\\n",
       "\\end{tabular}\n"
      ],
      "text/markdown": [
       "\n",
       "A tibble: 10 × 5\n",
       "\n",
       "| HOURLYRelativeHumidity &lt;dbl&gt; | HOURLYDRYBULBTEMPF &lt;dbl&gt; | HOURLYPrecip &lt;chr&gt; | HOURLYWindSpeed &lt;dbl&gt; | HOURLYStationPressure &lt;dbl&gt; |\n",
       "|---|---|---|---|---|\n",
       "| 46 | 83 | 0.00 | 13 | 29.99 |\n",
       "| 48 | 53 | 0.00 |  6 | 30.03 |\n",
       "| 89 | 36 | 0.00 | 13 | 30.12 |\n",
       "| 48 | 36 | 0.00 | 14 | 29.80 |\n",
       "| 61 | 39 | T    | 11 | 30.50 |\n",
       "| 79 | 41 | 0.00 |  6 | 29.92 |\n",
       "| 51 | 19 | 0.00 |  0 | 30.40 |\n",
       "| 65 | 24 | 0.00 | 11 | 30.35 |\n",
       "| 90 | 54 | 0.06 | 11 | 30.03 |\n",
       "| 94 | 73 | NA   |  5 | 29.91 |\n",
       "\n"
      ],
      "text/plain": [
       "   HOURLYRelativeHumidity HOURLYDRYBULBTEMPF HOURLYPrecip HOURLYWindSpeed\n",
       "1  46                     83                 0.00         13             \n",
       "2  48                     53                 0.00          6             \n",
       "3  89                     36                 0.00         13             \n",
       "4  48                     36                 0.00         14             \n",
       "5  61                     39                 T            11             \n",
       "6  79                     41                 0.00          6             \n",
       "7  51                     19                 0.00          0             \n",
       "8  65                     24                 0.00         11             \n",
       "9  90                     54                 0.06         11             \n",
       "10 94                     73                 NA            5             \n",
       "   HOURLYStationPressure\n",
       "1  29.99                \n",
       "2  30.03                \n",
       "3  30.12                \n",
       "4  29.80                \n",
       "5  30.50                \n",
       "6  29.92                \n",
       "7  30.40                \n",
       "8  30.35                \n",
       "9  30.03                \n",
       "10 29.91                "
      ]
     },
     "metadata": {},
     "output_type": "display_data"
    }
   ],
   "source": [
    "head(sub_df, n=10)"
   ]
  },
  {
   "cell_type": "markdown",
   "metadata": {
    "id": "Jsrvcf3flDZS"
   },
   "source": [
    "<a id=\"cell4\"></a>\n",
    "## 4. Clean Up Columns\n",
    "\n",
    "From the dataframe preview above, we can see that the column `HOURLYPrecip` - which is the hourly measure of precipitation levels - contains both `NA` and `T` values. `T` specifies *trace amounts of precipitation* (meaning essentially no precipitation), while `NA` means *not available*, and is used to denote missing values. Additionally, some values also have \"s\" at the end of them, indicating that the precipitation was snow.\n",
    "\n",
    "Inspect the unique values present in the column `HOURLYPrecip` (with `unique(dataframe$column)`) to see these values.\n"
   ]
  },
  {
   "cell_type": "code",
   "execution_count": 10,
   "metadata": {
    "colab": {
     "base_uri": "https://localhost:8080/",
     "height": 52
    },
    "executionInfo": {
     "elapsed": 16,
     "status": "ok",
     "timestamp": 1725021648642,
     "user": {
      "displayName": "Vanja Blazinic",
      "userId": "08775111406535905076"
     },
     "user_tz": 0
    },
    "id": "-ur39nxKlDZS",
    "outputId": "f243ab7d-ae35-4016-a5a0-7bf9832f31a7"
   },
   "outputs": [
    {
     "data": {
      "text/html": [
       "<style>\n",
       ".list-inline {list-style: none; margin:0; padding: 0}\n",
       ".list-inline>li {display: inline-block}\n",
       ".list-inline>li:not(:last-child)::after {content: \"\\00b7\"; padding: 0 .5ex}\n",
       "</style>\n",
       "<ol class=list-inline><li>'0.00'</li><li>'T'</li><li>'0.06'</li><li>NA</li><li>'0.03'</li><li>'0.02'</li><li>'0.08'</li><li>'0.01'</li><li>'0.07'</li><li>'0.16'</li><li>'0.09'</li><li>'0.22'</li><li>'0.02s'</li><li>'0.24'</li><li>'0.18'</li><li>'0.05'</li><li>'0.04'</li><li>'0.09s'</li><li>'0.11'</li><li>'0.14'</li><li>'0.25'</li><li>'0.10'</li><li>'0.01s'</li><li>'0.58'</li><li>'0.12'</li><li>'0.13'</li><li>'0.46'</li><li>'1.07'</li><li>'1.19'</li><li>'0.34'</li><li>'0.20'</li><li>'0.36s'</li><li>'0.42'</li><li>'0.17'</li><li>'0.27'</li><li>'0.35'</li><li>'0.31'</li><li>'0.33'</li><li>'0.23'</li><li>'0.26'</li><li>'0.28'</li><li>'0.75'</li><li>'0.19'</li><li>'0.36'</li><li>'0.03s'</li><li>'0.07s'</li><li>'0.54'</li><li>'0.59'</li><li>'0.21'</li></ol>\n"
      ],
      "text/latex": [
       "\\begin{enumerate*}\n",
       "\\item '0.00'\n",
       "\\item 'T'\n",
       "\\item '0.06'\n",
       "\\item NA\n",
       "\\item '0.03'\n",
       "\\item '0.02'\n",
       "\\item '0.08'\n",
       "\\item '0.01'\n",
       "\\item '0.07'\n",
       "\\item '0.16'\n",
       "\\item '0.09'\n",
       "\\item '0.22'\n",
       "\\item '0.02s'\n",
       "\\item '0.24'\n",
       "\\item '0.18'\n",
       "\\item '0.05'\n",
       "\\item '0.04'\n",
       "\\item '0.09s'\n",
       "\\item '0.11'\n",
       "\\item '0.14'\n",
       "\\item '0.25'\n",
       "\\item '0.10'\n",
       "\\item '0.01s'\n",
       "\\item '0.58'\n",
       "\\item '0.12'\n",
       "\\item '0.13'\n",
       "\\item '0.46'\n",
       "\\item '1.07'\n",
       "\\item '1.19'\n",
       "\\item '0.34'\n",
       "\\item '0.20'\n",
       "\\item '0.36s'\n",
       "\\item '0.42'\n",
       "\\item '0.17'\n",
       "\\item '0.27'\n",
       "\\item '0.35'\n",
       "\\item '0.31'\n",
       "\\item '0.33'\n",
       "\\item '0.23'\n",
       "\\item '0.26'\n",
       "\\item '0.28'\n",
       "\\item '0.75'\n",
       "\\item '0.19'\n",
       "\\item '0.36'\n",
       "\\item '0.03s'\n",
       "\\item '0.07s'\n",
       "\\item '0.54'\n",
       "\\item '0.59'\n",
       "\\item '0.21'\n",
       "\\end{enumerate*}\n"
      ],
      "text/markdown": [
       "1. '0.00'\n",
       "2. 'T'\n",
       "3. '0.06'\n",
       "4. NA\n",
       "5. '0.03'\n",
       "6. '0.02'\n",
       "7. '0.08'\n",
       "8. '0.01'\n",
       "9. '0.07'\n",
       "10. '0.16'\n",
       "11. '0.09'\n",
       "12. '0.22'\n",
       "13. '0.02s'\n",
       "14. '0.24'\n",
       "15. '0.18'\n",
       "16. '0.05'\n",
       "17. '0.04'\n",
       "18. '0.09s'\n",
       "19. '0.11'\n",
       "20. '0.14'\n",
       "21. '0.25'\n",
       "22. '0.10'\n",
       "23. '0.01s'\n",
       "24. '0.58'\n",
       "25. '0.12'\n",
       "26. '0.13'\n",
       "27. '0.46'\n",
       "28. '1.07'\n",
       "29. '1.19'\n",
       "30. '0.34'\n",
       "31. '0.20'\n",
       "32. '0.36s'\n",
       "33. '0.42'\n",
       "34. '0.17'\n",
       "35. '0.27'\n",
       "36. '0.35'\n",
       "37. '0.31'\n",
       "38. '0.33'\n",
       "39. '0.23'\n",
       "40. '0.26'\n",
       "41. '0.28'\n",
       "42. '0.75'\n",
       "43. '0.19'\n",
       "44. '0.36'\n",
       "45. '0.03s'\n",
       "46. '0.07s'\n",
       "47. '0.54'\n",
       "48. '0.59'\n",
       "49. '0.21'\n",
       "\n",
       "\n"
      ],
      "text/plain": [
       " [1] \"0.00\"  \"T\"     \"0.06\"  NA      \"0.03\"  \"0.02\"  \"0.08\"  \"0.01\"  \"0.07\" \n",
       "[10] \"0.16\"  \"0.09\"  \"0.22\"  \"0.02s\" \"0.24\"  \"0.18\"  \"0.05\"  \"0.04\"  \"0.09s\"\n",
       "[19] \"0.11\"  \"0.14\"  \"0.25\"  \"0.10\"  \"0.01s\" \"0.58\"  \"0.12\"  \"0.13\"  \"0.46\" \n",
       "[28] \"1.07\"  \"1.19\"  \"0.34\"  \"0.20\"  \"0.36s\" \"0.42\"  \"0.17\"  \"0.27\"  \"0.35\" \n",
       "[37] \"0.31\"  \"0.33\"  \"0.23\"  \"0.26\"  \"0.28\"  \"0.75\"  \"0.19\"  \"0.36\"  \"0.03s\"\n",
       "[46] \"0.07s\" \"0.54\"  \"0.59\"  \"0.21\" "
      ]
     },
     "metadata": {},
     "output_type": "display_data"
    }
   ],
   "source": [
    "unique(sub_df$HOURLYPrecip)"
   ]
  },
  {
   "cell_type": "markdown",
   "metadata": {
    "id": "LQ-WM8N6lDZS"
   },
   "source": [
    "Having characters in values (like the \"T\" and \"s\" that you see in the unique values) will cause problems when you create a model because values for precipitation should be numerical. So you need to fix these values that have characters.\n",
    "\n",
    "Now, for the column `HOURLYPrecip`:\n",
    "1. Replace all the `T` values with \"0.0\" and\n",
    "2. Remove \"s\" from values like \"0.02s\". In R, you can use the method `str_remove(column, pattern = \"s$\")` to remove the character \"s\" from the end of values. The \"$\" tells R to match to the end of values. The `pattern` is a regex pattern. Look at [here](https://www.rdocumentation.org/packages/stringi/versions/1.5.3/topics/about_search_regex) for more information about regex and matching to strings in R.\n",
    "\n",
    "Remember that you can use `tidyverse`'s  `mutate()` to update columns.\n",
    "\n",
    "You can check your work by checking if unique values of `HOURLYPrecip` still contain any `T` or `s`. Store the modified dataframe as a new variable.\n"
   ]
  },
  {
   "cell_type": "code",
   "execution_count": 11,
   "metadata": {
    "colab": {
     "base_uri": "https://localhost:8080/",
     "height": 295
    },
    "executionInfo": {
     "elapsed": 33,
     "status": "ok",
     "timestamp": 1725021648659,
     "user": {
      "displayName": "Vanja Blazinic",
      "userId": "08775111406535905076"
     },
     "user_tz": 0
    },
    "id": "uIpCC2khlDZS",
    "outputId": "7decc433-b92e-4da6-977d-c9a2a5d466f1"
   },
   "outputs": [
    {
     "data": {
      "text/html": [
       "<style>\n",
       ".list-inline {list-style: none; margin:0; padding: 0}\n",
       ".list-inline>li {display: inline-block}\n",
       ".list-inline>li:not(:last-child)::after {content: \"\\00b7\"; padding: 0 .5ex}\n",
       "</style>\n",
       "<ol class=list-inline><li>'0.00'</li><li>'0.00'</li><li>'0.00'</li><li>'0.00'</li><li>'0.0'</li><li>'0.00'</li><li>'0.00'</li><li>'0.00'</li><li>'0.06'</li><li>NA</li><li>NA</li><li>'0.00'</li><li>'0.00'</li><li>'0.00'</li><li>'0.00'</li><li>'0.00'</li><li>'0.00'</li><li>NA</li><li>'0.03'</li><li>NA</li><li>'0.03'</li><li>NA</li><li>'0.00'</li><li>'0.00'</li><li>'0.02'</li><li>NA</li><li>'0.00'</li><li>NA</li><li>'0.0'</li><li>'0.00'</li><li>'0.00'</li><li>NA</li><li>'0.00'</li><li>'0.00'</li><li>'0.00'</li><li>NA</li><li>'0.00'</li><li>'0.00'</li><li>'0.08'</li><li>NA</li><li>'0.0'</li><li>NA</li><li>NA</li><li>'0.00'</li><li>'0.00'</li><li>'0.00'</li><li>'0.01'</li><li>'0.00'</li><li>'0.0'</li><li>NA</li><li>'0.00'</li><li>'0.00'</li><li>NA</li><li>'0.00'</li><li>'0.00'</li><li>NA</li><li>'0.00'</li><li>'0.00'</li><li>'0.00'</li><li>'0.00'</li><li>'0.00'</li><li>NA</li><li>NA</li><li>'0.0'</li><li>'0.00'</li><li>NA</li><li>'0.00'</li><li>'0.00'</li><li>NA</li><li>'0.00'</li><li>'0.00'</li><li>'0.00'</li><li>'0.07'</li><li>NA</li><li>'0.00'</li><li>NA</li><li>'0.00'</li><li>'0.00'</li><li>NA</li><li>NA</li><li>'0.00'</li><li>'0.0'</li><li>'0.0'</li><li>'0.00'</li><li>'0.00'</li><li>NA</li><li>'0.00'</li><li>NA</li><li>NA</li><li>'0.00'</li><li>NA</li><li>NA</li><li>'0.00'</li><li>'0.00'</li><li>'0.0'</li><li>'0.00'</li><li>'0.16'</li><li>'0.00'</li><li>'0.00'</li><li>'0.00'</li><li>'0.00'</li><li>'0.08'</li><li>'0.00'</li><li>'0.00'</li><li>'0.00'</li><li>NA</li><li>'0.00'</li><li>'0.00'</li><li>NA</li><li>NA</li><li>NA</li><li>NA</li><li>'0.00'</li><li>'0.0'</li><li>NA</li><li>'0.00'</li><li>'0.00'</li><li>'0.00'</li><li>'0.09'</li><li>'0.06'</li><li>'0.0'</li><li>'0.00'</li><li>'0.00'</li><li>NA</li><li>NA</li><li>'0.00'</li><li>'0.00'</li><li>NA</li><li>NA</li><li>'0.00'</li><li>'0.00'</li><li>'0.00'</li><li>'0.00'</li><li>'0.00'</li><li>NA</li><li>'0.00'</li><li>'0.00'</li><li>'0.00'</li><li>'0.00'</li><li>'0.00'</li><li>NA</li><li>'0.00'</li><li>NA</li><li>'0.00'</li><li>NA</li><li>'0.22'</li><li>'0.00'</li><li>NA</li><li>'0.00'</li><li>NA</li><li>'0.02'</li><li>NA</li><li>NA</li><li>'0.00'</li><li>'0.00'</li><li>'0.00'</li><li>NA</li><li>'0.00'</li><li>NA</li><li>NA</li><li>NA</li><li>NA</li><li>NA</li><li>NA</li><li>'0.0'</li><li>'0.02'</li><li>'0.00'</li><li>'0.00'</li><li>'0.00'</li><li>NA</li><li>'0.0'</li><li>'0.00'</li><li>'0.00'</li><li>'0.0'</li><li>'0.00'</li><li>'0.00'</li><li>'0.00'</li><li>NA</li><li>'0.01'</li><li>'0.00'</li><li>'0.00'</li><li>NA</li><li>NA</li><li>'0.00'</li><li>NA</li><li>'0.0'</li><li>'0.00'</li><li>NA</li><li>'0.00'</li><li>'0.00'</li><li>'0.00'</li><li>'0.00'</li><li>'0.24'</li><li>NA</li><li>'0.00'</li><li>'0.03'</li><li>NA</li><li>'0.00'</li><li>NA</li><li>'0.00'</li><li>⋯</li><li>'0.00'</li><li>'0.00'</li><li>'0.00'</li><li>NA</li><li>'0.00'</li><li>'0.00'</li><li>NA</li><li>'0.00'</li><li>NA</li><li>NA</li><li>'0.00'</li><li>NA</li><li>'0.00'</li><li>'0.00'</li><li>NA</li><li>'0.00'</li><li>'0.00'</li><li>'0.00'</li><li>'0.00'</li><li>NA</li><li>'0.00'</li><li>'0.00'</li><li>NA</li><li>'0.00'</li><li>'0.00'</li><li>'0.00'</li><li>NA</li><li>'0.00'</li><li>'0.00'</li><li>'0.00'</li><li>'0.00'</li><li>'0.21'</li><li>'0.00'</li><li>NA</li><li>'0.00'</li><li>'0.00'</li><li>'0.02'</li><li>'0.00'</li><li>NA</li><li>'0.00'</li><li>'0.00'</li><li>'0.00'</li><li>'0.0'</li><li>'0.00'</li><li>'0.00'</li><li>'0.00'</li><li>'0.00'</li><li>'0.00'</li><li>'0.0'</li><li>'0.01'</li><li>'0.00'</li><li>'0.00'</li><li>'0.00'</li><li>'0.01'</li><li>'0.10'</li><li>'0.00'</li><li>'0.00'</li><li>NA</li><li>NA</li><li>'0.00'</li><li>'0.00'</li><li>'0.02'</li><li>'0.01'</li><li>'0.0'</li><li>'0.00'</li><li>NA</li><li>NA</li><li>'0.00'</li><li>NA</li><li>'0.00'</li><li>'0.00'</li><li>'0.00'</li><li>'0.00'</li><li>NA</li><li>'0.00'</li><li>'0.00'</li><li>'0.00'</li><li>'0.00'</li><li>'0.00'</li><li>'0.00'</li><li>'0.00'</li><li>'0.00'</li><li>'0.00'</li><li>'0.00'</li><li>'0.00'</li><li>'0.00'</li><li>'0.0'</li><li>'0.00'</li><li>'0.00'</li><li>'0.0'</li><li>'0.0'</li><li>'0.00'</li><li>'0.00'</li><li>NA</li><li>NA</li><li>NA</li><li>NA</li><li>'0.00'</li><li>'0.03'</li><li>'0.0'</li><li>'0.08'</li><li>NA</li><li>'0.00'</li><li>'0.00'</li><li>'0.0'</li><li>'0.00'</li><li>'0.00'</li><li>'0.00'</li><li>'0.00'</li><li>'0.00'</li><li>'0.00'</li><li>NA</li><li>NA</li><li>NA</li><li>'0.00'</li><li>'0.00'</li><li>'0.00'</li><li>'0.00'</li><li>'0.00'</li><li>NA</li><li>'0.00'</li><li>'0.00'</li><li>'0.00'</li><li>NA</li><li>'0.00'</li><li>NA</li><li>'0.00'</li><li>NA</li><li>'0.00'</li><li>'0.04'</li><li>'0.00'</li><li>NA</li><li>'0.00'</li><li>NA</li><li>NA</li><li>'0.00'</li><li>NA</li><li>'0.00'</li><li>'0.01'</li><li>'0.00'</li><li>'0.0'</li><li>'0.00'</li><li>NA</li><li>NA</li><li>'0.00'</li><li>NA</li><li>NA</li><li>NA</li><li>'0.00'</li><li>'0.00'</li><li>'0.16'</li><li>'0.00'</li><li>'0.00'</li><li>NA</li><li>NA</li><li>NA</li><li>'0.00'</li><li>NA</li><li>'0.00'</li><li>NA</li><li>'0.00'</li><li>'0.00'</li><li>'0.00'</li><li>'0.00'</li><li>'0.00'</li><li>NA</li><li>NA</li><li>'0.00'</li><li>NA</li><li>'0.00'</li><li>'0.0'</li><li>'0.00'</li><li>'0.0'</li><li>'0.00'</li><li>'0.00'</li><li>'0.00'</li><li>'0.00'</li><li>'0.00'</li><li>'0.00'</li><li>'0.02'</li><li>'0.00'</li><li>'0.00'</li><li>NA</li><li>'0.00'</li><li>'0.00'</li><li>'0.00'</li><li>'0.00'</li><li>'0.00'</li><li>'0.0'</li><li>'0.00'</li><li>'0.03'</li><li>'0.00'</li><li>'0.00'</li><li>'0.01'</li><li>'0.00'</li><li>'0.00'</li><li>NA</li><li>'0.00'</li><li>'0.00'</li><li>'0.00'</li></ol>\n"
      ],
      "text/latex": [
       "\\begin{enumerate*}\n",
       "\\item '0.00'\n",
       "\\item '0.00'\n",
       "\\item '0.00'\n",
       "\\item '0.00'\n",
       "\\item '0.0'\n",
       "\\item '0.00'\n",
       "\\item '0.00'\n",
       "\\item '0.00'\n",
       "\\item '0.06'\n",
       "\\item NA\n",
       "\\item NA\n",
       "\\item '0.00'\n",
       "\\item '0.00'\n",
       "\\item '0.00'\n",
       "\\item '0.00'\n",
       "\\item '0.00'\n",
       "\\item '0.00'\n",
       "\\item NA\n",
       "\\item '0.03'\n",
       "\\item NA\n",
       "\\item '0.03'\n",
       "\\item NA\n",
       "\\item '0.00'\n",
       "\\item '0.00'\n",
       "\\item '0.02'\n",
       "\\item NA\n",
       "\\item '0.00'\n",
       "\\item NA\n",
       "\\item '0.0'\n",
       "\\item '0.00'\n",
       "\\item '0.00'\n",
       "\\item NA\n",
       "\\item '0.00'\n",
       "\\item '0.00'\n",
       "\\item '0.00'\n",
       "\\item NA\n",
       "\\item '0.00'\n",
       "\\item '0.00'\n",
       "\\item '0.08'\n",
       "\\item NA\n",
       "\\item '0.0'\n",
       "\\item NA\n",
       "\\item NA\n",
       "\\item '0.00'\n",
       "\\item '0.00'\n",
       "\\item '0.00'\n",
       "\\item '0.01'\n",
       "\\item '0.00'\n",
       "\\item '0.0'\n",
       "\\item NA\n",
       "\\item '0.00'\n",
       "\\item '0.00'\n",
       "\\item NA\n",
       "\\item '0.00'\n",
       "\\item '0.00'\n",
       "\\item NA\n",
       "\\item '0.00'\n",
       "\\item '0.00'\n",
       "\\item '0.00'\n",
       "\\item '0.00'\n",
       "\\item '0.00'\n",
       "\\item NA\n",
       "\\item NA\n",
       "\\item '0.0'\n",
       "\\item '0.00'\n",
       "\\item NA\n",
       "\\item '0.00'\n",
       "\\item '0.00'\n",
       "\\item NA\n",
       "\\item '0.00'\n",
       "\\item '0.00'\n",
       "\\item '0.00'\n",
       "\\item '0.07'\n",
       "\\item NA\n",
       "\\item '0.00'\n",
       "\\item NA\n",
       "\\item '0.00'\n",
       "\\item '0.00'\n",
       "\\item NA\n",
       "\\item NA\n",
       "\\item '0.00'\n",
       "\\item '0.0'\n",
       "\\item '0.0'\n",
       "\\item '0.00'\n",
       "\\item '0.00'\n",
       "\\item NA\n",
       "\\item '0.00'\n",
       "\\item NA\n",
       "\\item NA\n",
       "\\item '0.00'\n",
       "\\item NA\n",
       "\\item NA\n",
       "\\item '0.00'\n",
       "\\item '0.00'\n",
       "\\item '0.0'\n",
       "\\item '0.00'\n",
       "\\item '0.16'\n",
       "\\item '0.00'\n",
       "\\item '0.00'\n",
       "\\item '0.00'\n",
       "\\item '0.00'\n",
       "\\item '0.08'\n",
       "\\item '0.00'\n",
       "\\item '0.00'\n",
       "\\item '0.00'\n",
       "\\item NA\n",
       "\\item '0.00'\n",
       "\\item '0.00'\n",
       "\\item NA\n",
       "\\item NA\n",
       "\\item NA\n",
       "\\item NA\n",
       "\\item '0.00'\n",
       "\\item '0.0'\n",
       "\\item NA\n",
       "\\item '0.00'\n",
       "\\item '0.00'\n",
       "\\item '0.00'\n",
       "\\item '0.09'\n",
       "\\item '0.06'\n",
       "\\item '0.0'\n",
       "\\item '0.00'\n",
       "\\item '0.00'\n",
       "\\item NA\n",
       "\\item NA\n",
       "\\item '0.00'\n",
       "\\item '0.00'\n",
       "\\item NA\n",
       "\\item NA\n",
       "\\item '0.00'\n",
       "\\item '0.00'\n",
       "\\item '0.00'\n",
       "\\item '0.00'\n",
       "\\item '0.00'\n",
       "\\item NA\n",
       "\\item '0.00'\n",
       "\\item '0.00'\n",
       "\\item '0.00'\n",
       "\\item '0.00'\n",
       "\\item '0.00'\n",
       "\\item NA\n",
       "\\item '0.00'\n",
       "\\item NA\n",
       "\\item '0.00'\n",
       "\\item NA\n",
       "\\item '0.22'\n",
       "\\item '0.00'\n",
       "\\item NA\n",
       "\\item '0.00'\n",
       "\\item NA\n",
       "\\item '0.02'\n",
       "\\item NA\n",
       "\\item NA\n",
       "\\item '0.00'\n",
       "\\item '0.00'\n",
       "\\item '0.00'\n",
       "\\item NA\n",
       "\\item '0.00'\n",
       "\\item NA\n",
       "\\item NA\n",
       "\\item NA\n",
       "\\item NA\n",
       "\\item NA\n",
       "\\item NA\n",
       "\\item '0.0'\n",
       "\\item '0.02'\n",
       "\\item '0.00'\n",
       "\\item '0.00'\n",
       "\\item '0.00'\n",
       "\\item NA\n",
       "\\item '0.0'\n",
       "\\item '0.00'\n",
       "\\item '0.00'\n",
       "\\item '0.0'\n",
       "\\item '0.00'\n",
       "\\item '0.00'\n",
       "\\item '0.00'\n",
       "\\item NA\n",
       "\\item '0.01'\n",
       "\\item '0.00'\n",
       "\\item '0.00'\n",
       "\\item NA\n",
       "\\item NA\n",
       "\\item '0.00'\n",
       "\\item NA\n",
       "\\item '0.0'\n",
       "\\item '0.00'\n",
       "\\item NA\n",
       "\\item '0.00'\n",
       "\\item '0.00'\n",
       "\\item '0.00'\n",
       "\\item '0.00'\n",
       "\\item '0.24'\n",
       "\\item NA\n",
       "\\item '0.00'\n",
       "\\item '0.03'\n",
       "\\item NA\n",
       "\\item '0.00'\n",
       "\\item NA\n",
       "\\item '0.00'\n",
       "\\item ⋯\n",
       "\\item '0.00'\n",
       "\\item '0.00'\n",
       "\\item '0.00'\n",
       "\\item NA\n",
       "\\item '0.00'\n",
       "\\item '0.00'\n",
       "\\item NA\n",
       "\\item '0.00'\n",
       "\\item NA\n",
       "\\item NA\n",
       "\\item '0.00'\n",
       "\\item NA\n",
       "\\item '0.00'\n",
       "\\item '0.00'\n",
       "\\item NA\n",
       "\\item '0.00'\n",
       "\\item '0.00'\n",
       "\\item '0.00'\n",
       "\\item '0.00'\n",
       "\\item NA\n",
       "\\item '0.00'\n",
       "\\item '0.00'\n",
       "\\item NA\n",
       "\\item '0.00'\n",
       "\\item '0.00'\n",
       "\\item '0.00'\n",
       "\\item NA\n",
       "\\item '0.00'\n",
       "\\item '0.00'\n",
       "\\item '0.00'\n",
       "\\item '0.00'\n",
       "\\item '0.21'\n",
       "\\item '0.00'\n",
       "\\item NA\n",
       "\\item '0.00'\n",
       "\\item '0.00'\n",
       "\\item '0.02'\n",
       "\\item '0.00'\n",
       "\\item NA\n",
       "\\item '0.00'\n",
       "\\item '0.00'\n",
       "\\item '0.00'\n",
       "\\item '0.0'\n",
       "\\item '0.00'\n",
       "\\item '0.00'\n",
       "\\item '0.00'\n",
       "\\item '0.00'\n",
       "\\item '0.00'\n",
       "\\item '0.0'\n",
       "\\item '0.01'\n",
       "\\item '0.00'\n",
       "\\item '0.00'\n",
       "\\item '0.00'\n",
       "\\item '0.01'\n",
       "\\item '0.10'\n",
       "\\item '0.00'\n",
       "\\item '0.00'\n",
       "\\item NA\n",
       "\\item NA\n",
       "\\item '0.00'\n",
       "\\item '0.00'\n",
       "\\item '0.02'\n",
       "\\item '0.01'\n",
       "\\item '0.0'\n",
       "\\item '0.00'\n",
       "\\item NA\n",
       "\\item NA\n",
       "\\item '0.00'\n",
       "\\item NA\n",
       "\\item '0.00'\n",
       "\\item '0.00'\n",
       "\\item '0.00'\n",
       "\\item '0.00'\n",
       "\\item NA\n",
       "\\item '0.00'\n",
       "\\item '0.00'\n",
       "\\item '0.00'\n",
       "\\item '0.00'\n",
       "\\item '0.00'\n",
       "\\item '0.00'\n",
       "\\item '0.00'\n",
       "\\item '0.00'\n",
       "\\item '0.00'\n",
       "\\item '0.00'\n",
       "\\item '0.00'\n",
       "\\item '0.00'\n",
       "\\item '0.0'\n",
       "\\item '0.00'\n",
       "\\item '0.00'\n",
       "\\item '0.0'\n",
       "\\item '0.0'\n",
       "\\item '0.00'\n",
       "\\item '0.00'\n",
       "\\item NA\n",
       "\\item NA\n",
       "\\item NA\n",
       "\\item NA\n",
       "\\item '0.00'\n",
       "\\item '0.03'\n",
       "\\item '0.0'\n",
       "\\item '0.08'\n",
       "\\item NA\n",
       "\\item '0.00'\n",
       "\\item '0.00'\n",
       "\\item '0.0'\n",
       "\\item '0.00'\n",
       "\\item '0.00'\n",
       "\\item '0.00'\n",
       "\\item '0.00'\n",
       "\\item '0.00'\n",
       "\\item '0.00'\n",
       "\\item NA\n",
       "\\item NA\n",
       "\\item NA\n",
       "\\item '0.00'\n",
       "\\item '0.00'\n",
       "\\item '0.00'\n",
       "\\item '0.00'\n",
       "\\item '0.00'\n",
       "\\item NA\n",
       "\\item '0.00'\n",
       "\\item '0.00'\n",
       "\\item '0.00'\n",
       "\\item NA\n",
       "\\item '0.00'\n",
       "\\item NA\n",
       "\\item '0.00'\n",
       "\\item NA\n",
       "\\item '0.00'\n",
       "\\item '0.04'\n",
       "\\item '0.00'\n",
       "\\item NA\n",
       "\\item '0.00'\n",
       "\\item NA\n",
       "\\item NA\n",
       "\\item '0.00'\n",
       "\\item NA\n",
       "\\item '0.00'\n",
       "\\item '0.01'\n",
       "\\item '0.00'\n",
       "\\item '0.0'\n",
       "\\item '0.00'\n",
       "\\item NA\n",
       "\\item NA\n",
       "\\item '0.00'\n",
       "\\item NA\n",
       "\\item NA\n",
       "\\item NA\n",
       "\\item '0.00'\n",
       "\\item '0.00'\n",
       "\\item '0.16'\n",
       "\\item '0.00'\n",
       "\\item '0.00'\n",
       "\\item NA\n",
       "\\item NA\n",
       "\\item NA\n",
       "\\item '0.00'\n",
       "\\item NA\n",
       "\\item '0.00'\n",
       "\\item NA\n",
       "\\item '0.00'\n",
       "\\item '0.00'\n",
       "\\item '0.00'\n",
       "\\item '0.00'\n",
       "\\item '0.00'\n",
       "\\item NA\n",
       "\\item NA\n",
       "\\item '0.00'\n",
       "\\item NA\n",
       "\\item '0.00'\n",
       "\\item '0.0'\n",
       "\\item '0.00'\n",
       "\\item '0.0'\n",
       "\\item '0.00'\n",
       "\\item '0.00'\n",
       "\\item '0.00'\n",
       "\\item '0.00'\n",
       "\\item '0.00'\n",
       "\\item '0.00'\n",
       "\\item '0.02'\n",
       "\\item '0.00'\n",
       "\\item '0.00'\n",
       "\\item NA\n",
       "\\item '0.00'\n",
       "\\item '0.00'\n",
       "\\item '0.00'\n",
       "\\item '0.00'\n",
       "\\item '0.00'\n",
       "\\item '0.0'\n",
       "\\item '0.00'\n",
       "\\item '0.03'\n",
       "\\item '0.00'\n",
       "\\item '0.00'\n",
       "\\item '0.01'\n",
       "\\item '0.00'\n",
       "\\item '0.00'\n",
       "\\item NA\n",
       "\\item '0.00'\n",
       "\\item '0.00'\n",
       "\\item '0.00'\n",
       "\\end{enumerate*}\n"
      ],
      "text/markdown": [
       "1. '0.00'\n",
       "2. '0.00'\n",
       "3. '0.00'\n",
       "4. '0.00'\n",
       "5. '0.0'\n",
       "6. '0.00'\n",
       "7. '0.00'\n",
       "8. '0.00'\n",
       "9. '0.06'\n",
       "10. NA\n",
       "11. NA\n",
       "12. '0.00'\n",
       "13. '0.00'\n",
       "14. '0.00'\n",
       "15. '0.00'\n",
       "16. '0.00'\n",
       "17. '0.00'\n",
       "18. NA\n",
       "19. '0.03'\n",
       "20. NA\n",
       "21. '0.03'\n",
       "22. NA\n",
       "23. '0.00'\n",
       "24. '0.00'\n",
       "25. '0.02'\n",
       "26. NA\n",
       "27. '0.00'\n",
       "28. NA\n",
       "29. '0.0'\n",
       "30. '0.00'\n",
       "31. '0.00'\n",
       "32. NA\n",
       "33. '0.00'\n",
       "34. '0.00'\n",
       "35. '0.00'\n",
       "36. NA\n",
       "37. '0.00'\n",
       "38. '0.00'\n",
       "39. '0.08'\n",
       "40. NA\n",
       "41. '0.0'\n",
       "42. NA\n",
       "43. NA\n",
       "44. '0.00'\n",
       "45. '0.00'\n",
       "46. '0.00'\n",
       "47. '0.01'\n",
       "48. '0.00'\n",
       "49. '0.0'\n",
       "50. NA\n",
       "51. '0.00'\n",
       "52. '0.00'\n",
       "53. NA\n",
       "54. '0.00'\n",
       "55. '0.00'\n",
       "56. NA\n",
       "57. '0.00'\n",
       "58. '0.00'\n",
       "59. '0.00'\n",
       "60. '0.00'\n",
       "61. '0.00'\n",
       "62. NA\n",
       "63. NA\n",
       "64. '0.0'\n",
       "65. '0.00'\n",
       "66. NA\n",
       "67. '0.00'\n",
       "68. '0.00'\n",
       "69. NA\n",
       "70. '0.00'\n",
       "71. '0.00'\n",
       "72. '0.00'\n",
       "73. '0.07'\n",
       "74. NA\n",
       "75. '0.00'\n",
       "76. NA\n",
       "77. '0.00'\n",
       "78. '0.00'\n",
       "79. NA\n",
       "80. NA\n",
       "81. '0.00'\n",
       "82. '0.0'\n",
       "83. '0.0'\n",
       "84. '0.00'\n",
       "85. '0.00'\n",
       "86. NA\n",
       "87. '0.00'\n",
       "88. NA\n",
       "89. NA\n",
       "90. '0.00'\n",
       "91. NA\n",
       "92. NA\n",
       "93. '0.00'\n",
       "94. '0.00'\n",
       "95. '0.0'\n",
       "96. '0.00'\n",
       "97. '0.16'\n",
       "98. '0.00'\n",
       "99. '0.00'\n",
       "100. '0.00'\n",
       "101. '0.00'\n",
       "102. '0.08'\n",
       "103. '0.00'\n",
       "104. '0.00'\n",
       "105. '0.00'\n",
       "106. NA\n",
       "107. '0.00'\n",
       "108. '0.00'\n",
       "109. NA\n",
       "110. NA\n",
       "111. NA\n",
       "112. NA\n",
       "113. '0.00'\n",
       "114. '0.0'\n",
       "115. NA\n",
       "116. '0.00'\n",
       "117. '0.00'\n",
       "118. '0.00'\n",
       "119. '0.09'\n",
       "120. '0.06'\n",
       "121. '0.0'\n",
       "122. '0.00'\n",
       "123. '0.00'\n",
       "124. NA\n",
       "125. NA\n",
       "126. '0.00'\n",
       "127. '0.00'\n",
       "128. NA\n",
       "129. NA\n",
       "130. '0.00'\n",
       "131. '0.00'\n",
       "132. '0.00'\n",
       "133. '0.00'\n",
       "134. '0.00'\n",
       "135. NA\n",
       "136. '0.00'\n",
       "137. '0.00'\n",
       "138. '0.00'\n",
       "139. '0.00'\n",
       "140. '0.00'\n",
       "141. NA\n",
       "142. '0.00'\n",
       "143. NA\n",
       "144. '0.00'\n",
       "145. NA\n",
       "146. '0.22'\n",
       "147. '0.00'\n",
       "148. NA\n",
       "149. '0.00'\n",
       "150. NA\n",
       "151. '0.02'\n",
       "152. NA\n",
       "153. NA\n",
       "154. '0.00'\n",
       "155. '0.00'\n",
       "156. '0.00'\n",
       "157. NA\n",
       "158. '0.00'\n",
       "159. NA\n",
       "160. NA\n",
       "161. NA\n",
       "162. NA\n",
       "163. NA\n",
       "164. NA\n",
       "165. '0.0'\n",
       "166. '0.02'\n",
       "167. '0.00'\n",
       "168. '0.00'\n",
       "169. '0.00'\n",
       "170. NA\n",
       "171. '0.0'\n",
       "172. '0.00'\n",
       "173. '0.00'\n",
       "174. '0.0'\n",
       "175. '0.00'\n",
       "176. '0.00'\n",
       "177. '0.00'\n",
       "178. NA\n",
       "179. '0.01'\n",
       "180. '0.00'\n",
       "181. '0.00'\n",
       "182. NA\n",
       "183. NA\n",
       "184. '0.00'\n",
       "185. NA\n",
       "186. '0.0'\n",
       "187. '0.00'\n",
       "188. NA\n",
       "189. '0.00'\n",
       "190. '0.00'\n",
       "191. '0.00'\n",
       "192. '0.00'\n",
       "193. '0.24'\n",
       "194. NA\n",
       "195. '0.00'\n",
       "196. '0.03'\n",
       "197. NA\n",
       "198. '0.00'\n",
       "199. NA\n",
       "200. '0.00'\n",
       "201. ⋯\n",
       "202. '0.00'\n",
       "203. '0.00'\n",
       "204. '0.00'\n",
       "205. NA\n",
       "206. '0.00'\n",
       "207. '0.00'\n",
       "208. NA\n",
       "209. '0.00'\n",
       "210. NA\n",
       "211. NA\n",
       "212. '0.00'\n",
       "213. NA\n",
       "214. '0.00'\n",
       "215. '0.00'\n",
       "216. NA\n",
       "217. '0.00'\n",
       "218. '0.00'\n",
       "219. '0.00'\n",
       "220. '0.00'\n",
       "221. NA\n",
       "222. '0.00'\n",
       "223. '0.00'\n",
       "224. NA\n",
       "225. '0.00'\n",
       "226. '0.00'\n",
       "227. '0.00'\n",
       "228. NA\n",
       "229. '0.00'\n",
       "230. '0.00'\n",
       "231. '0.00'\n",
       "232. '0.00'\n",
       "233. '0.21'\n",
       "234. '0.00'\n",
       "235. NA\n",
       "236. '0.00'\n",
       "237. '0.00'\n",
       "238. '0.02'\n",
       "239. '0.00'\n",
       "240. NA\n",
       "241. '0.00'\n",
       "242. '0.00'\n",
       "243. '0.00'\n",
       "244. '0.0'\n",
       "245. '0.00'\n",
       "246. '0.00'\n",
       "247. '0.00'\n",
       "248. '0.00'\n",
       "249. '0.00'\n",
       "250. '0.0'\n",
       "251. '0.01'\n",
       "252. '0.00'\n",
       "253. '0.00'\n",
       "254. '0.00'\n",
       "255. '0.01'\n",
       "256. '0.10'\n",
       "257. '0.00'\n",
       "258. '0.00'\n",
       "259. NA\n",
       "260. NA\n",
       "261. '0.00'\n",
       "262. '0.00'\n",
       "263. '0.02'\n",
       "264. '0.01'\n",
       "265. '0.0'\n",
       "266. '0.00'\n",
       "267. NA\n",
       "268. NA\n",
       "269. '0.00'\n",
       "270. NA\n",
       "271. '0.00'\n",
       "272. '0.00'\n",
       "273. '0.00'\n",
       "274. '0.00'\n",
       "275. NA\n",
       "276. '0.00'\n",
       "277. '0.00'\n",
       "278. '0.00'\n",
       "279. '0.00'\n",
       "280. '0.00'\n",
       "281. '0.00'\n",
       "282. '0.00'\n",
       "283. '0.00'\n",
       "284. '0.00'\n",
       "285. '0.00'\n",
       "286. '0.00'\n",
       "287. '0.00'\n",
       "288. '0.0'\n",
       "289. '0.00'\n",
       "290. '0.00'\n",
       "291. '0.0'\n",
       "292. '0.0'\n",
       "293. '0.00'\n",
       "294. '0.00'\n",
       "295. NA\n",
       "296. NA\n",
       "297. NA\n",
       "298. NA\n",
       "299. '0.00'\n",
       "300. '0.03'\n",
       "301. '0.0'\n",
       "302. '0.08'\n",
       "303. NA\n",
       "304. '0.00'\n",
       "305. '0.00'\n",
       "306. '0.0'\n",
       "307. '0.00'\n",
       "308. '0.00'\n",
       "309. '0.00'\n",
       "310. '0.00'\n",
       "311. '0.00'\n",
       "312. '0.00'\n",
       "313. NA\n",
       "314. NA\n",
       "315. NA\n",
       "316. '0.00'\n",
       "317. '0.00'\n",
       "318. '0.00'\n",
       "319. '0.00'\n",
       "320. '0.00'\n",
       "321. NA\n",
       "322. '0.00'\n",
       "323. '0.00'\n",
       "324. '0.00'\n",
       "325. NA\n",
       "326. '0.00'\n",
       "327. NA\n",
       "328. '0.00'\n",
       "329. NA\n",
       "330. '0.00'\n",
       "331. '0.04'\n",
       "332. '0.00'\n",
       "333. NA\n",
       "334. '0.00'\n",
       "335. NA\n",
       "336. NA\n",
       "337. '0.00'\n",
       "338. NA\n",
       "339. '0.00'\n",
       "340. '0.01'\n",
       "341. '0.00'\n",
       "342. '0.0'\n",
       "343. '0.00'\n",
       "344. NA\n",
       "345. NA\n",
       "346. '0.00'\n",
       "347. NA\n",
       "348. NA\n",
       "349. NA\n",
       "350. '0.00'\n",
       "351. '0.00'\n",
       "352. '0.16'\n",
       "353. '0.00'\n",
       "354. '0.00'\n",
       "355. NA\n",
       "356. NA\n",
       "357. NA\n",
       "358. '0.00'\n",
       "359. NA\n",
       "360. '0.00'\n",
       "361. NA\n",
       "362. '0.00'\n",
       "363. '0.00'\n",
       "364. '0.00'\n",
       "365. '0.00'\n",
       "366. '0.00'\n",
       "367. NA\n",
       "368. NA\n",
       "369. '0.00'\n",
       "370. NA\n",
       "371. '0.00'\n",
       "372. '0.0'\n",
       "373. '0.00'\n",
       "374. '0.0'\n",
       "375. '0.00'\n",
       "376. '0.00'\n",
       "377. '0.00'\n",
       "378. '0.00'\n",
       "379. '0.00'\n",
       "380. '0.00'\n",
       "381. '0.02'\n",
       "382. '0.00'\n",
       "383. '0.00'\n",
       "384. NA\n",
       "385. '0.00'\n",
       "386. '0.00'\n",
       "387. '0.00'\n",
       "388. '0.00'\n",
       "389. '0.00'\n",
       "390. '0.0'\n",
       "391. '0.00'\n",
       "392. '0.03'\n",
       "393. '0.00'\n",
       "394. '0.00'\n",
       "395. '0.01'\n",
       "396. '0.00'\n",
       "397. '0.00'\n",
       "398. NA\n",
       "399. '0.00'\n",
       "400. '0.00'\n",
       "401. '0.00'\n",
       "\n",
       "\n"
      ],
      "text/plain": [
       "   [1] \"0.00\" \"0.00\" \"0.00\" \"0.00\" \"0.0\"  \"0.00\" \"0.00\" \"0.00\" \"0.06\" NA    \n",
       "  [11] NA     \"0.00\" \"0.00\" \"0.00\" \"0.00\" \"0.00\" \"0.00\" NA     \"0.03\" NA    \n",
       "  [21] \"0.03\" NA     \"0.00\" \"0.00\" \"0.02\" NA     \"0.00\" NA     \"0.0\"  \"0.00\"\n",
       "  [31] \"0.00\" NA     \"0.00\" \"0.00\" \"0.00\" NA     \"0.00\" \"0.00\" \"0.08\" NA    \n",
       "  [41] \"0.0\"  NA     NA     \"0.00\" \"0.00\" \"0.00\" \"0.01\" \"0.00\" \"0.0\"  NA    \n",
       "  [51] \"0.00\" \"0.00\" NA     \"0.00\" \"0.00\" NA     \"0.00\" \"0.00\" \"0.00\" \"0.00\"\n",
       "  [61] \"0.00\" NA     NA     \"0.0\"  \"0.00\" NA     \"0.00\" \"0.00\" NA     \"0.00\"\n",
       "  [71] \"0.00\" \"0.00\" \"0.07\" NA     \"0.00\" NA     \"0.00\" \"0.00\" NA     NA    \n",
       "  [81] \"0.00\" \"0.0\"  \"0.0\"  \"0.00\" \"0.00\" NA     \"0.00\" NA     NA     \"0.00\"\n",
       "  [91] NA     NA     \"0.00\" \"0.00\" \"0.0\"  \"0.00\" \"0.16\" \"0.00\" \"0.00\" \"0.00\"\n",
       " [101] \"0.00\" \"0.08\" \"0.00\" \"0.00\" \"0.00\" NA     \"0.00\" \"0.00\" NA     NA    \n",
       " [111] NA     NA     \"0.00\" \"0.0\"  NA     \"0.00\" \"0.00\" \"0.00\" \"0.09\" \"0.06\"\n",
       " [121] \"0.0\"  \"0.00\" \"0.00\" NA     NA     \"0.00\" \"0.00\" NA     NA     \"0.00\"\n",
       " [131] \"0.00\" \"0.00\" \"0.00\" \"0.00\" NA     \"0.00\" \"0.00\" \"0.00\" \"0.00\" \"0.00\"\n",
       " [141] NA     \"0.00\" NA     \"0.00\" NA     \"0.22\" \"0.00\" NA     \"0.00\" NA    \n",
       " [151] \"0.02\" NA     NA     \"0.00\" \"0.00\" \"0.00\" NA     \"0.00\" NA     NA    \n",
       " [161] NA     NA     NA     NA     \"0.0\"  \"0.02\" \"0.00\" \"0.00\" \"0.00\" NA    \n",
       " [171] \"0.0\"  \"0.00\" \"0.00\" \"0.0\"  \"0.00\" \"0.00\" \"0.00\" NA     \"0.01\" \"0.00\"\n",
       " [181] \"0.00\" NA     NA     \"0.00\" NA     \"0.0\"  \"0.00\" NA     \"0.00\" \"0.00\"\n",
       " [191] \"0.00\" \"0.00\" \"0.24\" NA     \"0.00\" \"0.03\" NA     \"0.00\" NA     \"0.00\"\n",
       " [201] \"0.00\" \"0.00\" \"0.00\" \"0.00\" NA     \"0.00\" NA     \"0.00\" \"0.00\" \"0.00\"\n",
       " [211] \"0.0\"  NA     \"0.00\" NA     \"0.0\"  \"0.00\" \"0.00\" \"0.00\" NA     \"0.00\"\n",
       " [221] \"0.00\" \"0.00\" \"0.00\" \"0.00\" \"0.00\" NA     \"0.00\" \"0.00\" \"0.00\" \"0.03\"\n",
       " [231] \"0.00\" NA     NA     \"0.00\" \"0.00\" NA     \"0.00\" NA     \"0.00\" NA    \n",
       " [241] NA     NA     \"0.00\" \"0.00\" \"0.00\" \"0.00\" NA     \"0.00\" \"0.00\" NA    \n",
       " [251] \"0.0\"  NA     \"0.00\" \"0.00\" \"0.01\" \"0.0\"  \"0.00\" NA     \"0.00\" \"0.00\"\n",
       " [261] \"0.00\" NA     \"0.00\" NA     NA     \"0.00\" NA     \"0.00\" NA     \"0.00\"\n",
       " [271] \"0.00\" \"0.00\" NA     \"0.00\" \"0.00\" NA     NA     \"0.00\" NA     NA    \n",
       " [281] \"0.18\" \"0.00\" \"0.00\" \"0.00\" NA     \"0.00\" \"0.00\" \"0.0\"  \"0.00\" \"0.03\"\n",
       " [291] \"0.00\" \"0.0\"  NA     NA     \"0.00\" \"0.00\" NA     NA     \"0.05\" \"0.00\"\n",
       " [301] \"0.03\" \"0.00\" \"0.00\" \"0.00\" \"0.00\" \"0.00\" \"0.00\" NA     \"0.0\"  \"0.00\"\n",
       " [311] \"0.0\"  \"0.00\" NA     \"0.00\" \"0.00\" \"0.00\" \"0.00\" \"0.00\" \"0.00\" NA    \n",
       " [321] NA     \"0.00\" \"0.00\" \"0.0\"  \"0.00\" \"0.00\" \"0.00\" NA     \"0.00\" NA    \n",
       " [331] NA     NA     NA     \"0.00\" \"0.00\" \"0.00\" \"0.06\" \"0.00\" \"0.00\" NA    \n",
       " [341] NA     NA     \"0.00\" \"0.00\" \"0.00\" \"0.00\" NA     \"0.00\" \"0.00\" \"0.0\" \n",
       " [351] NA     \"0.0\"  NA     \"0.00\" \"0.0\"  \"0.00\" \"0.00\" \"0.01\" \"0.00\" NA    \n",
       " [361] \"0.06\" \"0.00\" NA     \"0.00\" \"0.00\" \"0.04\" \"0.09\" \"0.00\" \"0.00\" \"0.00\"\n",
       " [371] \"0.00\" \"0.00\" \"0.00\" NA     NA     NA     NA     \"0.00\" NA     \"0.00\"\n",
       " [381] \"0.00\" NA     NA     \"0.00\" \"0.0\"  \"0.00\" \"0.00\" \"0.00\" \"0.00\" NA    \n",
       " [391] NA     NA     \"0.00\" NA     \"0.00\" \"0.00\" \"0.00\" \"0.00\" \"0.00\" \"0.00\"\n",
       " [401] NA     \"0.00\" \"0.00\" \"0.07\" \"0.0\"  NA     \"0.11\" \"0.00\" \"0.00\" NA    \n",
       " [411] \"0.0\"  \"0.00\" \"0.00\" \"0.00\" \"0.00\" \"0.00\" NA     NA     \"0.00\" NA    \n",
       " [421] \"0.00\" \"0.00\" \"0.00\" \"0.00\" \"0.00\" \"0.00\" \"0.00\" \"0.00\" NA     \"0.00\"\n",
       " [431] \"0.00\" NA     \"0.00\" \"0.00\" NA     \"0.00\" NA     \"0.00\" \"0.00\" \"0.00\"\n",
       " [441] \"0.00\" NA     \"0.00\" NA     NA     \"0.00\" \"0.00\" \"0.00\" \"0.0\"  NA    \n",
       " [451] NA     \"0.00\" \"0.00\" NA     NA     \"0.00\" \"0.00\" NA     \"0.00\" \"0.00\"\n",
       " [461] NA     NA     \"0.00\" \"0.09\" NA     \"0.00\" \"0.00\" NA     NA     NA    \n",
       " [471] \"0.06\" NA     \"0.00\" NA     \"0.00\" NA     \"0.00\" \"0.00\" \"0.00\" \"0.01\"\n",
       " [481] NA     \"0.00\" \"0.01\" \"0.00\" \"0.00\" \"0.00\" \"0.00\" \"0.00\" \"0.00\" \"0.00\"\n",
       " [491] \"0.00\" NA     \"0.00\" \"0.00\" \"0.0\"  NA     \"0.00\" \"0.00\" \"0.00\" \"0.00\"\n",
       " [501] NA     \"0.00\" \"0.00\" \"0.00\" NA     \"0.0\"  NA     NA     \"0.01\" \"0.00\"\n",
       " [511] \"0.00\" \"0.00\" \"0.0\"  \"0.00\" \"0.00\" \"0.00\" NA     NA     \"0.00\" \"0.00\"\n",
       " [521] \"0.00\" \"0.01\" \"0.00\" NA     \"0.00\" NA     \"0.00\" NA     \"0.00\" \"0.00\"\n",
       " [531] \"0.00\" \"0.00\" \"0.00\" NA     \"0.00\" NA     \"0.00\" \"0.00\" \"0.0\"  \"0.0\" \n",
       " [541] NA     \"0.00\" \"0.00\" NA     \"0.00\" \"0.00\" NA     \"0.00\" \"0.00\" NA    \n",
       " [551] \"0.00\" \"0.05\" \"0.00\" NA     NA     \"0.00\" \"0.0\"  NA     \"0.00\" \"0.0\" \n",
       " [561] \"0.00\" \"0.00\" \"0.00\" \"0.00\" \"0.00\" \"0.00\" NA     \"0.00\" \"0.00\" NA    \n",
       " [571] \"0.00\" \"0.00\" \"0.05\" \"0.00\" NA     \"0.00\" \"0.00\" \"0.00\" \"0.0\"  \"0.00\"\n",
       " [581] \"0.00\" \"0.00\" \"0.00\" NA     NA     NA     NA     \"0.0\"  NA     \"0.00\"\n",
       " [591] NA     \"0.0\"  NA     \"0.00\" \"0.00\" NA     \"0.00\" \"0.00\" \"0.00\" \"0.00\"\n",
       " [601] NA     \"0.00\" \"0.00\" NA     \"0.01\" \"0.00\" NA     \"0.00\" NA     \"0.07\"\n",
       " [611] NA     \"0.00\" \"0.00\" NA     \"0.00\" NA     NA     \"0.00\" \"0.00\" \"0.00\"\n",
       " [621] NA     \"0.00\" \"0.00\" \"0.00\" \"0.00\" NA     NA     \"0.05\" NA     \"0.00\"\n",
       " [631] NA     NA     \"0.0\"  \"0.0\"  \"0.0\"  NA     \"0.00\" \"0.00\" \"0.00\" \"0.00\"\n",
       " [641] \"0.04\" \"0.06\" \"0.00\" \"0.00\" \"0.00\" \"0.00\" NA     \"0.00\" \"0.00\" \"0.00\"\n",
       " [651] \"0.00\" NA     \"0.00\" \"0.00\" \"0.00\" \"0.00\" \"0.00\" \"0.00\" \"0.00\" \"0.00\"\n",
       " [661] NA     \"0.00\" \"0.00\" \"0.00\" \"0.00\" \"0.00\" \"0.00\" NA     \"0.00\" \"0.00\"\n",
       " [671] \"0.00\" \"0.00\" \"0.00\" \"0.00\" NA     \"0.00\" \"0.00\" \"0.0\"  \"0.00\" NA    \n",
       " [681] \"0.00\" \"0.00\" \"0.00\" \"0.00\" \"0.00\" NA     NA     \"0.00\" \"0.0\"  \"0.00\"\n",
       " [691] \"0.00\" \"0.00\" \"0.00\" \"0.14\" \"0.00\" NA     \"0.00\" \"0.00\" \"0.00\" \"0.00\"\n",
       " [701] NA     \"0.00\" \"0.00\" NA     \"0.00\" \"0.00\" \"0.00\" \"0.00\" \"0.25\" \"0.0\" \n",
       " [711] \"0.06\" NA     \"0.00\" \"0.00\" \"0.00\" \"0.00\" NA     \"0.00\" NA     \"0.00\"\n",
       " [721] \"0.06\" \"0.00\" \"0.00\" \"0.08\" \"0.00\" \"0.00\" NA     \"0.0\"  \"0.00\" NA    \n",
       " [731] \"0.0\"  \"0.06\" \"0.00\" NA     \"0.00\" \"0.00\" \"0.00\" \"0.01\" \"0.00\" \"0.00\"\n",
       " [741] NA     \"0.00\" \"0.00\" NA     \"0.0\"  NA     \"0.00\" \"0.00\" NA     \"0.00\"\n",
       " [751] \"0.00\" NA     \"0.00\" \"0.00\" \"0.01\" \"0.00\" NA     \"0.00\" \"0.00\" \"0.00\"\n",
       " [761] \"0.00\" \"0.00\" \"0.00\" NA     \"0.00\" \"0.00\" \"0.00\" \"0.00\" \"0.00\" \"0.00\"\n",
       " [771] NA     NA     NA     \"0.00\" \"0.00\" \"0.00\" \"0.0\"  \"0.00\" \"0.00\" NA    \n",
       " [781] \"0.00\" NA     \"0.00\" \"0.00\" \"0.06\" \"0.00\" NA     NA     NA     \"0.0\" \n",
       " [791] \"0.00\" \"0.00\" \"0.10\" \"0.00\" \"0.0\"  \"0.00\" \"0.00\" NA     \"0.00\" NA    \n",
       " [801] \"0.00\" NA     NA     \"0.00\" \"0.00\" \"0.01\" \"0.00\" \"0.09\" \"0.00\" NA    \n",
       " [811] \"0.04\" NA     \"0.0\"  \"0.00\" \"0.00\" \"0.00\" NA     \"0.00\" \"0.00\" \"0.0\" \n",
       " [821] NA     \"0.00\" \"0.00\" NA     \"0.00\" \"0.00\" NA     \"0.00\" NA     \"0.00\"\n",
       " [831] \"0.00\" \"0.00\" NA     \"0.00\" \"0.00\" \"0.00\" \"0.00\" \"0.00\" \"0.0\"  \"0.00\"\n",
       " [841] NA     \"0.00\" NA     \"0.00\" \"0.0\"  NA     \"0.0\"  \"0.00\" \"0.00\" NA    \n",
       " [851] \"0.00\" \"0.00\" \"0.00\" \"0.00\" \"0.00\" \"0.0\"  \"0.00\" \"0.00\" \"0.00\" \"0.00\"\n",
       " [861] NA     \"0.00\" \"0.00\" NA     \"0.00\" \"0.00\" \"0.09\" \"0.00\" \"0.00\" \"0.00\"\n",
       " [871] \"0.11\" \"0.00\" \"0.00\" \"0.00\" \"0.03\" NA     \"0.00\" \"0.0\"  NA     \"0.00\"\n",
       " [881] NA     \"0.00\" \"0.0\"  \"0.00\" \"0.00\" \"0.00\" NA     \"0.00\" NA     \"0.00\"\n",
       " [891] \"0.00\" NA     \"0.00\" \"0.01\" \"0.03\" \"0.00\" \"0.08\" NA     \"0.01\" NA    \n",
       " [901] \"0.05\" \"0.0\"  \"0.0\"  \"0.00\" \"0.00\" \"0.00\" NA     NA     NA     \"0.00\"\n",
       " [911] \"0.06\" \"0.0\"  \"0.00\" \"0.00\" NA     \"0.0\"  NA     \"0.00\" \"0.00\" \"0.00\"\n",
       " [921] NA     \"0.00\" NA     \"0.00\" NA     \"0.00\" \"0.00\" \"0.00\" NA     \"0.00\"\n",
       " [931] NA     \"0.00\" \"0.00\" \"0.58\" \"0.00\" \"0.00\" \"0.00\" \"0.00\" \"0.00\" \"0.01\"\n",
       " [941] \"0.00\" \"0.01\" NA     NA     NA     \"0.00\" \"0.00\" NA     \"0.00\" \"0.00\"\n",
       " [951] \"0.00\" \"0.00\" \"0.06\" NA     \"0.00\" \"0.00\" \"0.02\" NA     \"0.00\" \"0.00\"\n",
       " [961] NA     \"0.00\" NA     \"0.0\"  \"0.00\" \"0.00\" NA     \"0.00\" \"0.0\"  \"0.0\" \n",
       " [971] \"0.00\" \"0.0\"  \"0.00\" \"0.00\" \"0.00\" NA     \"0.00\" \"0.00\" \"0.00\" \"0.18\"\n",
       " [981] NA     \"0.00\" \"0.00\" NA     NA     \"0.0\"  NA     \"0.00\" \"0.00\" \"0.00\"\n",
       " [991] \"0.0\"  \"0.00\" NA     \"0.00\" \"0.00\" \"0.00\" \"0.00\" \"0.00\" \"0.0\"  NA    \n",
       "[1001] \"0.04\" \"0.0\"  \"0.00\" NA     NA     \"0.00\" \"0.00\" \"0.00\" \"0.00\" NA    \n",
       "[1011] NA     NA     NA     \"0.00\" \"0.01\" \"0.00\" NA     NA     \"0.00\" NA    \n",
       "[1021] \"0.00\" NA     \"0.03\" \"0.08\" NA     NA     NA     NA     \"0.0\"  \"0.00\"\n",
       "[1031] NA     NA     \"0.00\" \"0.00\" \"0.00\" \"0.00\" \"0.00\" NA     \"0.00\" NA    \n",
       "[1041] \"0.00\" \"0.00\" NA     NA     \"0.00\" NA     \"0.00\" \"0.01\" NA     \"0.00\"\n",
       "[1051] NA     NA     \"0.00\" \"0.00\" \"0.00\" NA     \"0.00\" \"0.00\" \"0.00\" \"0.00\"\n",
       "[1061] \"0.00\" \"0.00\" \"0.00\" NA     \"0.00\" NA     \"0.00\" NA     \"0.00\" \"0.00\"\n",
       "[1071] \"0.00\" \"0.00\" NA     \"0.08\" \"0.00\" NA     \"0.00\" \"0.00\" NA     \"0.00\"\n",
       "[1081] \"0.00\" \"0.00\" \"0.00\" \"0.00\" \"0.0\"  \"0.00\" NA     \"0.0\"  \"0.00\" \"0.00\"\n",
       "[1091] \"0.00\" \"0.00\" \"0.00\" \"0.00\" NA     NA     \"0.00\" NA     \"0.00\" \"0.00\"\n",
       "[1101] NA     NA     \"0.0\"  \"0.00\" \"0.00\" \"0.0\"  \"0.00\" \"0.00\" \"0.00\" NA    \n",
       "[1111] NA     \"0.00\" NA     \"0.00\" \"0.00\" \"0.00\" \"0.00\" \"0.00\" NA     \"0.00\"\n",
       "[1121] \"0.00\" \"0.0\"  \"0.00\" \"0.00\" \"0.00\" \"0.00\" \"0.00\" NA     NA     NA    \n",
       "[1131] \"0.00\" \"0.00\" \"0.00\" NA     \"0.00\" NA     \"0.00\" NA     \"0.0\"  \"0.00\"\n",
       "[1141] \"0.00\" NA     \"0.00\" NA     NA     NA     \"0.00\" \"0.00\" NA     \"0.00\"\n",
       "[1151] \"0.0\"  \"0.00\" \"0.00\" \"0.0\"  NA     \"0.00\" NA     \"0.00\" \"0.0\"  \"0.00\"\n",
       "[1161] \"0.00\" \"0.00\" \"0.00\" \"0.0\"  NA     \"0.00\" \"0.00\" NA     NA     \"0.00\"\n",
       "[1171] \"0.00\" \"0.00\" \"0.00\" \"0.00\" NA     \"0.00\" \"0.00\" \"0.00\" \"0.00\" \"0.00\"\n",
       "[1181] \"0.00\" \"0.02\" NA     NA     \"0.00\" \"0.00\" \"0.00\" \"0.0\"  NA     \"0.00\"\n",
       "[1191] \"0.01\" NA     \"0.00\" NA     \"0.00\" \"0.00\" \"0.00\" NA     \"0.00\" \"0.00\"\n",
       "[1201] \"0.00\" \"0.00\" \"0.00\" \"0.00\" \"0.00\" \"0.00\" \"0.00\" \"0.00\" \"0.00\" \"0.00\"\n",
       "[1211] NA     \"0.12\" \"0.00\" NA     NA     \"0.00\" \"0.00\" \"0.00\" \"0.00\" \"0.00\"\n",
       "[1221] \"0.00\" NA     \"0.00\" \"0.00\" NA     \"0.04\" \"0.0\"  \"0.00\" NA     \"0.00\"\n",
       "[1231] \"0.01\" \"0.00\" \"0.00\" \"0.00\" NA     \"0.00\" \"0.00\" \"0.0\"  NA     NA    \n",
       "[1241] NA     \"0.00\" \"0.00\" \"0.00\" NA     \"0.00\" NA     \"0.00\" NA     \"0.00\"\n",
       "[1251] \"0.00\" \"0.00\" \"0.00\" NA     \"0.00\" \"0.00\" \"0.00\" NA     \"0.00\" \"0.00\"\n",
       "[1261] \"0.00\" \"0.0\"  \"0.00\" \"0.00\" NA     NA     \"0.00\" NA     \"0.00\" \"0.00\"\n",
       "[1271] \"0.03\" \"0.00\" \"0.00\" \"0.00\" \"0.00\" NA     \"0.00\" \"0.00\" \"0.00\" NA    \n",
       "[1281] \"0.00\" \"0.00\" \"0.00\" \"0.00\" NA     \"0.00\" \"0.00\" \"0.00\" \"0.02\" \"0.00\"\n",
       "[1291] \"0.00\" \"0.00\" \"0.00\" \"0.00\" \"0.01\" \"0.00\" NA     \"0.00\" \"0.00\" \"0.01\"\n",
       "[1301] \"0.00\" \"0.03\" NA     \"0.00\" NA     NA     \"0.00\" \"0.00\" \"0.00\" \"0.0\" \n",
       "[1311] NA     \"0.0\"  \"0.00\" NA     \"0.00\" \"0.00\" NA     NA     \"0.00\" NA    \n",
       "[1321] \"0.00\" \"0.03\" \"0.0\"  \"0.00\" \"0.00\" NA     \"0.00\" NA     \"0.00\" \"0.00\"\n",
       "[1331] NA     NA     \"0.00\" \"0.01\" \"0.00\" \"0.00\" NA     \"0.09\" \"0.00\" NA    \n",
       "[1341] \"0.00\" \"0.0\"  \"0.00\" NA     \"0.0\"  NA     \"0.00\" \"0.00\" \"0.00\" \"0.00\"\n",
       "[1351] \"0.00\" \"0.00\" \"0.00\" \"0.0\"  \"0.00\" NA     \"0.00\" \"0.00\" \"0.00\" \"0.00\"\n",
       "[1361] \"0.0\"  \"0.00\" NA     \"0.00\" NA     \"0.00\" NA     \"0.00\" \"0.00\" \"0.00\"\n",
       "[1371] NA     \"0.00\" \"0.00\" \"0.05\" \"0.00\" \"0.0\"  \"0.00\" \"0.00\" \"0.00\" \"0.00\"\n",
       "[1381] \"0.0\"  \"0.00\" \"0.00\" NA     \"0.09\" \"0.00\" NA     \"0.00\" \"0.01\" \"0.00\"\n",
       "[1391] \"0.00\" \"0.00\" \"0.00\" \"0.00\" \"0.00\" \"0.00\" \"0.00\" NA     NA     NA    \n",
       "[1401] \"0.00\" \"0.00\" NA     \"0.0\"  \"0.00\" \"0.0\"  \"0.00\" \"0.01\" \"0.00\" \"0.0\" \n",
       "[1411] NA     \"0.02\" \"0.00\" \"0.00\" \"0.0\"  NA     \"0.00\" \"0.0\"  \"0.00\" \"0.00\"\n",
       "[1421] \"0.00\" \"0.00\" \"0.00\" \"0.00\" \"0.00\" NA     \"0.0\"  \"0.00\" \"0.0\"  NA    \n",
       "[1431] \"0.00\" NA     \"0.02\" \"0.13\" NA     NA     \"0.00\" \"0.00\" \"0.00\" \"0.0\" \n",
       "[1441] NA     \"0.00\" \"0.00\" \"0.00\" NA     \"0.00\" NA     \"0.00\" \"0.00\" NA    \n",
       "[1451] \"0.00\" \"0.00\" NA     NA     \"0.00\" \"0.18\" \"0.00\" NA     \"0.0\"  \"0.00\"\n",
       "[1461] \"0.0\"  \"0.00\" \"0.00\" \"0.00\" NA     \"0.01\" \"0.00\" \"0.00\" \"0.00\" \"0.00\"\n",
       "[1471] \"0.00\" \"0.00\" \"0.00\" \"0.00\" NA     \"0.00\" \"0.00\" NA     \"0.00\" \"0.00\"\n",
       "[1481] \"0.02\" \"0.00\" NA     NA     \"0.00\" \"0.00\" \"0.00\" \"0.00\" \"0.00\" NA    \n",
       "[1491] NA     \"0.16\" \"0.00\" \"0.00\" \"0.0\"  NA     \"0.00\" \"0.0\"  \"0.00\" \"0.11\"\n",
       "[1501] \"0.00\" \"0.00\" \"0.00\" NA     \"0.00\" \"0.00\" \"0.00\" \"0.00\" NA     \"0.00\"\n",
       "[1511] NA     \"0.00\" \"0.00\" NA     \"0.01\" \"0.00\" \"0.00\" \"0.00\" \"0.00\" \"0.03\"\n",
       "[1521] \"0.00\" \"0.00\" \"0.04\" \"0.0\"  \"0.00\" NA     \"0.0\"  NA     \"0.00\" \"0.00\"\n",
       "[1531] \"0.0\"  NA     \"0.00\" \"0.00\" \"0.0\"  NA     NA     NA     \"0.00\" \"0.00\"\n",
       "[1541] NA     NA     \"0.0\"  \"0.0\"  NA     \"0.00\" \"0.00\" \"0.00\" \"0.00\" \"0.00\"\n",
       "[1551] \"0.00\" \"0.00\" \"0.00\" \"0.00\" \"0.03\" \"0.00\" NA     NA     \"0.00\" \"0.0\" \n",
       "[1561] \"0.00\" NA     NA     NA     NA     \"0.00\" \"0.0\"  NA     \"0.03\" NA    \n",
       "[1571] NA     NA     NA     \"0.00\" \"0.00\" NA     \"0.0\"  NA     NA     \"0.0\" \n",
       "[1581] \"0.00\" \"0.00\" \"0.00\" NA     NA     NA     NA     \"0.00\" \"0.00\" \"0.0\" \n",
       "[1591] NA     \"0.00\" \"0.00\" \"0.01\" \"0.00\" \"0.00\" \"0.00\" \"0.00\" NA     \"0.00\"\n",
       "[1601] \"0.0\"  \"0.00\" \"0.00\" \"0.00\" NA     NA     \"0.00\" \"0.00\" \"0.00\" \"0.00\"\n",
       "[1611] \"0.00\" NA     NA     \"0.00\" \"0.00\" \"0.00\" \"0.00\" \"0.00\" \"0.00\" NA    \n",
       "[1621] \"0.00\" \"0.00\" \"0.00\" \"0.00\" \"0.00\" NA     \"0.0\"  \"0.00\" \"0.00\" \"0.00\"\n",
       "[1631] \"0.00\" NA     \"0.00\" NA     \"0.00\" \"0.00\" \"0.00\" \"0.00\" \"0.00\" NA    \n",
       "[1641] \"0.00\" \"0.00\" \"0.00\" \"0.00\" \"0.00\" \"0.01\" \"0.00\" \"0.00\" \"0.00\" \"0.00\"\n",
       "[1651] \"0.0\"  \"0.00\" NA     \"0.04\" \"0.00\" \"0.00\" \"0.00\" \"0.0\"  \"0.00\" \"0.00\"\n",
       "[1661] \"0.00\" \"0.00\" NA     \"0.00\" \"0.00\" NA     \"0.10\" \"0.00\" \"0.00\" \"0.00\"\n",
       "[1671] \"0.00\" \"0.00\" \"0.00\" \"0.00\" \"0.00\" \"0.00\" \"0.00\" \"0.0\"  NA     NA    \n",
       "[1681] NA     \"0.06\" NA     \"0.00\" NA     NA     NA     NA     \"0.00\" \"0.0\" \n",
       "[1691] \"0.00\" NA     NA     NA     \"0.00\" \"0.00\" \"0.00\" \"0.00\" NA     \"0.00\"\n",
       "[1701] NA     \"0.00\" \"0.00\" \"0.0\"  NA     \"0.00\" \"0.01\" \"0.00\" \"0.00\" \"0.00\"\n",
       "[1711] \"0.00\" NA     \"0.00\" \"0.00\" \"0.00\" \"0.00\" NA     \"0.00\" \"0.00\" \"0.00\"\n",
       "[1721] NA     \"0.00\" NA     \"0.00\" \"0.00\" \"0.00\" \"0.00\" NA     \"0.00\" \"0.12\"\n",
       "[1731] \"0.00\" \"0.00\" \"0.00\" NA     NA     \"0.00\" \"0.00\" NA     \"0.0\"  \"0.06\"\n",
       "[1741] NA     \"0.00\" \"0.00\" \"0.16\" \"0.0\"  \"0.00\" \"0.00\" \"0.00\" \"0.00\" \"0.00\"\n",
       "[1751] \"0.00\" \"0.00\" \"0.00\" \"0.00\" NA     \"0.00\" \"0.00\" NA     \"0.06\" \"0.00\"\n",
       "[1761] NA     \"0.00\" \"0.00\" NA     \"0.01\" \"0.00\" \"0.00\" \"0.00\" \"0.08\" NA    \n",
       "[1771] NA     \"0.00\" \"0.00\" NA     NA     NA     NA     NA     \"0.0\"  \"0.00\"\n",
       "[1781] NA     \"0.00\" \"0.00\" \"0.00\" NA     \"0.0\"  \"0.00\" NA     \"0.00\" \"0.00\"\n",
       "[1791] \"0.00\" NA     NA     \"0.00\" NA     \"0.00\" NA     \"0.00\" \"0.00\" \"0.00\"\n",
       "[1801] \"0.00\" \"0.0\"  NA     NA     NA     \"0.00\" NA     \"0.00\" \"0.00\" \"0.00\"\n",
       "[1811] NA     \"0.00\" \"0.00\" \"0.00\" \"0.00\" NA     \"0.00\" \"0.00\" \"0.03\" NA    \n",
       "[1821] \"0.00\" \"0.00\" NA     \"0.00\" \"0.00\" \"0.0\"  NA     \"0.00\" \"0.00\" \"0.00\"\n",
       "[1831] \"0.00\" NA     \"0.00\" \"0.00\" \"0.00\" \"0.00\" NA     \"0.00\" NA     \"0.00\"\n",
       "[1841] \"0.00\" \"0.00\" \"0.00\" NA     \"0.00\" NA     \"0.11\" \"0.00\" \"0.00\" \"0.00\"\n",
       "[1851] NA     \"0.00\" \"0.00\" \"0.06\" \"0.00\" \"0.00\" NA     \"0.46\" NA     NA    \n",
       "[1861] \"0.00\" \"0.00\" \"0.02\" \"0.0\"  NA     NA     \"0.02\" \"0.00\" NA     \"0.00\"\n",
       "[1871] \"0.00\" \"0.00\" \"0.00\" NA     \"0.00\" NA     \"0.00\" \"0.00\" \"0.00\" NA    \n",
       "[1881] \"0.00\" \"0.00\" \"0.00\" \"0.00\" \"0.00\" \"0.0\"  \"0.00\" \"0.00\" \"0.01\" \"0.00\"\n",
       "[1891] \"0.00\" NA     \"0.00\" \"0.00\" \"0.01\" NA     \"0.00\" \"0.00\" \"0.00\" \"0.00\"\n",
       "[1901] NA     \"0.00\" \"0.00\" \"0.00\" \"0.00\" \"0.00\" \"0.00\" \"0.00\" \"0.00\" \"0.0\" \n",
       "[1911] \"0.00\" NA     \"0.0\"  NA     \"0.01\" \"0.00\" \"0.0\"  \"0.00\" \"0.00\" NA    \n",
       "[1921] NA     NA     \"0.00\" \"0.0\"  NA     \"0.00\" \"0.0\"  \"0.00\" \"0.00\" \"0.00\"\n",
       "[1931] \"0.00\" \"0.00\" \"0.00\" NA     \"0.00\" \"0.00\" \"0.00\" \"0.00\" \"0.02\" \"0.00\"\n",
       "[1941] \"0.00\" NA     \"0.00\" NA     \"0.00\" \"0.0\"  \"0.00\" \"0.00\" NA     \"0.00\"\n",
       "[1951] \"0.03\" \"0.00\" NA     NA     \"0.0\"  \"0.00\" NA     \"0.00\" \"0.00\" \"0.00\"\n",
       "[1961] \"0.00\" \"0.00\" \"0.00\" \"0.00\" \"0.00\" NA     \"0.0\"  \"0.00\" \"0.00\" \"0.00\"\n",
       "[1971] NA     \"0.00\" \"0.00\" \"0.00\" \"0.00\" \"0.01\" \"0.00\" \"0.00\" \"0.00\" \"0.00\"\n",
       "[1981] \"0.00\" \"0.0\"  \"0.00\" \"0.00\" \"0.00\" \"0.00\" \"0.00\" \"0.00\" \"0.00\" \"0.00\"\n",
       "[1991] \"0.00\" NA     \"0.0\"  NA     \"0.00\" NA     \"0.00\" \"0.00\" \"0.00\" \"0.00\"\n",
       "[2001] \"0.00\" \"0.00\" \"0.01\" \"0.00\" NA     \"0.00\" \"0.00\" NA     NA     NA    \n",
       "[2011] \"0.00\" \"0.02\" \"0.00\" \"0.0\"  \"0.00\" \"0.00\" \"0.00\" NA     NA     NA    \n",
       "[2021] \"0.00\" \"0.00\" \"0.00\" NA     NA     \"0.00\" NA     \"0.00\" \"0.00\" NA    \n",
       "[2031] \"0.00\" \"0.0\"  \"0.00\" \"0.00\" NA     NA     \"0.00\" NA     \"0.0\"  \"0.00\"\n",
       "[2041] \"0.00\" \"0.00\" NA     \"0.00\" \"0.00\" \"0.02\" \"0.00\" \"0.00\" NA     \"0.00\"\n",
       "[2051] \"0.00\" NA     \"0.00\" \"0.00\" \"0.00\" \"0.00\" \"0.00\" NA     NA     NA    \n",
       "[2061] NA     \"0.00\" \"0.00\" \"0.00\" \"0.00\" \"0.00\" NA     NA     NA     \"0.00\"\n",
       "[2071] \"0.00\" NA     \"0.00\" NA     NA     \"0.00\" \"0.00\" \"0.00\" NA     NA    \n",
       "[2081] \"0.00\" \"0.00\" \"0.00\" NA     \"0.00\" \"0.00\" NA     \"0.00\" NA     \"0.00\"\n",
       "[2091] \"0.00\" \"0.00\" NA     \"0.00\" \"0.00\" \"0.00\" NA     \"0.00\" \"0.00\" NA    \n",
       "[2101] \"0.00\" \"0.0\"  NA     NA     \"0.01\" \"0.0\"  \"0.01\" \"0.00\" \"0.00\" \"0.00\"\n",
       "[2111] NA     \"0.00\" NA     \"0.00\" NA     NA     \"0.00\" \"0.00\" \"0.00\" \"0.00\"\n",
       "[2121] \"0.0\"  NA     \"0.00\" \"0.01\" \"0.00\" \"0.00\" \"0.00\" \"0.00\" \"0.01\" \"0.00\"\n",
       "[2131] \"0.00\" NA     \"0.00\" \"0.00\" NA     NA     \"0.00\" \"0.00\" NA     NA    \n",
       "[2141] \"0.00\" NA     \"0.00\" \"0.00\" \"0.0\"  \"0.00\" \"0.00\" \"0.00\" \"0.00\" \"0.00\"\n",
       "[2151] \"0.00\" NA     NA     \"0.00\" NA     \"0.00\" \"0.06\" NA     NA     \"0.00\"\n",
       "[2161] NA     \"0.00\" \"0.00\" NA     \"0.00\" NA     \"0.00\" \"0.00\" NA     NA    \n",
       "[2171] \"0.00\" \"0.00\" \"0.00\" NA     \"0.01\" \"0.00\" NA     \"0.00\" \"0.00\" NA    \n",
       "[2181] \"0.00\" \"0.00\" \"0.00\" \"0.00\" \"0.00\" \"0.00\" \"0.00\" NA     \"1.07\" NA    \n",
       "[2191] \"0.00\" \"0.00\" \"0.00\" \"0.00\" NA     \"0.00\" \"0.00\" \"0.01\" \"0.00\" \"0.00\"\n",
       "[2201] \"0.00\" \"0.00\" \"0.00\" \"0.00\" \"0.00\" NA     NA     \"0.00\" \"0.00\" \"0.00\"\n",
       "[2211] \"0.00\" NA     \"0.00\" NA     \"0.00\" \"0.08\" \"0.00\" NA     \"0.00\" \"0.00\"\n",
       "[2221] \"0.00\" \"0.0\"  NA     \"0.00\" \"0.00\" \"0.00\" \"0.0\"  \"0.00\" \"0.00\" NA    \n",
       "[2231] NA     NA     \"0.00\" \"0.00\" \"0.0\"  \"0.0\"  \"0.00\" \"0.00\" \"0.00\" \"0.00\"\n",
       "[2241] \"0.0\"  NA     \"0.00\" \"0.00\" \"0.0\"  \"0.00\" \"0.00\" \"0.00\" \"0.0\"  \"0.00\"\n",
       "[2251] \"0.01\" \"0.01\" \"0.00\" NA     \"0.0\"  NA     NA     NA     \"0.00\" NA    \n",
       "[2261] NA     \"0.00\" NA     \"0.0\"  \"0.00\" \"0.00\" \"0.0\"  \"0.00\" NA     \"0.00\"\n",
       "[2271] \"0.00\" \"0.00\" \"0.00\" \"0.00\" NA     NA     \"0.00\" \"0.00\" NA     \"0.00\"\n",
       "[2281] \"0.00\" \"0.00\" \"0.00\" \"0.00\" \"0.00\" \"0.00\" \"0.00\" \"0.00\" \"0.00\" NA    \n",
       "[2291] NA     \"0.00\" NA     NA     \"0.00\" \"0.00\" NA     \"0.00\" NA     \"0.00\"\n",
       "[2301] \"0.00\" NA     NA     NA     NA     NA     \"0.00\" \"0.00\" NA     NA    \n",
       "[2311] \"0.00\" NA     NA     \"0.0\"  \"0.00\" \"0.00\" \"0.00\" NA     \"0.00\" \"0.00\"\n",
       "[2321] \"0.00\" \"0.02\" \"0.00\" \"0.00\" NA     \"0.00\" \"0.00\" \"0.00\" \"0.00\" \"0.00\"\n",
       "[2331] \"0.14\" \"0.00\" \"0.00\" NA     \"0.00\" NA     NA     \"0.00\" NA     NA    \n",
       "[2341] \"0.00\" \"0.00\" \"0.00\" \"1.19\" NA     \"0.0\"  \"0.00\" NA     \"0.00\" NA    \n",
       "[2351] NA     NA     NA     \"0.00\" \"0.0\"  \"0.00\" \"0.00\" \"0.0\"  NA     \"0.00\"\n",
       "[2361] \"0.00\" \"0.00\" NA     \"0.00\" \"0.00\" NA     \"0.0\"  \"0.00\" \"0.00\" \"0.00\"\n",
       "[2371] \"0.00\" \"0.00\" \"0.00\" \"0.00\" NA     NA     NA     \"0.00\" \"0.00\" NA    \n",
       "[2381] \"0.00\" NA     \"0.00\" \"0.00\" \"0.00\" \"0.00\" \"0.00\" \"0.0\"  \"0.00\" \"0.00\"\n",
       "[2391] \"0.00\" \"0.0\"  \"0.00\" NA     \"0.00\" \"0.00\" \"0.00\" \"0.00\" NA     NA    \n",
       "[2401] NA     NA     \"0.00\" \"0.0\"  \"0.00\" NA     NA     NA     \"0.0\"  NA    \n",
       "[2411] \"0.00\" NA     NA     \"0.0\"  \"0.00\" NA     \"0.00\" \"0.00\" \"0.00\" \"0.00\"\n",
       "[2421] \"0.00\" NA     \"0.00\" \"0.00\" \"0.00\" \"0.00\" \"0.00\" \"0.00\" \"0.00\" \"0.00\"\n",
       "[2431] \"0.00\" \"0.00\" NA     \"0.00\" \"0.00\" \"0.00\" NA     \"0.00\" \"0.00\" \"0.00\"\n",
       "[2441] \"0.00\" NA     NA     \"0.00\" \"0.00\" \"0.00\" NA     \"0.00\" \"0.00\" \"0.00\"\n",
       "[2451] \"0.00\" \"0.00\" \"0.02\" \"0.00\" \"0.03\" NA     NA     \"0.02\" NA     \"0.00\"\n",
       "[2461] NA     \"0.00\" \"0.0\"  NA     NA     \"0.00\" \"0.0\"  \"0.00\" NA     \"0.00\"\n",
       "[2471] \"0.01\" NA     NA     \"0.00\" \"0.00\" \"0.00\" NA     \"0.00\" NA     \"0.00\"\n",
       "[2481] \"0.00\" \"0.00\" NA     \"0.08\" NA     NA     \"0.00\" \"0.00\" NA     NA    \n",
       "[2491] \"0.00\" \"0.00\" NA     \"0.06\" \"0.00\" \"0.00\" \"0.0\"  \"0.00\" \"0.00\" NA    \n",
       "[2501] NA     \"0.00\" \"0.00\" NA     \"0.0\"  NA     \"0.00\" NA     \"0.00\" NA    \n",
       "[2511] \"0.00\" \"0.04\" \"0.00\" \"0.00\" \"0.00\" NA     \"0.00\" NA     NA     NA    \n",
       "[2521] \"0.00\" \"0.00\" \"0.00\" NA     \"0.00\" \"0.00\" \"0.00\" \"0.00\" \"0.00\" \"0.0\" \n",
       "[2531] \"0.34\" NA     NA     \"0.00\" NA     NA     \"0.00\" \"0.00\" NA     NA    \n",
       "[2541] \"0.00\" \"0.0\"  NA     \"0.00\" NA     \"0.02\" NA     NA     \"0.00\" \"0.0\" \n",
       "[2551] \"0.00\" \"0.00\" \"0.00\" \"0.00\" \"0.00\" \"0.0\"  \"0.00\" \"0.00\" \"0.05\" \"0.00\"\n",
       "[2561] \"0.00\" NA     \"0.00\" NA     NA     \"0.00\" \"0.00\" NA     NA     \"0.00\"\n",
       "[2571] \"0.00\" NA     \"0.00\" \"0.00\" \"0.01\" \"0.00\" \"0.00\" \"0.00\" \"0.00\" NA    \n",
       "[2581] NA     \"0.00\" \"0.20\" \"0.00\" \"0.00\" \"0.00\" \"0.00\" \"0.00\" \"0.00\" \"0.03\"\n",
       "[2591] \"0.00\" NA     \"0.00\" \"0.00\" \"0.36\" \"0.00\" NA     \"0.00\" \"0.00\" \"0.00\"\n",
       "[2601] NA     NA     \"0.02\" \"0.00\" NA     \"0.00\" \"0.00\" \"0.0\"  \"0.00\" NA    \n",
       "[2611] \"0.00\" \"0.00\" NA     \"0.00\" NA     \"0.00\" \"0.01\" NA     NA     \"0.00\"\n",
       "[2621] \"0.0\"  NA     \"0.00\" \"0.00\" NA     NA     \"0.00\" \"0.00\" \"0.00\" NA    \n",
       "[2631] NA     \"0.0\"  \"0.00\" \"0.00\" NA     \"0.00\" NA     \"0.00\" \"0.00\" \"0.0\" \n",
       "[2641] \"0.00\" \"0.00\" \"0.00\" NA     \"0.00\" \"0.00\" NA     \"0.00\" \"0.0\"  \"0.18\"\n",
       "[2651] \"0.00\" \"0.00\" NA     NA     \"0.0\"  \"0.00\" \"0.05\" NA     \"0.00\" \"0.00\"\n",
       "[2661] \"0.0\"  \"0.00\" \"0.00\" \"0.00\" \"0.00\" \"0.0\"  \"0.0\"  NA     \"0.00\" \"0.00\"\n",
       "[2671] NA     \"0.00\" NA     NA     \"0.13\" NA     NA     \"0.00\" \"0.00\" NA    \n",
       "[2681] \"0.00\" NA     \"0.00\" \"0.00\" \"0.00\" \"0.42\" NA     NA     NA     \"0.00\"\n",
       "[2691] \"0.0\"  \"0.00\" \"0.00\" NA     \"0.00\" NA     \"0.00\" \"0.00\" \"0.00\" NA    \n",
       "[2701] NA     NA     \"0.0\"  NA     \"0.00\" \"0.00\" NA     \"0.00\" \"0.00\" \"0.00\"\n",
       "[2711] \"0.00\" NA     \"0.00\" \"0.0\"  \"0.00\" NA     \"0.00\" \"0.0\"  \"0.00\" NA    \n",
       "[2721] \"0.00\" \"0.00\" \"0.00\" \"0.00\" \"0.00\" NA     \"0.00\" \"0.09\" \"0.0\"  NA    \n",
       "[2731] \"0.00\" \"0.00\" \"0.00\" \"0.00\" \"0.00\" \"0.00\" NA     NA     \"0.00\" \"0.00\"\n",
       "[2741] \"0.00\" \"0.00\" NA     \"0.00\" \"0.00\" \"0.02\" \"0.00\" NA     \"0.00\" \"0.0\" \n",
       "[2751] NA     \"0.10\" \"0.00\" \"0.03\" \"0.00\" \"0.00\" NA     \"0.00\" \"0.00\" \"0.00\"\n",
       "[2761] \"0.04\" \"0.08\" \"0.17\" \"0.0\"  \"0.00\" \"0.00\" \"0.00\" \"0.00\" \"0.00\" \"0.0\" \n",
       "[2771] \"0.0\"  \"0.00\" \"0.00\" \"0.00\" NA     NA     NA     NA     \"0.0\"  NA    \n",
       "[2781] \"0.00\" NA     NA     \"0.00\" NA     \"0.00\" \"0.00\" \"0.00\" \"0.00\" \"0.00\"\n",
       "[2791] \"0.02\" NA     \"0.00\" \"0.00\" \"0.00\" \"0.00\" NA     \"0.01\" \"0.00\" \"0.00\"\n",
       "[2801] \"0.02\" \"0.02\" \"0.0\"  \"0.00\" NA     NA     \"0.05\" \"0.00\" \"0.00\" \"0.00\"\n",
       "[2811] \"0.00\" \"0.00\" \"0.0\"  \"0.00\" \"0.00\" \"0.08\" \"0.00\" \"0.00\" \"0.00\" NA    \n",
       "[2821] \"0.0\"  \"0.00\" NA     \"0.00\" \"0.00\" NA     NA     \"0.27\" \"0.00\" NA    \n",
       "[2831] \"0.00\" \"0.00\" \"0.00\" \"0.00\" NA     \"0.00\" \"0.00\" \"0.00\" \"0.00\" \"0.0\" \n",
       "[2841] \"0.00\" NA     \"0.00\" NA     NA     \"0.00\" NA     NA     \"0.00\" \"0.00\"\n",
       "[2851] \"0.00\" NA     \"0.00\" NA     NA     \"0.06\" NA     NA     \"0.00\" NA    \n",
       "[2861] \"0.00\" \"0.00\" \"0.00\" NA     NA     \"0.00\" \"0.0\"  NA     NA     \"0.00\"\n",
       "[2871] \"0.00\" \"0.00\" \"0.00\" \"0.00\" NA     NA     NA     \"0.00\" \"0.00\" NA    \n",
       "[2881] \"0.00\" \"0.00\" \"0.00\" \"0.00\" \"0.00\" \"0.00\" \"0.00\" NA     \"0.0\"  \"0.02\"\n",
       "[2891] NA     \"0.00\" NA     \"0.00\" \"0.0\"  NA     NA     \"0.00\" \"0.00\" \"0.00\"\n",
       "[2901] NA     \"0.0\"  \"0.00\" \"0.00\" \"0.00\" NA     \"0.0\"  \"0.00\" \"0.00\" NA    \n",
       "[2911] NA     \"0.00\" \"0.01\" \"0.00\" \"0.00\" \"0.00\" \"0.00\" \"0.09\" NA     NA    \n",
       "[2921] \"0.00\" \"0.00\" NA     \"0.00\" NA     \"0.0\"  \"0.00\" NA     NA     \"0.04\"\n",
       "[2931] NA     \"0.00\" NA     \"0.00\" NA     NA     \"0.00\" \"0.00\" \"0.0\"  \"0.00\"\n",
       "[2941] \"0.00\" \"0.00\" \"0.00\" NA     \"0.00\" NA     \"0.00\" \"0.0\"  \"0.00\" \"0.00\"\n",
       "[2951] NA     NA     \"0.35\" NA     \"0.00\" \"0.00\" \"0.00\" \"0.00\" NA     \"0.00\"\n",
       "[2961] \"0.04\" \"0.00\" \"0.02\" NA     \"0.00\" NA     \"0.00\" \"0.00\" \"0.00\" NA    \n",
       "[2971] \"0.00\" \"0.03\" \"0.00\" \"0.00\" NA     \"0.00\" \"0.00\" NA     \"0.00\" \"0.00\"\n",
       "[2981] \"0.00\" \"0.00\" \"0.00\" \"0.00\" \"0.00\" NA     NA     \"0.00\" NA     \"0.0\" \n",
       "[2991] \"0.01\" \"0.00\" NA     NA     NA     NA     \"0.07\" \"0.00\" \"0.00\" NA    \n",
       "[3001] \"0.00\" \"0.00\" \"0.00\" \"0.00\" \"0.0\"  NA     \"0.00\" \"0.00\" NA     \"0.00\"\n",
       "[3011] NA     \"0.0\"  \"0.00\" \"0.00\" NA     \"0.00\" \"0.00\" NA     \"0.00\" \"0.00\"\n",
       "[3021] \"0.00\" NA     \"0.0\"  \"0.02\" \"0.00\" NA     NA     NA     \"0.00\" \"0.00\"\n",
       "[3031] NA     \"0.00\" NA     NA     \"0.0\"  \"0.00\" \"0.00\" NA     \"0.31\" \"0.0\" \n",
       "[3041] \"0.00\" \"0.00\" \"0.00\" NA     \"0.00\" \"0.00\" NA     \"0.00\" \"0.00\" \"0.00\"\n",
       "[3051] NA     \"0.00\" NA     NA     \"0.00\" \"0.00\" \"0.01\" \"0.00\" \"0.00\" \"0.00\"\n",
       "[3061] NA     \"0.00\" \"0.00\" \"0.00\" \"0.00\" NA     NA     NA     NA     \"0.01\"\n",
       "[3071] \"0.00\" \"0.00\" \"0.00\" \"0.00\" NA     \"0.00\" \"0.00\" NA     \"0.00\" \"0.01\"\n",
       "[3081] \"0.0\"  \"0.00\" \"0.00\" \"0.00\" NA     NA     \"0.00\" \"0.00\" \"0.00\" \"0.00\"\n",
       "[3091] \"0.00\" NA     \"0.00\" \"0.00\" \"0.00\" \"0.00\" NA     NA     \"0.00\" NA    \n",
       "[3101] \"0.00\" \"0.00\" NA     \"0.00\" NA     \"0.0\"  NA     \"0.00\" \"0.00\" NA    \n",
       "[3111] NA     NA     \"0.01\" \"0.00\" \"0.00\" \"0.00\" \"0.01\" \"0.01\" \"0.00\" NA    \n",
       "[3121] NA     \"0.00\" \"0.00\" NA     \"0.00\" \"0.00\" NA     \"0.0\"  \"0.00\" NA    \n",
       "[3131] \"0.05\" \"0.02\" \"0.00\" \"0.00\" \"0.00\" \"0.00\" NA     \"0.05\" \"0.0\"  NA    \n",
       "[3141] \"0.00\" \"0.00\" NA     \"0.00\" \"0.00\" \"0.00\" \"0.00\" \"0.00\" NA     \"0.0\" \n",
       "[3151] NA     NA     \"0.00\" \"0.00\" \"0.00\" NA     \"0.00\" \"0.00\" \"0.00\" \"0.02\"\n",
       "[3161] \"0.00\" NA     \"0.00\" \"0.00\" \"0.00\" \"0.0\"  \"0.00\" \"0.01\" \"0.00\" NA    \n",
       "[3171] \"0.00\" \"0.00\" NA     NA     \"0.00\" \"0.00\" NA     NA     \"0.00\" \"0.00\"\n",
       "[3181] \"0.00\" \"0.00\" \"0.00\" \"0.00\" \"0.00\" \"0.00\" \"0.00\" NA     NA     \"0.00\"\n",
       "[3191] \"0.00\" \"0.00\" NA     \"0.00\" \"0.00\" NA     \"0.00\" NA     \"0.00\" \"0.00\"\n",
       "[3201] \"0.00\" \"0.0\"  \"0.00\" NA     \"0.00\" NA     NA     \"0.00\" NA     \"0.00\"\n",
       "[3211] NA     NA     \"0.00\" \"0.00\" \"0.00\" NA     NA     \"0.00\" \"0.00\" \"0.00\"\n",
       "[3221] \"0.00\" \"0.00\" NA     NA     NA     \"0.00\" \"0.00\" \"0.00\" \"0.00\" \"0.0\" \n",
       "[3231] \"0.00\" \"0.00\" NA     NA     \"0.00\" NA     \"0.00\" \"0.00\" \"0.00\" \"0.00\"\n",
       "[3241] \"0.00\" \"0.00\" \"0.00\" \"0.00\" \"0.00\" NA     NA     NA     \"0.0\"  \"0.00\"\n",
       "[3251] \"0.01\" \"0.00\" \"0.00\" \"0.00\" NA     \"0.00\" \"0.00\" \"0.00\" \"0.0\"  \"0.00\"\n",
       "[3261] NA     \"0.00\" \"0.00\" NA     \"0.00\" \"0.00\" \"0.00\" \"0.00\" \"0.00\" NA    \n",
       "[3271] \"0.00\" NA     \"0.06\" \"0.00\" \"0.00\" \"0.00\" \"0.02\" \"0.0\"  \"0.00\" \"0.00\"\n",
       "[3281] NA     NA     NA     \"0.00\" \"0.00\" \"0.00\" \"0.00\" NA     NA     NA    \n",
       "[3291] \"0.00\" NA     \"0.00\" NA     \"0.00\" NA     NA     \"0.00\" NA     NA    \n",
       "[3301] \"0.00\" \"0.00\" NA     \"0.00\" NA     NA     \"0.00\" NA     \"0.0\"  \"0.00\"\n",
       "[3311] \"0.00\" \"0.00\" \"0.00\" \"0.00\" \"0.00\" \"0.00\" NA     \"0.00\" NA     \"0.00\"\n",
       "[3321] NA     \"0.0\"  \"0.00\" \"0.00\" NA     \"0.00\" \"0.00\" \"0.00\" \"0.02\" NA    \n",
       "[3331] NA     NA     NA     \"0.00\" NA     \"0.00\" \"0.02\" \"0.00\" \"0.00\" \"0.01\"\n",
       "[3341] \"0.00\" \"0.02\" \"0.0\"  NA     \"0.00\" \"0.0\"  NA     NA     \"0.00\" \"0.00\"\n",
       "[3351] \"0.0\"  \"0.02\" \"0.0\"  NA     \"0.0\"  \"0.11\" \"0.00\" \"0.00\" NA     NA    \n",
       "[3361] NA     NA     NA     \"0.00\" \"0.00\" \"0.00\" \"0.0\"  NA     \"0.0\"  NA    \n",
       "[3371] \"0.00\" NA     NA     \"0.33\" \"0.00\" NA     NA     \"0.0\"  NA     NA    \n",
       "[3381] \"0.00\" NA     \"0.0\"  \"0.00\" \"0.00\" \"0.17\" NA     \"0.00\" NA     \"0.00\"\n",
       "[3391] \"0.00\" \"0.00\" \"0.0\"  NA     \"0.0\"  \"0.00\" \"0.00\" \"0.00\" \"0.00\" \"0.00\"\n",
       "[3401] \"0.01\" NA     \"0.00\" \"0.00\" \"0.00\" \"0.00\" \"0.0\"  NA     \"0.01\" \"0.04\"\n",
       "[3411] \"0.00\" \"0.00\" \"0.00\" \"0.0\"  \"0.00\" NA     \"0.00\" \"0.00\" \"0.00\" \"0.00\"\n",
       "[3421] NA     \"0.00\" NA     NA     \"0.00\" \"0.00\" NA     NA     \"0.02\" \"0.00\"\n",
       "[3431] \"0.00\" \"0.00\" NA     NA     \"0.00\" \"0.00\" NA     \"0.00\" \"0.00\" NA    \n",
       "[3441] \"0.00\" NA     NA     \"0.00\" NA     \"0.00\" \"0.01\" NA     \"0.00\" NA    \n",
       "[3451] \"0.01\" \"0.01\" \"0.00\" \"0.00\" \"0.00\" \"0.00\" \"0.00\" NA     \"0.00\" \"0.00\"\n",
       "[3461] \"0.00\" \"0.0\"  NA     \"0.00\" \"0.00\" \"0.00\" NA     \"0.0\"  \"0.00\" \"0.00\"\n",
       "[3471] \"0.00\" \"0.00\" \"0.00\" \"0.0\"  NA     NA     \"0.00\" NA     \"0.00\" NA    \n",
       "[3481] \"0.00\" \"0.00\" \"0.00\" NA     \"0.00\" \"0.00\" NA     NA     \"0.0\"  \"0.00\"\n",
       "[3491] NA     \"0.02\" \"0.00\" NA     \"0.0\"  NA     \"0.00\" \"0.00\" \"0.00\" NA    \n",
       "[3501] \"0.00\" \"0.00\" \"0.00\" \"0.02\" \"0.0\"  \"0.00\" \"0.00\" NA     NA     \"0.00\"\n",
       "[3511] NA     \"0.00\" \"0.00\" NA     \"0.00\" \"0.03\" \"0.00\" NA     NA     NA    \n",
       "[3521] \"0.00\" \"0.00\" NA     NA     \"0.0\"  NA     \"0.00\" \"0.00\" NA     \"0.00\"\n",
       "[3531] NA     \"0.00\" \"0.00\" \"0.0\"  NA     NA     NA     \"0.00\" NA     NA    \n",
       "[3541] NA     \"0.00\" NA     \"0.00\" \"0.00\" NA     \"0.00\" \"0.00\" \"0.00\" \"0.00\"\n",
       "[3551] NA     \"0.00\" \"0.0\"  \"0.16\" \"0.00\" NA     \"0.00\" NA     NA     NA    \n",
       "[3561] \"0.00\" \"0.00\" NA     \"0.00\" \"0.00\" \"0.0\"  NA     NA     \"0.00\" \"0.00\"\n",
       "[3571] \"0.00\" NA     NA     \"0.0\"  NA     \"0.00\" \"0.00\" NA     \"0.01\" \"0.00\"\n",
       "[3581] NA     \"0.00\" NA     NA     \"0.00\" \"0.00\" \"0.00\" \"0.00\" \"0.0\"  \"0.00\"\n",
       "[3591] \"0.00\" NA     NA     \"0.00\" \"0.00\" NA     \"0.0\"  \"0.00\" \"0.00\" \"0.00\"\n",
       "[3601] \"0.00\" \"0.00\" \"0.00\" NA     NA     \"0.00\" NA     NA     NA     NA    \n",
       "[3611] NA     NA     NA     \"0.00\" NA     NA     \"0.07\" \"0.00\" \"0.00\" \"0.08\"\n",
       "[3621] \"0.00\" \"0.23\" \"0.00\" \"0.00\" \"0.00\" \"0.04\" NA     \"0.0\"  \"0.0\"  NA    \n",
       "[3631] \"0.00\" \"0.00\" \"0.00\" \"0.00\" \"0.00\" \"0.00\" \"0.00\" NA     \"0.00\" \"0.00\"\n",
       "[3641] \"0.00\" \"0.0\"  \"0.00\" \"0.00\" \"0.00\" \"0.0\"  NA     \"0.0\"  \"0.00\" \"0.00\"\n",
       "[3651] \"0.00\" \"0.00\" \"0.03\" \"0.00\" \"0.00\" \"0.00\" \"0.00\" \"0.00\" \"0.00\" \"0.00\"\n",
       "[3661] NA     NA     NA     NA     NA     \"0.26\" NA     \"0.00\" \"0.00\" \"0.00\"\n",
       "[3671] \"0.16\" \"0.00\" \"0.00\" NA     NA     \"0.00\" \"0.00\" \"0.00\" \"0.00\" \"0.00\"\n",
       "[3681] \"0.00\" \"0.00\" \"0.00\" \"0.00\" \"0.00\" \"0.00\" \"0.00\" NA     NA     \"0.00\"\n",
       "[3691] \"0.00\" NA     \"0.00\" \"0.00\" NA     \"0.00\" \"0.00\" \"0.0\"  \"0.0\"  \"0.00\"\n",
       "[3701] \"0.00\" \"0.00\" \"0.00\" \"0.00\" NA     \"0.02\" \"0.00\" \"0.00\" NA     \"0.00\"\n",
       "[3711] NA     \"0.0\"  \"0.00\" NA     \"0.07\" NA     \"0.0\"  NA     \"0.0\"  \"0.00\"\n",
       "[3721] \"0.00\" NA     \"0.00\" \"0.02\" \"0.00\" NA     \"0.00\" NA     \"0.00\" \"0.00\"\n",
       "[3731] NA     \"0.00\" \"0.00\" NA     \"0.00\" \"0.00\" \"0.23\" \"0.00\" \"0.00\" \"0.00\"\n",
       "[3741] \"0.00\" \"0.08\" \"0.00\" NA     \"0.00\" \"0.0\"  \"0.00\" \"0.00\" \"0.00\" NA    \n",
       "[3751] \"0.00\" NA     \"0.00\" NA     \"0.00\" NA     NA     \"0.00\" \"0.0\"  \"0.00\"\n",
       "[3761] \"0.00\" \"0.00\" \"0.00\" NA     \"0.00\" NA     \"0.00\" \"0.00\" NA     \"0.00\"\n",
       "[3771] NA     \"0.00\" \"0.00\" NA     \"0.00\" \"0.00\" NA     \"0.0\"  \"0.00\" NA    \n",
       "[3781] \"0.00\" \"0.00\" \"0.0\"  \"0.00\" \"0.00\" \"0.00\" NA     \"0.05\" NA     \"0.00\"\n",
       "[3791] \"0.01\" \"0.00\" \"0.00\" \"0.00\" \"0.00\" \"0.00\" \"0.00\" \"0.00\" \"0.00\" \"0.00\"\n",
       "[3801] \"0.00\" \"0.00\" \"0.00\" \"0.00\" \"0.28\" NA     \"0.0\"  \"0.01\" \"0.00\" \"0.00\"\n",
       "[3811] \"0.17\" NA     NA     NA     \"0.00\" \"0.00\" \"0.00\" \"0.00\" \"0.00\" \"0.00\"\n",
       "[3821] \"0.00\" NA     \"0.00\" \"0.0\"  NA     NA     \"0.0\"  \"0.75\" \"0.00\" NA    \n",
       "[3831] \"0.00\" \"0.00\" NA     \"0.00\" NA     \"0.00\" NA     \"0.00\" \"0.00\" \"0.00\"\n",
       "[3841] NA     NA     \"0.00\" \"0.0\"  \"0.00\" \"0.00\" \"0.00\" \"0.00\" \"0.00\" \"0.00\"\n",
       "[3851] \"0.00\" NA     \"0.01\" NA     \"0.0\"  NA     \"0.00\" \"0.00\" NA     \"0.01\"\n",
       "[3861] \"0.00\" \"0.00\" \"0.00\" \"0.00\" \"0.00\" \"0.00\" NA     NA     \"0.00\" \"0.00\"\n",
       "[3871] NA     \"0.01\" \"0.00\" \"0.00\" NA     \"0.00\" \"0.00\" \"0.00\" NA     NA    \n",
       "[3881] \"0.00\" \"0.00\" \"0.00\" \"0.00\" \"0.0\"  \"0.05\" \"0.00\" \"0.00\" \"0.01\" NA    \n",
       "[3891] \"0.00\" \"0.0\"  \"0.00\" \"0.00\" \"0.00\" \"0.00\" \"0.00\" \"0.00\" NA     \"0.00\"\n",
       "[3901] \"0.00\" NA     \"0.00\" \"0.00\" \"0.00\" NA     \"0.0\"  \"0.00\" \"0.00\" \"0.00\"\n",
       "[3911] \"0.04\" \"0.00\" \"0.00\" \"0.00\" \"0.01\" NA     \"0.00\" \"0.00\" NA     NA    \n",
       "[3921] \"0.00\" NA     NA     \"0.00\" NA     NA     \"0.00\" \"0.00\" NA     \"0.00\"\n",
       "[3931] \"0.07\" NA     \"0.00\" \"0.00\" NA     \"0.00\" NA     \"0.00\" \"0.02\" \"0.00\"\n",
       "[3941] NA     \"0.00\" \"0.00\" \"0.00\" \"0.00\" \"0.03\" NA     \"0.00\" \"0.02\" NA    \n",
       "[3951] \"0.03\" \"0.00\" \"0.02\" \"0.00\" NA     \"0.00\" \"0.00\" NA     NA     \"0.00\"\n",
       "[3961] NA     \"0.00\" NA     \"0.0\"  NA     \"0.00\" \"0.01\" \"0.02\" NA     \"0.01\"\n",
       "[3971] \"0.00\" \"0.00\" \"0.00\" NA     \"0.00\" NA     NA     \"0.00\" \"0.00\" \"0.00\"\n",
       "[3981] \"0.0\"  \"0.00\" \"0.00\" \"0.00\" \"0.01\" \"0.08\" \"0.00\" \"0.00\" \"0.00\" \"0.06\"\n",
       "[3991] \"0.00\" NA     \"0.00\" \"0.00\" \"0.00\" NA     NA     \"0.00\" \"0.00\" \"0.00\"\n",
       "[4001] \"0.04\" \"0.00\" \"0.00\" \"0.00\" \"0.00\" \"0.00\" \"0.00\" NA     \"0.0\"  \"0.00\"\n",
       "[4011] \"0.00\" NA     \"0.00\" \"0.01\" \"0.00\" NA     \"0.00\" NA     \"0.00\" \"0.00\"\n",
       "[4021] \"0.00\" \"0.08\" \"0.00\" \"0.00\" NA     NA     \"0.00\" NA     \"0.00\" \"0.00\"\n",
       "[4031] \"0.00\" \"0.00\" \"0.0\"  \"0.00\" NA     NA     \"0.00\" NA     NA     \"0.00\"\n",
       "[4041] NA     \"0.00\" \"0.00\" \"0.11\" \"0.03\" NA     NA     \"0.0\"  \"0.00\" \"0.00\"\n",
       "[4051] \"0.00\" \"0.00\" \"0.00\" NA     \"0.0\"  NA     \"0.00\" NA     \"0.00\" \"0.00\"\n",
       "[4061] \"0.00\" \"0.00\" NA     \"0.0\"  \"0.04\" \"0.00\" NA     \"0.0\"  \"0.00\" NA    \n",
       "[4071] NA     \"0.00\" \"0.00\" \"0.00\" \"0.00\" \"0.05\" \"0.00\" \"0.00\" \"0.00\" \"0.00\"\n",
       "[4081] NA     \"0.00\" NA     \"0.0\"  \"0.00\" \"0.00\" \"0.00\" NA     \"0.00\" \"0.00\"\n",
       "[4091] \"0.00\" \"0.00\" NA     \"0.00\" \"0.00\" \"0.00\" NA     \"0.00\" NA     NA    \n",
       "[4101] \"0.00\" \"0.00\" \"0.00\" \"0.03\" \"0.00\" \"0.0\"  NA     NA     NA     NA    \n",
       "[4111] \"0.00\" \"0.0\"  NA     NA     \"0.00\" \"0.00\" \"0.00\" NA     \"0.0\"  \"0.00\"\n",
       "[4121] \"0.00\" NA     NA     NA     \"0.00\" \"0.00\" \"0.00\" \"0.00\" \"0.00\" \"0.00\"\n",
       "[4131] \"0.00\" \"0.01\" NA     NA     \"0.00\" NA     \"0.00\" \"0.00\" \"0.00\" \"0.10\"\n",
       "[4141] NA     NA     NA     \"0.00\" NA     \"0.00\" \"0.00\" \"0.0\"  \"0.00\" \"0.00\"\n",
       "[4151] \"0.00\" NA     NA     \"0.00\" NA     \"0.00\" NA     NA     \"0.00\" \"0.00\"\n",
       "[4161] \"0.00\" \"0.0\"  \"0.00\" \"0.00\" \"0.00\" \"0.00\" NA     \"0.00\" \"0.00\" NA    \n",
       "[4171] \"0.00\" \"0.00\" \"0.00\" NA     \"0.00\" \"0.00\" \"0.00\" \"0.00\" \"0.00\" \"0.00\"\n",
       "[4181] \"0.00\" NA     \"0.00\" NA     NA     NA     \"0.00\" \"0.0\"  \"0.00\" \"0.00\"\n",
       "[4191] \"0.19\" NA     NA     NA     \"0.06\" \"0.02\" \"0.00\" \"0.00\" NA     \"0.00\"\n",
       "[4201] \"0.00\" \"0.00\" \"0.00\" \"0.00\" NA     \"0.00\" \"0.01\" \"0.00\" \"0.00\" \"0.00\"\n",
       "[4211] \"0.00\" \"0.00\" \"0.00\" NA     NA     \"0.04\" NA     NA     NA     NA    \n",
       "[4221] \"0.00\" \"0.00\" \"0.00\" \"0.00\" NA     \"0.0\"  \"0.00\" \"0.00\" \"0.00\" \"0.00\"\n",
       "[4231] NA     NA     \"0.0\"  \"0.00\" \"0.00\" \"0.00\" \"0.0\"  \"0.00\" \"0.00\" \"0.02\"\n",
       "[4241] \"0.00\" \"0.00\" \"0.00\" \"0.04\" \"0.09\" NA     \"0.00\" NA     NA     \"0.0\" \n",
       "[4251] \"0.08\" \"0.00\" \"0.00\" NA     \"0.06\" \"0.00\" \"0.00\" \"0.00\" \"0.0\"  \"0.00\"\n",
       "[4261] NA     \"0.00\" \"0.00\" \"0.09\" \"0.00\" \"0.00\" \"0.03\" NA     \"0.00\" \"0.00\"\n",
       "[4271] NA     \"0.00\" \"0.04\" \"0.0\"  \"0.00\" NA     \"0.0\"  \"0.0\"  \"0.00\" NA    \n",
       "[4281] NA     NA     \"0.01\" \"0.00\" \"0.00\" NA     NA     NA     NA     \"0.00\"\n",
       "[4291] \"0.00\" \"0.00\" \"0.00\" \"0.00\" \"0.00\" \"0.00\" NA     \"0.0\"  \"0.26\" \"0.00\"\n",
       "[4301] \"0.00\" \"0.00\" \"0.00\" NA     \"0.00\" \"0.00\" NA     NA     \"0.0\"  NA    \n",
       "[4311] NA     \"0.00\" \"0.00\" NA     NA     NA     \"0.00\" \"0.00\" \"0.00\" NA    \n",
       "[4321] \"0.01\" \"0.00\" \"0.00\" NA     \"0.00\" \"0.0\"  \"0.00\" \"0.00\" NA     NA    \n",
       "[4331] \"0.00\" NA     \"0.00\" \"0.00\" \"0.00\" \"0.00\" NA     \"0.00\" \"0.00\" \"0.00\"\n",
       "[4341] \"0.00\" \"0.00\" \"0.00\" NA     \"0.00\" \"0.00\" \"0.00\" NA     \"0.0\"  \"0.00\"\n",
       "[4351] \"0.00\" \"0.00\" \"0.03\" \"0.00\" \"0.00\" \"0.00\" \"0.02\" NA     NA     \"0.00\"\n",
       "[4361] NA     \"0.01\" \"0.07\" \"0.00\" NA     NA     \"0.00\" NA     NA     \"0.00\"\n",
       "[4371] \"0.0\"  NA     \"0.00\" NA     \"0.00\" \"0.00\" NA     NA     NA     \"0.03\"\n",
       "[4381] NA     \"0.00\" \"0.00\" NA     \"0.00\" NA     \"0.00\" \"0.00\" NA     \"0.00\"\n",
       "[4391] \"0.00\" \"0.07\" NA     \"0.00\" \"0.0\"  NA     \"0.00\" \"0.01\" \"0.00\" NA    \n",
       "[4401] NA     \"0.08\" \"0.0\"  NA     NA     \"0.00\" NA     \"0.00\" \"0.00\" \"0.00\"\n",
       "[4411] \"0.0\"  \"0.00\" \"0.00\" \"0.00\" \"0.00\" \"0.19\" NA     NA     \"0.00\" \"0.00\"\n",
       "[4421] \"0.00\" NA     \"0.00\" \"0.00\" \"0.00\" \"0.0\"  \"0.00\" \"0.11\" \"0.00\" \"0.00\"\n",
       "[4431] \"0.00\" \"0.00\" \"0.01\" NA     NA     \"0.00\" \"0.00\" \"0.00\" \"0.00\" \"0.00\"\n",
       "[4441] NA     NA     \"0.00\" \"0.00\" \"0.01\" NA     NA     NA     NA     \"0.0\" \n",
       "[4451] \"0.00\" \"0.00\" \"0.0\"  \"0.01\" \"0.00\" NA     \"0.00\" NA     \"0.00\" \"0.00\"\n",
       "[4461] \"0.05\" \"0.0\"  \"0.00\" \"0.00\" \"0.00\" \"0.00\" \"0.00\" \"0.00\" \"0.00\" NA    \n",
       "[4471] \"0.00\" \"0.00\" \"0.0\"  \"0.01\" \"0.00\" \"0.01\" NA     \"0.01\" \"0.00\" \"0.00\"\n",
       "[4481] \"0.00\" NA     NA     NA     \"0.00\" \"0.00\" \"0.00\" \"0.00\" \"0.00\" NA    \n",
       "[4491] \"0.0\"  \"0.00\" NA     \"0.00\" \"0.00\" \"0.00\" \"0.00\" \"0.00\" \"0.00\" \"0.00\"\n",
       "[4501] NA     NA     \"0.00\" NA     \"0.00\" \"0.00\" \"0.00\" \"0.00\" \"0.00\" \"0.11\"\n",
       "[4511] \"0.00\" \"0.00\" \"0.00\" NA     \"0.00\" \"0.00\" \"0.00\" \"0.0\"  \"0.03\" \"0.00\"\n",
       "[4521] \"0.00\" \"0.07\" \"0.00\" \"0.00\" NA     \"0.0\"  NA     \"0.00\" NA     \"0.00\"\n",
       "[4531] \"0.00\" \"0.00\" \"0.00\" \"0.00\" NA     NA     \"0.00\" \"0.00\" \"0.04\" \"0.00\"\n",
       "[4541] \"0.00\" \"0.0\"  \"0.00\" \"0.04\" \"0.00\" \"0.01\" \"0.00\" \"0.00\" \"0.0\"  \"0.00\"\n",
       "[4551] \"0.00\" \"0.00\" \"0.00\" \"0.00\" \"0.00\" \"0.00\" \"0.00\" \"0.00\" \"0.00\" \"0.00\"\n",
       "[4561] \"0.00\" \"0.00\" \"0.0\"  NA     \"0.00\" \"0.00\" \"0.00\" \"0.00\" NA     \"0.00\"\n",
       "[4571] NA     \"0.00\" \"0.00\" \"0.00\" \"0.00\" \"0.00\" \"0.00\" \"0.00\" \"0.00\" \"0.0\" \n",
       "[4581] NA     \"0.00\" \"0.00\" \"0.0\"  NA     \"0.01\" \"0.00\" \"0.00\" \"0.00\" NA    \n",
       "[4591] \"0.00\" NA     \"0.00\" \"0.00\" \"0.00\" \"0.00\" \"0.00\" \"0.00\" \"0.00\" \"0.00\"\n",
       "[4601] \"0.00\" \"0.00\" NA     \"0.00\" \"0.00\" NA     \"0.17\" NA     NA     \"0.0\" \n",
       "[4611] NA     NA     \"0.00\" \"0.00\" NA     \"0.00\" \"0.00\" \"0.00\" \"0.00\" NA    \n",
       "[4621] NA     NA     \"0.00\" NA     NA     NA     NA     NA     NA     NA    \n",
       "[4631] \"0.00\" \"0.00\" \"0.01\" \"0.00\" \"0.00\" \"0.0\"  \"0.00\" NA     \"0.00\" \"0.00\"\n",
       "[4641] \"0.00\" \"0.00\" \"0.00\" NA     \"0.00\" NA     \"0.00\" \"0.00\" \"0.01\" \"0.00\"\n",
       "[4651] NA     NA     \"0.00\" NA     \"0.00\" \"0.00\" NA     \"0.00\" \"0.00\" \"0.00\"\n",
       "[4661] NA     \"0.36\" \"0.00\" NA     \"0.00\" \"0.00\" \"0.00\" NA     NA     \"0.00\"\n",
       "[4671] \"0.00\" NA     \"0.00\" \"0.00\" NA     \"0.00\" NA     NA     \"0.06\" NA    \n",
       "[4681] \"0.00\" \"0.00\" \"0.00\" \"0.00\" \"0.00\" \"0.00\" NA     NA     \"0.0\"  \"0.00\"\n",
       "[4691] NA     \"0.00\" NA     NA     \"0.00\" \"0.00\" \"0.00\" \"0.00\" \"0.00\" \"0.00\"\n",
       "[4701] NA     \"0.0\"  \"0.00\" NA     \"0.0\"  NA     \"0.00\" \"0.00\" \"0.00\" \"0.00\"\n",
       "[4711] \"0.01\" NA     \"0.01\" NA     \"0.00\" NA     \"0.00\" \"0.00\" NA     NA    \n",
       "[4721] NA     \"0.00\" \"0.00\" NA     \"0.00\" \"0.00\" \"0.00\" \"0.00\" \"0.03\" \"0.00\"\n",
       "[4731] NA     NA     \"0.00\" \"0.00\" \"0.00\" \"0.00\" NA     \"0.00\" \"0.00\" \"0.00\"\n",
       "[4741] \"0.00\" \"0.00\" NA     NA     \"0.00\" \"0.00\" NA     \"0.01\" \"0.0\"  NA    \n",
       "[4751] \"0.00\" \"0.00\" \"0.00\" \"0.00\" NA     NA     NA     NA     NA     \"0.00\"\n",
       "[4761] \"0.00\" \"0.00\" NA     NA     \"0.0\"  NA     \"0.00\" \"0.00\" \"0.00\" \"0.00\"\n",
       "[4771] \"0.00\" \"0.00\" \"0.00\" NA     \"0.00\" NA     \"0.0\"  \"0.00\" \"0.00\" \"0.00\"\n",
       "[4781] \"0.00\" \"0.02\" NA     \"0.0\"  \"0.00\" \"0.01\" \"0.00\" \"0.00\" \"0.00\" NA    \n",
       "[4791] \"0.00\" \"0.00\" \"0.00\" NA     \"0.00\" \"0.00\" \"0.00\" NA     NA     \"0.00\"\n",
       "[4801] \"0.23\" \"0.00\" \"0.00\" NA     \"0.00\" NA     NA     \"0.00\" \"0.00\" \"0.00\"\n",
       "[4811] \"0.00\" \"0.0\"  \"0.00\" \"0.00\" NA     \"0.00\" \"0.00\" \"0.00\" NA     \"0.00\"\n",
       "[4821] \"0.00\" \"0.00\" \"0.00\" \"0.0\"  \"0.00\" NA     \"0.00\" \"0.00\" \"0.00\" \"0.0\" \n",
       "[4831] \"0.00\" \"0.00\" NA     \"0.00\" \"0.0\"  \"0.0\"  \"0.0\"  \"0.00\" \"0.00\" NA    \n",
       "[4841] NA     NA     \"0.10\" NA     \"0.00\" \"0.00\" \"0.00\" \"0.00\" \"0.00\" \"0.00\"\n",
       "[4851] \"0.00\" NA     \"0.01\" \"0.0\"  \"0.00\" NA     \"0.00\" \"0.00\" \"0.00\" \"0.00\"\n",
       "[4861] NA     NA     NA     \"0.00\" \"0.02\" \"0.00\" NA     \"0.00\" \"0.00\" NA    \n",
       "[4871] NA     NA     \"0.00\" NA     NA     NA     \"0.0\"  \"0.00\" \"0.00\" \"0.00\"\n",
       "[4881] NA     \"0.00\" \"0.0\"  \"0.00\" \"0.00\" \"0.0\"  \"0.00\" \"0.00\" \"0.0\"  \"0.00\"\n",
       "[4891] \"0.00\" \"0.00\" \"0.00\" \"0.07\" \"0.00\" NA     NA     \"0.00\" \"0.00\" \"0.00\"\n",
       "[4901] NA     \"0.00\" \"0.01\" \"0.00\" \"0.00\" \"0.00\" NA     NA     \"0.02\" \"0.00\"\n",
       "[4911] \"0.00\" \"0.0\"  \"0.00\" \"0.00\" \"0.00\" NA     \"0.00\" NA     \"0.00\" \"0.00\"\n",
       "[4921] \"0.02\" NA     \"0.00\" NA     NA     \"0.00\" \"0.00\" NA     NA     \"0.0\" \n",
       "[4931] NA     NA     NA     \"0.04\" NA     \"0.00\" \"0.00\" NA     \"0.00\" \"0.00\"\n",
       "[4941] NA     \"0.00\" \"0.00\" \"0.0\"  NA     \"0.00\" \"0.0\"  NA     NA     \"0.00\"\n",
       "[4951] NA     NA     \"0.00\" \"0.00\" \"0.00\" \"0.00\" \"0.00\" \"0.00\" NA     NA    \n",
       "[4961] \"0.00\" \"0.00\" NA     NA     NA     NA     \"0.00\" NA     NA     \"0.01\"\n",
       "[4971] \"0.00\" \"0.00\" \"0.00\" \"0.00\" \"0.00\" \"0.00\" \"0.00\" \"0.0\"  \"0.00\" \"0.00\"\n",
       "[4981] \"0.00\" \"0.00\" \"0.00\" \"0.00\" \"0.0\"  NA     \"0.00\" \"0.00\" \"0.00\" \"0.01\"\n",
       "[4991] NA     NA     \"0.00\" NA     \"0.00\" NA     \"0.00\" \"0.00\" \"0.00\" \"0.00\"\n",
       "[5001] \"0.0\"  NA     NA     \"0.0\"  \"0.00\" NA     \"0.00\" NA     \"0.00\" NA    \n",
       "[5011] \"0.00\" \"0.00\" \"0.0\"  \"0.00\" \"0.00\" \"0.00\" \"0.00\" \"0.00\" \"0.00\" \"0.0\" \n",
       "[5021] \"0.00\" \"0.0\"  \"0.00\" \"0.00\" \"0.00\" NA     \"0.00\" NA     \"0.00\" \"0.00\"\n",
       "[5031] \"0.00\" NA     \"0.03\" NA     \"0.00\" NA     \"0.00\" \"0.05\" \"0.00\" \"0.00\"\n",
       "[5041] \"0.00\" NA     \"0.00\" \"0.04\" \"0.05\" \"0.00\" \"0.00\" NA     \"0.00\" \"0.00\"\n",
       "[5051] \"0.01\" NA     NA     NA     NA     \"0.00\" \"0.0\"  \"0.03\" \"0.00\" NA    \n",
       "[5061] \"0.04\" \"0.00\" NA     NA     \"0.02\" \"0.00\" \"0.0\"  NA     NA     \"0.00\"\n",
       "[5071] \"0.00\" \"0.00\" \"0.00\" \"0.00\" NA     \"0.00\" NA     NA     \"0.00\" \"0.00\"\n",
       "[5081] \"0.01\" \"0.00\" \"0.00\" \"0.00\" \"0.00\" \"0.00\" \"0.00\" \"0.00\" NA     NA    \n",
       "[5091] \"0.00\" \"0.0\"  \"0.0\"  \"0.0\"  NA     \"0.00\" \"0.00\" \"0.00\" \"0.00\" \"0.0\" \n",
       "[5101] \"0.00\" \"0.01\" \"0.00\" \"0.00\" \"0.00\" NA     NA     \"0.00\" \"0.00\" \"0.00\"\n",
       "[5111] NA     \"0.00\" \"0.00\" NA     NA     \"0.00\" NA     \"0.00\" NA     \"0.00\"\n",
       "[5121] \"0.0\"  NA     \"0.00\" \"0.00\" \"0.00\" \"0.00\" \"0.14\" \"0.00\" NA     \"0.00\"\n",
       "[5131] \"0.00\" \"0.0\"  \"0.00\" \"0.00\" \"0.00\" NA     NA     \"0.00\" \"0.00\" \"0.00\"\n",
       "[5141] NA     \"0.00\" \"0.00\" \"0.00\" \"0.00\" NA     \"0.00\" NA     NA     \"0.00\"\n",
       "[5151] \"0.01\" NA     \"0.00\" NA     \"0.00\" NA     \"0.00\" \"0.00\" \"0.00\" NA    \n",
       "[5161] \"0.00\" \"0.00\" NA     NA     \"0.00\" \"0.0\"  NA     \"0.00\" \"0.00\" \"0.00\"\n",
       "[5171] \"0.00\" NA     \"0.02\" \"0.00\" \"0.00\" \"0.00\" \"0.00\" NA     \"0.00\" \"0.06\"\n",
       "[5181] NA     \"0.00\" \"0.00\" \"0.00\" \"0.00\" \"0.00\" NA     \"0.00\" \"0.00\" \"0.00\"\n",
       "[5191] NA     NA     \"0.01\" \"0.00\" \"0.00\" \"0.0\"  NA     NA     NA     NA    \n",
       "[5201] \"0.00\" \"0.00\" \"0.00\" NA     \"0.00\" NA     \"0.00\" NA     \"0.0\"  NA    \n",
       "[5211] \"0.00\" \"0.00\" \"0.00\" \"0.02\" NA     \"0.00\" \"0.00\" NA     \"0.03\" NA    \n",
       "[5221] \"0.00\" NA     \"0.00\" \"0.00\" \"0.00\" \"0.00\" NA     \"0.00\" NA     NA    \n",
       "[5231] NA     \"0.00\" NA     NA     NA     \"0.00\" \"0.00\" \"0.03\" \"0.00\" NA    \n",
       "[5241] NA     \"0.00\" \"0.00\" NA     NA     \"0.00\" \"0.00\" \"0.00\" NA     \"0.00\"\n",
       "[5251] NA     \"0.00\" NA     \"0.00\" NA     \"0.00\" \"0.00\" \"0.00\" \"0.0\"  \"0.00\"\n",
       "[5261] \"0.00\" \"0.01\" \"0.00\" \"0.00\" NA     \"0.01\" \"0.00\" NA     \"0.00\" \"0.00\"\n",
       "[5271] \"0.00\" \"0.00\" \"0.00\" \"0.00\" NA     NA     \"0.00\" NA     NA     NA    \n",
       "[5281] \"0.11\" NA     \"0.00\" \"0.00\" \"0.00\" \"0.0\"  \"0.00\" \"0.00\" \"0.00\" \"0.00\"\n",
       "[5291] \"0.00\" \"0.00\" NA     \"0.00\" \"0.00\" NA     \"0.00\" \"0.00\" \"0.00\" \"0.00\"\n",
       "[5301] \"0.00\" \"0.07\" \"0.00\" \"0.00\" \"0.00\" NA     NA     \"0.00\" \"0.00\" \"0.00\"\n",
       "[5311] NA     \"0.00\" \"0.00\" \"0.00\" \"0.0\"  \"0.00\" \"0.00\" \"0.00\" \"0.01\" \"0.00\"\n",
       "[5321] NA     \"0.00\" \"0.00\" \"0.00\" \"0.00\" \"0.02\" \"0.00\" NA     \"0.00\" NA    \n",
       "[5331] \"0.00\" \"0.00\" \"0.04\" \"0.00\" NA     \"0.00\" \"0.00\" \"0.00\" NA     \"0.00\"\n",
       "[5341] NA     \"0.00\" NA     NA     \"0.00\" \"0.00\" NA     \"0.0\"  \"0.00\" \"0.00\"\n",
       "[5351] \"0.00\" \"0.00\" NA     \"0.0\"  \"0.20\" NA     \"0.00\" \"0.00\" \"0.00\" \"0.00\"\n",
       "[5361] \"0.00\" \"0.00\" \"0.00\" NA     NA     NA     \"0.00\" \"0.00\" NA     \"0.00\"\n",
       "[5371] \"0.00\" \"0.00\" NA     \"0.00\" \"0.00\" \"0.00\" NA     NA     \"0.0\"  NA    \n",
       "[5381] \"0.01\" NA     \"0.00\" \"0.00\" NA     NA     \"0.00\" NA     NA     \"0.00\"\n",
       "[5391] \"0.07\" NA     NA     \"0.00\" \"0.00\" \"0.00\" \"0.00\" \"0.08\" \"0.00\" \"0.10\"\n",
       "[5401] \"0.00\" \"0.00\" \"0.00\" NA     \"0.0\"  \"0.00\" NA     NA     \"0.00\" \"0.00\"\n",
       "[5411] \"0.0\"  \"0.00\" \"0.0\"  NA     \"0.00\" \"0.00\" \"0.0\"  \"0.00\" \"0.00\" \"0.00\"\n",
       "[5421] \"0.00\" NA     \"0.11\" \"0.00\" \"0.00\" NA     NA     \"0.0\"  \"0.04\" NA    \n",
       "[5431] \"0.00\" \"0.00\" \"0.00\" \"0.00\" \"0.00\" \"0.01\" NA     \"0.00\" \"0.00\" \"0.00\"\n",
       "[5441] \"0.0\"  \"0.01\" \"0.00\" \"0.02\" NA     \"0.00\" NA     \"0.00\" \"0.0\"  NA    \n",
       "[5451] NA     NA     \"0.00\" \"0.00\" NA     \"0.00\" NA     NA     NA     \"0.00\"\n",
       "[5461] \"0.00\" \"0.0\"  \"0.00\" \"0.54\" \"0.0\"  \"0.00\" \"0.04\" \"0.00\" \"0.00\" \"0.00\"\n",
       "[5471] \"0.00\" \"0.00\" NA     NA     \"0.00\" \"0.00\" \"0.00\" \"0.00\" NA     \"0.00\"\n",
       "[5481] NA     NA     \"0.00\" \"0.00\" NA     NA     NA     \"0.59\" \"0.00\" \"0.00\"\n",
       "[5491] \"0.00\" \"0.00\" \"0.00\" \"0.00\" \"0.00\" NA     \"0.00\" \"0.0\"  \"0.00\" NA    \n",
       "[5501] \"0.02\" \"0.00\" \"0.00\" NA     \"0.09\" \"0.00\" NA     NA     \"0.0\"  NA    \n",
       "[5511] NA     \"0.00\" \"0.00\" NA     \"0.00\" \"0.00\" NA     \"0.00\" NA     NA    \n",
       "[5521] \"0.00\" \"0.00\" \"0.00\" \"0.00\" NA     \"0.00\" \"0.00\" \"0.00\" \"0.00\" \"0.00\"\n",
       "[5531] NA     \"0.00\" \"0.00\" NA     \"0.00\" NA     NA     \"0.00\" NA     \"0.00\"\n",
       "[5541] \"0.00\" NA     \"0.00\" \"0.00\" \"0.00\" \"0.00\" NA     \"0.00\" \"0.00\" NA    \n",
       "[5551] \"0.00\" \"0.00\" \"0.00\" NA     \"0.00\" \"0.00\" \"0.00\" \"0.00\" \"0.21\" \"0.00\"\n",
       "[5561] NA     \"0.00\" \"0.00\" \"0.02\" \"0.00\" NA     \"0.00\" \"0.00\" \"0.00\" \"0.0\" \n",
       "[5571] \"0.00\" \"0.00\" \"0.00\" \"0.00\" \"0.00\" \"0.0\"  \"0.01\" \"0.00\" \"0.00\" \"0.00\"\n",
       "[5581] \"0.01\" \"0.10\" \"0.00\" \"0.00\" NA     NA     \"0.00\" \"0.00\" \"0.02\" \"0.01\"\n",
       "[5591] \"0.0\"  \"0.00\" NA     NA     \"0.00\" NA     \"0.00\" \"0.00\" \"0.00\" \"0.00\"\n",
       "[5601] NA     \"0.00\" \"0.00\" \"0.00\" \"0.00\" \"0.00\" \"0.00\" \"0.00\" \"0.00\" \"0.00\"\n",
       "[5611] \"0.00\" \"0.00\" \"0.00\" \"0.0\"  \"0.00\" \"0.00\" \"0.0\"  \"0.0\"  \"0.00\" \"0.00\"\n",
       "[5621] NA     NA     NA     NA     \"0.00\" \"0.03\" \"0.0\"  \"0.08\" NA     \"0.00\"\n",
       "[5631] \"0.00\" \"0.0\"  \"0.00\" \"0.00\" \"0.00\" \"0.00\" \"0.00\" \"0.00\" NA     NA    \n",
       "[5641] NA     \"0.00\" \"0.00\" \"0.00\" \"0.00\" \"0.00\" NA     \"0.00\" \"0.00\" \"0.00\"\n",
       "[5651] NA     \"0.00\" NA     \"0.00\" NA     \"0.00\" \"0.04\" \"0.00\" NA     \"0.00\"\n",
       "[5661] NA     NA     \"0.00\" NA     \"0.00\" \"0.01\" \"0.00\" \"0.0\"  \"0.00\" NA    \n",
       "[5671] NA     \"0.00\" NA     NA     NA     \"0.00\" \"0.00\" \"0.16\" \"0.00\" \"0.00\"\n",
       "[5681] NA     NA     NA     \"0.00\" NA     \"0.00\" NA     \"0.00\" \"0.00\" \"0.00\"\n",
       "[5691] \"0.00\" \"0.00\" NA     NA     \"0.00\" NA     \"0.00\" \"0.0\"  \"0.00\" \"0.0\" \n",
       "[5701] \"0.00\" \"0.00\" \"0.00\" \"0.00\" \"0.00\" \"0.00\" \"0.02\" \"0.00\" \"0.00\" NA    \n",
       "[5711] \"0.00\" \"0.00\" \"0.00\" \"0.00\" \"0.00\" \"0.0\"  \"0.00\" \"0.03\" \"0.00\" \"0.00\"\n",
       "[5721] \"0.01\" \"0.00\" \"0.00\" NA     \"0.00\" \"0.00\" \"0.00\""
      ]
     },
     "metadata": {},
     "output_type": "display_data"
    },
    {
     "data": {
      "text/html": [
       "<style>\n",
       ".list-inline {list-style: none; margin:0; padding: 0}\n",
       ".list-inline>li {display: inline-block}\n",
       ".list-inline>li:not(:last-child)::after {content: \"\\00b7\"; padding: 0 .5ex}\n",
       "</style>\n",
       "<ol class=list-inline><li>'0.00'</li><li>'0.0'</li><li>'0.06'</li><li>NA</li><li>'0.03'</li><li>'0.02'</li><li>'0.08'</li><li>'0.01'</li><li>'0.07'</li><li>'0.16'</li><li>'0.09'</li><li>'0.22'</li><li>'0.02s'</li><li>'0.24'</li><li>'0.18'</li><li>'0.05'</li><li>'0.04'</li><li>'0.09s'</li><li>'0.11'</li><li>'0.14'</li><li>'0.25'</li><li>'0.10'</li><li>'0.01s'</li><li>'0.58'</li><li>'0.12'</li><li>'0.13'</li><li>'0.46'</li><li>'1.07'</li><li>'1.19'</li><li>'0.34'</li><li>'0.20'</li><li>'0.36s'</li><li>'0.42'</li><li>'0.17'</li><li>'0.27'</li><li>'0.35'</li><li>'0.31'</li><li>'0.33'</li><li>'0.23'</li><li>'0.26'</li><li>'0.28'</li><li>'0.75'</li><li>'0.19'</li><li>'0.36'</li><li>'0.03s'</li><li>'0.07s'</li><li>'0.54'</li><li>'0.59'</li><li>'0.21'</li></ol>\n"
      ],
      "text/latex": [
       "\\begin{enumerate*}\n",
       "\\item '0.00'\n",
       "\\item '0.0'\n",
       "\\item '0.06'\n",
       "\\item NA\n",
       "\\item '0.03'\n",
       "\\item '0.02'\n",
       "\\item '0.08'\n",
       "\\item '0.01'\n",
       "\\item '0.07'\n",
       "\\item '0.16'\n",
       "\\item '0.09'\n",
       "\\item '0.22'\n",
       "\\item '0.02s'\n",
       "\\item '0.24'\n",
       "\\item '0.18'\n",
       "\\item '0.05'\n",
       "\\item '0.04'\n",
       "\\item '0.09s'\n",
       "\\item '0.11'\n",
       "\\item '0.14'\n",
       "\\item '0.25'\n",
       "\\item '0.10'\n",
       "\\item '0.01s'\n",
       "\\item '0.58'\n",
       "\\item '0.12'\n",
       "\\item '0.13'\n",
       "\\item '0.46'\n",
       "\\item '1.07'\n",
       "\\item '1.19'\n",
       "\\item '0.34'\n",
       "\\item '0.20'\n",
       "\\item '0.36s'\n",
       "\\item '0.42'\n",
       "\\item '0.17'\n",
       "\\item '0.27'\n",
       "\\item '0.35'\n",
       "\\item '0.31'\n",
       "\\item '0.33'\n",
       "\\item '0.23'\n",
       "\\item '0.26'\n",
       "\\item '0.28'\n",
       "\\item '0.75'\n",
       "\\item '0.19'\n",
       "\\item '0.36'\n",
       "\\item '0.03s'\n",
       "\\item '0.07s'\n",
       "\\item '0.54'\n",
       "\\item '0.59'\n",
       "\\item '0.21'\n",
       "\\end{enumerate*}\n"
      ],
      "text/markdown": [
       "1. '0.00'\n",
       "2. '0.0'\n",
       "3. '0.06'\n",
       "4. NA\n",
       "5. '0.03'\n",
       "6. '0.02'\n",
       "7. '0.08'\n",
       "8. '0.01'\n",
       "9. '0.07'\n",
       "10. '0.16'\n",
       "11. '0.09'\n",
       "12. '0.22'\n",
       "13. '0.02s'\n",
       "14. '0.24'\n",
       "15. '0.18'\n",
       "16. '0.05'\n",
       "17. '0.04'\n",
       "18. '0.09s'\n",
       "19. '0.11'\n",
       "20. '0.14'\n",
       "21. '0.25'\n",
       "22. '0.10'\n",
       "23. '0.01s'\n",
       "24. '0.58'\n",
       "25. '0.12'\n",
       "26. '0.13'\n",
       "27. '0.46'\n",
       "28. '1.07'\n",
       "29. '1.19'\n",
       "30. '0.34'\n",
       "31. '0.20'\n",
       "32. '0.36s'\n",
       "33. '0.42'\n",
       "34. '0.17'\n",
       "35. '0.27'\n",
       "36. '0.35'\n",
       "37. '0.31'\n",
       "38. '0.33'\n",
       "39. '0.23'\n",
       "40. '0.26'\n",
       "41. '0.28'\n",
       "42. '0.75'\n",
       "43. '0.19'\n",
       "44. '0.36'\n",
       "45. '0.03s'\n",
       "46. '0.07s'\n",
       "47. '0.54'\n",
       "48. '0.59'\n",
       "49. '0.21'\n",
       "\n",
       "\n"
      ],
      "text/plain": [
       " [1] \"0.00\"  \"0.0\"   \"0.06\"  NA      \"0.03\"  \"0.02\"  \"0.08\"  \"0.01\"  \"0.07\" \n",
       "[10] \"0.16\"  \"0.09\"  \"0.22\"  \"0.02s\" \"0.24\"  \"0.18\"  \"0.05\"  \"0.04\"  \"0.09s\"\n",
       "[19] \"0.11\"  \"0.14\"  \"0.25\"  \"0.10\"  \"0.01s\" \"0.58\"  \"0.12\"  \"0.13\"  \"0.46\" \n",
       "[28] \"1.07\"  \"1.19\"  \"0.34\"  \"0.20\"  \"0.36s\" \"0.42\"  \"0.17\"  \"0.27\"  \"0.35\" \n",
       "[37] \"0.31\"  \"0.33\"  \"0.23\"  \"0.26\"  \"0.28\"  \"0.75\"  \"0.19\"  \"0.36\"  \"0.03s\"\n",
       "[46] \"0.07s\" \"0.54\"  \"0.59\"  \"0.21\" "
      ]
     },
     "metadata": {},
     "output_type": "display_data"
    }
   ],
   "source": [
    "sub_df$HOURLYPrecip[sub_df$HOURLYPrecip == \"T\"] <- \"0.0\"\n",
    "str_remove(sub_df$HOURLYPrecip, pattern = \"s$\")\n",
    "#sub_df<- sub_df%>% replace_na(list(HOURLYPrecip = \"0\"))\n",
    "#sub_df <- sub_df[complete.cases(sub_df),]\n",
    "#head(sub_df, n=10)\n",
    "unique(sub_df$HOURLYPrecip)"
   ]
  },
  {
   "cell_type": "markdown",
   "metadata": {
    "id": "9sXfSOMRlDZS"
   },
   "source": [
    "<a id=\"cell5\"></a>\n",
    "## 5. Convert Columns to Numerical Types\n",
    "Now that you have removed the characters in the `HOURLYPrecip` column, you can safely covert the column to a numeric type.\n",
    "\n",
    "First, check the types of the columns. You will notice that all are `dbl` (double or numeric) except for `HOURLYPrecip`, which is `chr` (character or string). Use the `glimpse` function from Tidyverse.\n"
   ]
  },
  {
   "cell_type": "code",
   "execution_count": 12,
   "metadata": {
    "colab": {
     "base_uri": "https://localhost:8080/"
    },
    "executionInfo": {
     "elapsed": 33,
     "status": "ok",
     "timestamp": 1725021648659,
     "user": {
      "displayName": "Vanja Blazinic",
      "userId": "08775111406535905076"
     },
     "user_tz": 0
    },
    "id": "F9j754s-lDZS",
    "outputId": "fc5b12e7-914d-4726-ea1d-e0b2bc8a8d0e"
   },
   "outputs": [
    {
     "name": "stdout",
     "output_type": "stream",
     "text": [
      "Rows: 5,727\n",
      "Columns: 5\n",
      "$ HOURLYRelativeHumidity \u001b[3m\u001b[90m<dbl>\u001b[39m\u001b[23m 46, 48, 89, 48, 61, 79, 51, 65, 90, 94, 79, 37,…\n",
      "$ HOURLYDRYBULBTEMPF     \u001b[3m\u001b[90m<dbl>\u001b[39m\u001b[23m 83, 53, 36, 36, 39, 41, 19, 24, 54, 73, 83, 44,…\n",
      "$ HOURLYPrecip           \u001b[3m\u001b[90m<chr>\u001b[39m\u001b[23m \"0.00\", \"0.00\", \"0.00\", \"0.00\", \"0.0\", \"0.00\", …\n",
      "$ HOURLYWindSpeed        \u001b[3m\u001b[90m<dbl>\u001b[39m\u001b[23m 13, 6, 13, 14, 11, 6, 0, 11, 11, 5, 21, 7, 17, …\n",
      "$ HOURLYStationPressure  \u001b[3m\u001b[90m<dbl>\u001b[39m\u001b[23m 29.99, 30.03, 30.12, 29.80, 30.50, 29.92, 30.40…\n"
     ]
    }
   ],
   "source": [
    "glimpse(sub_df)"
   ]
  },
  {
   "cell_type": "markdown",
   "metadata": {
    "id": "ujq-wXJxlDZS"
   },
   "source": [
    "Convert `HOURLYPrecip` to the `numeric` type and store the cleaned dataframe as a new variable.\n"
   ]
  },
  {
   "cell_type": "code",
   "execution_count": 13,
   "metadata": {
    "colab": {
     "base_uri": "https://localhost:8080/"
    },
    "executionInfo": {
     "elapsed": 33,
     "status": "ok",
     "timestamp": 1725021648659,
     "user": {
      "displayName": "Vanja Blazinic",
      "userId": "08775111406535905076"
     },
     "user_tz": 0
    },
    "id": "JzHzvROTlDZS",
    "outputId": "a635963b-4a95-453d-9b63-af2f8a786d93"
   },
   "outputs": [
    {
     "name": "stderr",
     "output_type": "stream",
     "text": [
      "Warning message in eval(expr, envir, enclos):\n",
      "“NAs introduced by coercion”\n"
     ]
    },
    {
     "data": {
      "text/html": [
       "<style>\n",
       ".list-inline {list-style: none; margin:0; padding: 0}\n",
       ".list-inline>li {display: inline-block}\n",
       ".list-inline>li:not(:last-child)::after {content: \"\\00b7\"; padding: 0 .5ex}\n",
       "</style>\n",
       "<ol class=list-inline><li>0</li><li>0.06</li><li>&lt;NA&gt;</li><li>0.03</li><li>0.02</li><li>0.08</li><li>0.01</li><li>0.07</li><li>0.16</li><li>0.09</li><li>0.22</li><li>0.24</li><li>0.18</li><li>0.05</li><li>0.04</li><li>0.11</li><li>0.14</li><li>0.25</li><li>0.1</li><li>0.58</li><li>0.12</li><li>0.13</li><li>0.46</li><li>1.07</li><li>1.19</li><li>0.34</li><li>0.2</li><li>0.42</li><li>0.17</li><li>0.27</li><li>0.35</li><li>0.31</li><li>0.33</li><li>0.23</li><li>0.26</li><li>0.28</li><li>0.75</li><li>0.19</li><li>0.36</li><li>0.54</li><li>0.59</li><li>0.21</li></ol>\n"
      ],
      "text/latex": [
       "\\begin{enumerate*}\n",
       "\\item 0\n",
       "\\item 0.06\n",
       "\\item <NA>\n",
       "\\item 0.03\n",
       "\\item 0.02\n",
       "\\item 0.08\n",
       "\\item 0.01\n",
       "\\item 0.07\n",
       "\\item 0.16\n",
       "\\item 0.09\n",
       "\\item 0.22\n",
       "\\item 0.24\n",
       "\\item 0.18\n",
       "\\item 0.05\n",
       "\\item 0.04\n",
       "\\item 0.11\n",
       "\\item 0.14\n",
       "\\item 0.25\n",
       "\\item 0.1\n",
       "\\item 0.58\n",
       "\\item 0.12\n",
       "\\item 0.13\n",
       "\\item 0.46\n",
       "\\item 1.07\n",
       "\\item 1.19\n",
       "\\item 0.34\n",
       "\\item 0.2\n",
       "\\item 0.42\n",
       "\\item 0.17\n",
       "\\item 0.27\n",
       "\\item 0.35\n",
       "\\item 0.31\n",
       "\\item 0.33\n",
       "\\item 0.23\n",
       "\\item 0.26\n",
       "\\item 0.28\n",
       "\\item 0.75\n",
       "\\item 0.19\n",
       "\\item 0.36\n",
       "\\item 0.54\n",
       "\\item 0.59\n",
       "\\item 0.21\n",
       "\\end{enumerate*}\n"
      ],
      "text/markdown": [
       "1. 0\n",
       "2. 0.06\n",
       "3. &lt;NA&gt;\n",
       "4. 0.03\n",
       "5. 0.02\n",
       "6. 0.08\n",
       "7. 0.01\n",
       "8. 0.07\n",
       "9. 0.16\n",
       "10. 0.09\n",
       "11. 0.22\n",
       "12. 0.24\n",
       "13. 0.18\n",
       "14. 0.05\n",
       "15. 0.04\n",
       "16. 0.11\n",
       "17. 0.14\n",
       "18. 0.25\n",
       "19. 0.1\n",
       "20. 0.58\n",
       "21. 0.12\n",
       "22. 0.13\n",
       "23. 0.46\n",
       "24. 1.07\n",
       "25. 1.19\n",
       "26. 0.34\n",
       "27. 0.2\n",
       "28. 0.42\n",
       "29. 0.17\n",
       "30. 0.27\n",
       "31. 0.35\n",
       "32. 0.31\n",
       "33. 0.33\n",
       "34. 0.23\n",
       "35. 0.26\n",
       "36. 0.28\n",
       "37. 0.75\n",
       "38. 0.19\n",
       "39. 0.36\n",
       "40. 0.54\n",
       "41. 0.59\n",
       "42. 0.21\n",
       "\n",
       "\n"
      ],
      "text/plain": [
       " [1] 0.00 0.06   NA 0.03 0.02 0.08 0.01 0.07 0.16 0.09 0.22 0.24 0.18 0.05 0.04\n",
       "[16] 0.11 0.14 0.25 0.10 0.58 0.12 0.13 0.46 1.07 1.19 0.34 0.20 0.42 0.17 0.27\n",
       "[31] 0.35 0.31 0.33 0.23 0.26 0.28 0.75 0.19 0.36 0.54 0.59 0.21"
      ]
     },
     "metadata": {},
     "output_type": "display_data"
    }
   ],
   "source": [
    "sub_df$HOURLYPrecip <- as.numeric(sub_df$HOURLYPrecip)\n",
    "unique(sub_df$HOURLYPrecip)"
   ]
  },
  {
   "cell_type": "markdown",
   "metadata": {
    "id": "axlhiof4lDZS"
   },
   "source": [
    "We can now see that all fields have numerical data type.\n"
   ]
  },
  {
   "cell_type": "code",
   "execution_count": 14,
   "metadata": {
    "colab": {
     "base_uri": "https://localhost:8080/"
    },
    "executionInfo": {
     "elapsed": 33,
     "status": "ok",
     "timestamp": 1725021648659,
     "user": {
      "displayName": "Vanja Blazinic",
      "userId": "08775111406535905076"
     },
     "user_tz": 0
    },
    "id": "urD0ZxwelDZS",
    "outputId": "c0d48726-ab32-408a-d722-49c24c8b1960"
   },
   "outputs": [
    {
     "name": "stdout",
     "output_type": "stream",
     "text": [
      "Rows: 4,050\n",
      "Columns: 5\n",
      "$ HOURLYRelativeHumidity \u001b[3m\u001b[90m<dbl>\u001b[39m\u001b[23m 46, 48, 89, 48, 61, 79, 51, 65, 90, 37, 72, 47,…\n",
      "$ HOURLYDRYBULBTEMPF     \u001b[3m\u001b[90m<dbl>\u001b[39m\u001b[23m 83, 53, 36, 36, 39, 41, 19, 24, 54, 44, 57, 78,…\n",
      "$ HOURLYPrecip           \u001b[3m\u001b[90m<dbl>\u001b[39m\u001b[23m 0.00, 0.00, 0.00, 0.00, 0.00, 0.00, 0.00, 0.00,…\n",
      "$ HOURLYWindSpeed        \u001b[3m\u001b[90m<dbl>\u001b[39m\u001b[23m 13, 6, 13, 14, 11, 6, 0, 11, 11, 7, 17, 8, 3, 1…\n",
      "$ HOURLYStationPressure  \u001b[3m\u001b[90m<dbl>\u001b[39m\u001b[23m 29.99, 30.03, 30.12, 29.80, 30.50, 29.92, 30.40…\n"
     ]
    }
   ],
   "source": [
    "sub_df <- sub_df[complete.cases(sub_df),]\n",
    "glimpse(sub_df)"
   ]
  },
  {
   "cell_type": "code",
   "execution_count": 15,
   "metadata": {},
   "outputs": [
    {
     "data": {
      "text/html": [
       "<style>\n",
       ".list-inline {list-style: none; margin:0; padding: 0}\n",
       ".list-inline>li {display: inline-block}\n",
       ".list-inline>li:not(:last-child)::after {content: \"\\00b7\"; padding: 0 .5ex}\n",
       "</style>\n",
       "<ol class=list-inline><li>0</li><li>0.06</li><li>0.03</li><li>0.02</li><li>0.08</li><li>0.01</li><li>0.07</li><li>0.16</li><li>0.09</li><li>0.22</li><li>0.24</li><li>0.18</li><li>0.05</li><li>0.04</li><li>0.11</li><li>0.14</li><li>0.25</li><li>0.1</li><li>0.58</li><li>0.12</li><li>0.13</li><li>0.46</li><li>1.07</li><li>1.19</li><li>0.34</li><li>0.2</li><li>0.42</li><li>0.17</li><li>0.27</li><li>0.35</li><li>0.31</li><li>0.33</li><li>0.23</li><li>0.26</li><li>0.28</li><li>0.75</li><li>0.19</li><li>0.36</li><li>0.54</li><li>0.59</li><li>0.21</li></ol>\n"
      ],
      "text/latex": [
       "\\begin{enumerate*}\n",
       "\\item 0\n",
       "\\item 0.06\n",
       "\\item 0.03\n",
       "\\item 0.02\n",
       "\\item 0.08\n",
       "\\item 0.01\n",
       "\\item 0.07\n",
       "\\item 0.16\n",
       "\\item 0.09\n",
       "\\item 0.22\n",
       "\\item 0.24\n",
       "\\item 0.18\n",
       "\\item 0.05\n",
       "\\item 0.04\n",
       "\\item 0.11\n",
       "\\item 0.14\n",
       "\\item 0.25\n",
       "\\item 0.1\n",
       "\\item 0.58\n",
       "\\item 0.12\n",
       "\\item 0.13\n",
       "\\item 0.46\n",
       "\\item 1.07\n",
       "\\item 1.19\n",
       "\\item 0.34\n",
       "\\item 0.2\n",
       "\\item 0.42\n",
       "\\item 0.17\n",
       "\\item 0.27\n",
       "\\item 0.35\n",
       "\\item 0.31\n",
       "\\item 0.33\n",
       "\\item 0.23\n",
       "\\item 0.26\n",
       "\\item 0.28\n",
       "\\item 0.75\n",
       "\\item 0.19\n",
       "\\item 0.36\n",
       "\\item 0.54\n",
       "\\item 0.59\n",
       "\\item 0.21\n",
       "\\end{enumerate*}\n"
      ],
      "text/markdown": [
       "1. 0\n",
       "2. 0.06\n",
       "3. 0.03\n",
       "4. 0.02\n",
       "5. 0.08\n",
       "6. 0.01\n",
       "7. 0.07\n",
       "8. 0.16\n",
       "9. 0.09\n",
       "10. 0.22\n",
       "11. 0.24\n",
       "12. 0.18\n",
       "13. 0.05\n",
       "14. 0.04\n",
       "15. 0.11\n",
       "16. 0.14\n",
       "17. 0.25\n",
       "18. 0.1\n",
       "19. 0.58\n",
       "20. 0.12\n",
       "21. 0.13\n",
       "22. 0.46\n",
       "23. 1.07\n",
       "24. 1.19\n",
       "25. 0.34\n",
       "26. 0.2\n",
       "27. 0.42\n",
       "28. 0.17\n",
       "29. 0.27\n",
       "30. 0.35\n",
       "31. 0.31\n",
       "32. 0.33\n",
       "33. 0.23\n",
       "34. 0.26\n",
       "35. 0.28\n",
       "36. 0.75\n",
       "37. 0.19\n",
       "38. 0.36\n",
       "39. 0.54\n",
       "40. 0.59\n",
       "41. 0.21\n",
       "\n",
       "\n"
      ],
      "text/plain": [
       " [1] 0.00 0.06 0.03 0.02 0.08 0.01 0.07 0.16 0.09 0.22 0.24 0.18 0.05 0.04 0.11\n",
       "[16] 0.14 0.25 0.10 0.58 0.12 0.13 0.46 1.07 1.19 0.34 0.20 0.42 0.17 0.27 0.35\n",
       "[31] 0.31 0.33 0.23 0.26 0.28 0.75 0.19 0.36 0.54 0.59 0.21"
      ]
     },
     "metadata": {},
     "output_type": "display_data"
    }
   ],
   "source": [
    "unique(sub_df$HOURLYPrecip)"
   ]
  },
  {
   "cell_type": "markdown",
   "metadata": {
    "id": "7nkjEf4tlDZS"
   },
   "source": [
    "<a id=\"cell6\"></a>\n",
    "## 6. Rename Columns\n",
    "Let's rename the following columns as:\n",
    "- 'HOURLYRelativeHumidity' to 'relative_humidity'\n",
    "- 'HOURLYDRYBULBTEMPF' to 'dry_bulb_temp_f'\n",
    "- 'HOURLYPrecip' to 'precip'\n",
    "- 'HOURLYWindSpeed' to 'wind_speed'\n",
    "- 'HOURLYStationPressure' to 'station_pressure'\n",
    "\n",
    "You can use `dplyr::rename()`. Then, store the final dataframe as a new variable.\n"
   ]
  },
  {
   "cell_type": "code",
   "execution_count": 16,
   "metadata": {
    "id": "d2Ddry6llDZS"
   },
   "outputs": [],
   "source": [
    "colnames(sub_df) <- c('relative_humidity', 'dry_bulb_temp_f', 'precip', 'wind_speed', 'station_pressure')"
   ]
  },
  {
   "cell_type": "code",
   "execution_count": 17,
   "metadata": {
    "colab": {
     "base_uri": "https://localhost:8080/"
    },
    "executionInfo": {
     "elapsed": 33,
     "status": "ok",
     "timestamp": 1725021648659,
     "user": {
      "displayName": "Vanja Blazinic",
      "userId": "08775111406535905076"
     },
     "user_tz": 0
    },
    "id": "rcBr-EsQ4GK1",
    "outputId": "109d6d48-0ac1-4b6c-f0c3-daf0600fe279"
   },
   "outputs": [
    {
     "name": "stdout",
     "output_type": "stream",
     "text": [
      "Rows: 4,050\n",
      "Columns: 5\n",
      "$ relative_humidity \u001b[3m\u001b[90m<dbl>\u001b[39m\u001b[23m 46, 48, 89, 48, 61, 79, 51, 65, 90, 37, 72, 47, 84, …\n",
      "$ dry_bulb_temp_f   \u001b[3m\u001b[90m<dbl>\u001b[39m\u001b[23m 83, 53, 36, 36, 39, 41, 19, 24, 54, 44, 57, 78, 75, …\n",
      "$ precip            \u001b[3m\u001b[90m<dbl>\u001b[39m\u001b[23m 0.00, 0.00, 0.00, 0.00, 0.00, 0.00, 0.00, 0.00, 0.06…\n",
      "$ wind_speed        \u001b[3m\u001b[90m<dbl>\u001b[39m\u001b[23m 13, 6, 13, 14, 11, 6, 0, 11, 11, 7, 17, 8, 3, 11, 13…\n",
      "$ station_pressure  \u001b[3m\u001b[90m<dbl>\u001b[39m\u001b[23m 29.99, 30.03, 30.12, 29.80, 30.50, 29.92, 30.40, 30.…\n"
     ]
    }
   ],
   "source": [
    "glimpse(sub_df)"
   ]
  },
  {
   "cell_type": "markdown",
   "metadata": {
    "id": "veNTVe4jlDZS"
   },
   "source": [
    "<a id=\"cell7\"></a>\n",
    "## 7. Exploratory Data Analysis\n",
    "Now that you have finished preprocessing the dataset, you can can start exploring the columns more.\n",
    "\n",
    "First, split the data into a training and testing set. Splitting a dataset is done randomly, so to have reproducible results set the seed = 1234. Also, use 80% of the data for training.\n"
   ]
  },
  {
   "cell_type": "code",
   "execution_count": 18,
   "metadata": {
    "id": "zACZjGLglDZS"
   },
   "outputs": [],
   "source": [
    "set.seed(1234)\n",
    "weather_split <- initial_split(sub_df, prop=0.8)\n",
    "training_data <- training(weather_split)\n",
    "testing_data <- testing(weather_split)"
   ]
  },
  {
   "cell_type": "markdown",
   "metadata": {
    "id": "kZ-UihgjlDZS"
   },
   "source": [
    "Next, looking at just the **training set**, plot histograms or box plots of the variables (`relative_humidity`, `dry_bulb_temp_f`, `precip`, `wind_speed`,  `station_pressure`) for an intial look of their distributions using `tidyverse`'s `ggplot`. Leave the testing set as is because it is good practice to not see the testing set until evaluating the final model.\n"
   ]
  },
  {
   "cell_type": "code",
   "execution_count": 19,
   "metadata": {
    "colab": {
     "base_uri": "https://localhost:8080/",
     "height": 698
    },
    "executionInfo": {
     "elapsed": 1467,
     "status": "ok",
     "timestamp": 1725021995216,
     "user": {
      "displayName": "Vanja Blazinic",
      "userId": "08775111406535905076"
     },
     "user_tz": 0
    },
    "id": "H4SDgtCalDZS",
    "outputId": "1c94e91a-6e8d-4fd2-94d9-b9d869600dac"
   },
   "outputs": [
    {
     "name": "stderr",
     "output_type": "stream",
     "text": [
      "\u001b[1m\u001b[22m`stat_bin()` using `bins = 30`. Pick better value with `binwidth`.\n",
      "\u001b[1m\u001b[22m`stat_bin()` using `bins = 30`. Pick better value with `binwidth`.\n",
      "\u001b[1m\u001b[22m`stat_bin()` using `bins = 30`. Pick better value with `binwidth`.\n",
      "\u001b[1m\u001b[22m`stat_bin()` using `bins = 30`. Pick better value with `binwidth`.\n",
      "\u001b[1m\u001b[22m`stat_bin()` using `bins = 30`. Pick better value with `binwidth`.\n"
     ]
    },
    {
     "data": {
      "image/png": "[encoded data removed]",
      "text/plain": [
       "plot without title"
      ]
     },
     "metadata": {
      "image/png": {
       "height": 420,
       "width": 420
      }
     },
     "output_type": "display_data"
    }
   ],
   "source": [
    "plot1 <- ggplot(training_data, aes(x=relative_humidity) ) + geom_histogram()\n",
    "plot2 <- ggplot(training_data, aes(x=dry_bulb_temp_f) ) + geom_histogram()\n",
    "plot3 <- ggplot(training_data, aes(x=precip) ) + geom_histogram()\n",
    "plot4 <- ggplot(training_data, aes(x=wind_speed) ) + geom_histogram()\n",
    "plot5 <- ggplot(training_data, aes(station_pressure) ) + geom_histogram()\n",
    "\n",
    "suppressWarnings( plot_grid(plot1, plot2, plot3, plot4, plot5, ncol = 1, nrow=5, align=\"hv\") )"
   ]
  },
  {
   "cell_type": "markdown",
   "metadata": {
    "id": "1OoWZpc1lDZS"
   },
   "source": [
    "<a id=\"cell8\"></a>\n",
    "## 8. Linear Regression\n",
    "After exploring the dataset more, you are now ready to start creating models to predict the precipitation (`precip`).\n",
    "\n",
    "Create simple linear regression models where `precip` is the response variable and each of `relative_humidity`, `dry_bulb_temp_f`,`wind_speed` or `station_pressure` will be a predictor variable, e.g. `precip ~ relative_humidity`, `precip ~ dry_bulb_temp_f`, etc. for a total of four simple models.\n",
    "Additionally, visualize each simple model with a scatter plot.\n"
   ]
  },
  {
   "cell_type": "markdown",
   "metadata": {},
   "source": [
    "### 8.1 Precipitation ~ Relative Humidity"
   ]
  },
  {
   "cell_type": "code",
   "execution_count": 20,
   "metadata": {
    "colab": {
     "base_uri": "https://localhost:8080/",
     "height": 173
    },
    "executionInfo": {
     "elapsed": 284,
     "status": "ok",
     "timestamp": 1725023814386,
     "user": {
      "displayName": "Vanja Blazinic",
      "userId": "08775111406535905076"
     },
     "user_tz": 0
    },
    "id": "8YYn-08clDZS",
    "outputId": "7e92f68c-7844-4c6d-f60d-6885a6dab2e0",
    "scrolled": true
   },
   "outputs": [
    {
     "data": {
      "text/html": [
       "<table class=\"dataframe\">\n",
       "<caption>A matrix: 2 × 4 of type dbl</caption>\n",
       "<thead>\n",
       "\t<tr><th></th><th scope=col>Estimate</th><th scope=col>Std. Error</th><th scope=col>t value</th><th scope=col>Pr(&gt;|t|)</th></tr>\n",
       "</thead>\n",
       "<tbody>\n",
       "\t<tr><th scope=row>(Intercept)</th><td>-0.021151308</td><td>2.649108e-03</td><td>-7.984314</td><td>1.944779e-15</td></tr>\n",
       "\t<tr><th scope=row>relative_humidity</th><td> 0.000421776</td><td>3.833256e-05</td><td>11.003074</td><td>1.134770e-27</td></tr>\n",
       "</tbody>\n",
       "</table>\n"
      ],
      "text/latex": [
       "A matrix: 2 × 4 of type dbl\n",
       "\\begin{tabular}{r|llll}\n",
       "  & Estimate & Std. Error & t value & Pr(>\\textbar{}t\\textbar{})\\\\\n",
       "\\hline\n",
       "\t(Intercept) & -0.021151308 & 2.649108e-03 & -7.984314 & 1.944779e-15\\\\\n",
       "\trelative\\_humidity &  0.000421776 & 3.833256e-05 & 11.003074 & 1.134770e-27\\\\\n",
       "\\end{tabular}\n"
      ],
      "text/markdown": [
       "\n",
       "A matrix: 2 × 4 of type dbl\n",
       "\n",
       "| <!--/--> | Estimate | Std. Error | t value | Pr(&gt;|t|) |\n",
       "|---|---|---|---|---|\n",
       "| (Intercept) | -0.021151308 | 2.649108e-03 | -7.984314 | 1.944779e-15 |\n",
       "| relative_humidity |  0.000421776 | 3.833256e-05 | 11.003074 | 1.134770e-27 |\n",
       "\n"
      ],
      "text/plain": [
       "                  Estimate     Std. Error   t value   Pr(>|t|)    \n",
       "(Intercept)       -0.021151308 2.649108e-03 -7.984314 1.944779e-15\n",
       "relative_humidity  0.000421776 3.833256e-05 11.003074 1.134770e-27"
      ]
     },
     "metadata": {},
     "output_type": "display_data"
    },
    {
     "data": {
      "image/png": "[encoded data removed]",
      "text/plain": [
       "plot without title"
      ]
     },
     "metadata": {
      "image/png": {
       "height": 420,
       "width": 420
      }
     },
     "output_type": "display_data"
    }
   ],
   "source": [
    "train_fit1 <- lm(formula = precip ~ relative_humidity, data = training_data)\n",
    "\n",
    "#train_fit1$coefficients\n",
    "summary(train_fit1)$coefficients\n",
    "intercept1 <- summary(train_fit1)$coefficients[1]\n",
    "coeff1 <- summary(train_fit1)$coefficients[2]\n",
    "\n",
    "lmTrain_df1 <- data.frame(relative_humidity = training_data$relative_humidity,\n",
    "                     precip = training_data$precip,\n",
    "                     precip_predict = predict(train_fit1)\n",
    "                     )\n",
    "\n",
    "ggTrain_plot1 <- ggplot(lmTrain_df1) +\n",
    "                 geom_point(aes(x=relative_humidity, y=precip),\n",
    "                            colour='green', alpha=0.7) +\n",
    "                 geom_line( aes(x=relative_humidity, y=precip_predict),\n",
    "                           colour='black', linewidth=1 ) +\n",
    "                 labs(x='Relative humidity (%)', y='Precipitation',\n",
    "                      title='Training Data')\n",
    "\n",
    "test_results1 <- testing_data$relative_humidity * coeff1 + intercept1\n",
    "lmTest_df1 <- data.frame(relative_humidity = testing_data$relative_humidity,\n",
    "                         precip = testing_data$precip,\n",
    "                         precip_predict = test_results1\n",
    "                        )\n",
    "\n",
    "ggTest_plot1 <- ggplot(lmTest_df1) +\n",
    "                geom_point(aes(x=relative_humidity, y=precip),\n",
    "                           colour='red', alpha=0.7) +\n",
    "                geom_line( aes(x=relative_humidity, y=precip_predict),\n",
    "                           colour='black', linewidth=1) +\n",
    "                labs(x='Relative humidity (%)', y='',\n",
    "                      title='Testing Data')\n",
    "\n",
    "suppressWarnings( plot_grid(ggTrain_plot1, ggTest_plot1, ncol = 1, nrow=2, align='hv') )"
   ]
  },
  {
   "cell_type": "code",
   "execution_count": 21,
   "metadata": {},
   "outputs": [
    {
     "name": "stdout",
     "output_type": "stream",
     "text": [
      "[1] \"R-squared score on training data for Precipitation ~ Relative Humidity\"\n"
     ]
    },
    {
     "data": {
      "text/html": [
       "<table class=\"dataframe\">\n",
       "<caption>A tibble: 1 × 3</caption>\n",
       "<thead>\n",
       "\t<tr><th scope=col>.metric</th><th scope=col>.estimator</th><th scope=col>.estimate</th></tr>\n",
       "\t<tr><th scope=col>&lt;chr&gt;</th><th scope=col>&lt;chr&gt;</th><th scope=col>&lt;dbl&gt;</th></tr>\n",
       "</thead>\n",
       "<tbody>\n",
       "\t<tr><td>rsq</td><td>standard</td><td>0.03604203</td></tr>\n",
       "</tbody>\n",
       "</table>\n"
      ],
      "text/latex": [
       "A tibble: 1 × 3\n",
       "\\begin{tabular}{lll}\n",
       " .metric & .estimator & .estimate\\\\\n",
       " <chr> & <chr> & <dbl>\\\\\n",
       "\\hline\n",
       "\t rsq & standard & 0.03604203\\\\\n",
       "\\end{tabular}\n"
      ],
      "text/markdown": [
       "\n",
       "A tibble: 1 × 3\n",
       "\n",
       "| .metric &lt;chr&gt; | .estimator &lt;chr&gt; | .estimate &lt;dbl&gt; |\n",
       "|---|---|---|\n",
       "| rsq | standard | 0.03604203 |\n",
       "\n"
      ],
      "text/plain": [
       "  .metric .estimator .estimate \n",
       "1 rsq     standard   0.03604203"
      ]
     },
     "metadata": {},
     "output_type": "display_data"
    },
    {
     "name": "stdout",
     "output_type": "stream",
     "text": [
      "[1] \"R-squared score on testing data for Precipitation ~ Relative Humidity\"\n"
     ]
    },
    {
     "data": {
      "text/html": [
       "<table class=\"dataframe\">\n",
       "<caption>A tibble: 1 × 3</caption>\n",
       "<thead>\n",
       "\t<tr><th scope=col>.metric</th><th scope=col>.estimator</th><th scope=col>.estimate</th></tr>\n",
       "\t<tr><th scope=col>&lt;chr&gt;</th><th scope=col>&lt;chr&gt;</th><th scope=col>&lt;dbl&gt;</th></tr>\n",
       "</thead>\n",
       "<tbody>\n",
       "\t<tr><td>rsq</td><td>standard</td><td>0.05095142</td></tr>\n",
       "</tbody>\n",
       "</table>\n"
      ],
      "text/latex": [
       "A tibble: 1 × 3\n",
       "\\begin{tabular}{lll}\n",
       " .metric & .estimator & .estimate\\\\\n",
       " <chr> & <chr> & <dbl>\\\\\n",
       "\\hline\n",
       "\t rsq & standard & 0.05095142\\\\\n",
       "\\end{tabular}\n"
      ],
      "text/markdown": [
       "\n",
       "A tibble: 1 × 3\n",
       "\n",
       "| .metric &lt;chr&gt; | .estimator &lt;chr&gt; | .estimate &lt;dbl&gt; |\n",
       "|---|---|---|\n",
       "| rsq | standard | 0.05095142 |\n",
       "\n"
      ],
      "text/plain": [
       "  .metric .estimator .estimate \n",
       "1 rsq     standard   0.05095142"
      ]
     },
     "metadata": {},
     "output_type": "display_data"
    }
   ],
   "source": [
    "print(\"R-squared score on training data for Precipitation ~ Relative Humidity\")\n",
    "rsq(lmTrain_df1, truth=precip, estimate=precip_predict)\n",
    "\n",
    "print(\"R-squared score on testing data for Precipitation ~ Relative Humidity\")\n",
    "rsq(lmTest_df1, truth=precip, estimate=precip_predict)"
   ]
  },
  {
   "cell_type": "markdown",
   "metadata": {},
   "source": [
    "### 8.2 Precipitation ~ Dry Bulb Temperature"
   ]
  },
  {
   "cell_type": "code",
   "execution_count": 22,
   "metadata": {
    "colab": {
     "base_uri": "https://localhost:8080/",
     "height": 173
    },
    "executionInfo": {
     "elapsed": 284,
     "status": "ok",
     "timestamp": 1725023829603,
     "user": {
      "displayName": "Vanja Blazinic",
      "userId": "08775111406535905076"
     },
     "user_tz": 0
    },
    "id": "wW0sgHMqlDZi",
    "outputId": "cf53481f-15c0-41ab-fd53-6f707e27aef8"
   },
   "outputs": [
    {
     "data": {
      "text/html": [
       "<table class=\"dataframe\">\n",
       "<caption>A matrix: 2 × 4 of type dbl</caption>\n",
       "<thead>\n",
       "\t<tr><th></th><th scope=col>Estimate</th><th scope=col>Std. Error</th><th scope=col>t value</th><th scope=col>Pr(&gt;|t|)</th></tr>\n",
       "</thead>\n",
       "<tbody>\n",
       "\t<tr><th scope=row>(Intercept)</th><td>4.326887e-03</td><td>2.591399e-03</td><td>1.6697111</td><td>0.09507319</td></tr>\n",
       "\t<tr><th scope=row>dry_bulb_temp_f</th><td>4.427595e-05</td><td>4.473907e-05</td><td>0.9896484</td><td>0.32241996</td></tr>\n",
       "</tbody>\n",
       "</table>\n"
      ],
      "text/latex": [
       "A matrix: 2 × 4 of type dbl\n",
       "\\begin{tabular}{r|llll}\n",
       "  & Estimate & Std. Error & t value & Pr(>\\textbar{}t\\textbar{})\\\\\n",
       "\\hline\n",
       "\t(Intercept) & 4.326887e-03 & 2.591399e-03 & 1.6697111 & 0.09507319\\\\\n",
       "\tdry\\_bulb\\_temp\\_f & 4.427595e-05 & 4.473907e-05 & 0.9896484 & 0.32241996\\\\\n",
       "\\end{tabular}\n"
      ],
      "text/markdown": [
       "\n",
       "A matrix: 2 × 4 of type dbl\n",
       "\n",
       "| <!--/--> | Estimate | Std. Error | t value | Pr(&gt;|t|) |\n",
       "|---|---|---|---|---|\n",
       "| (Intercept) | 4.326887e-03 | 2.591399e-03 | 1.6697111 | 0.09507319 |\n",
       "| dry_bulb_temp_f | 4.427595e-05 | 4.473907e-05 | 0.9896484 | 0.32241996 |\n",
       "\n"
      ],
      "text/plain": [
       "                Estimate     Std. Error   t value   Pr(>|t|)  \n",
       "(Intercept)     4.326887e-03 2.591399e-03 1.6697111 0.09507319\n",
       "dry_bulb_temp_f 4.427595e-05 4.473907e-05 0.9896484 0.32241996"
      ]
     },
     "metadata": {},
     "output_type": "display_data"
    },
    {
     "data": {
      "image/png": "[encoded data removed]",
      "text/plain": [
       "plot without title"
      ]
     },
     "metadata": {
      "image/png": {
       "height": 420,
       "width": 420
      }
     },
     "output_type": "display_data"
    }
   ],
   "source": [
    "train_fit2 <- lm(formula = precip ~ dry_bulb_temp_f, data = training_data)\n",
    "\n",
    "#train_fit1$coefficients\n",
    "summary(train_fit2)$coefficients\n",
    "intercept2 <- summary(train_fit2)$coefficients[1]\n",
    "coeff2 <- summary(train_fit2)$coefficients[2]\n",
    "\n",
    "lmTrain_df2 <- data.frame(dry_bulb_temp_f = training_data$dry_bulb_temp_f,\n",
    "                     precip = training_data$precip,\n",
    "                     precip_predict = predict(train_fit2)\n",
    "                     )\n",
    "\n",
    "ggTrain_plot2 <- ggplot(lmTrain_df2) +\n",
    "                 geom_point(aes(x=dry_bulb_temp_f, y=precip),\n",
    "                            colour='green', alpha=0.7) +\n",
    "                 geom_line( aes(x=dry_bulb_temp_f, y=precip_predict),\n",
    "                           colour='black', linewidth=1 ) +\n",
    "                 labs(x='Dry Bulb Temperature (F)', y='Precipitation',\n",
    "                      title='Training Data')\n",
    "\n",
    "test_results2 <- testing_data$dry_bulb_temp_f * coeff2 + intercept2\n",
    "lmTest_df2 <- data.frame(dry_bulb_temp_f = testing_data$dry_bulb_temp_f,\n",
    "                         precip = testing_data$precip,\n",
    "                         precip_predict = test_results2\n",
    "                        )\n",
    "\n",
    "ggTest_plot2 <- ggplot(lmTest_df2) +\n",
    "                geom_point(aes(x=dry_bulb_temp_f, y=precip),\n",
    "                           colour='red', alpha=0.7) +\n",
    "                geom_line( aes(x=dry_bulb_temp_f, y=precip_predict),\n",
    "                           colour='black', linewidth=1) +\n",
    "                labs(x='Dry Bulb Temperature (F)', y='',\n",
    "                      title='Testing Data')\n",
    "\n",
    "suppressWarnings( plot_grid(ggTrain_plot2, ggTest_plot2, ncol = 1, nrow=2, align='hv') )"
   ]
  },
  {
   "cell_type": "code",
   "execution_count": 23,
   "metadata": {
    "colab": {
     "base_uri": "https://localhost:8080/",
     "height": 489
    },
    "executionInfo": {
     "elapsed": 1450,
     "status": "ok",
     "timestamp": 1725024110425,
     "user": {
      "displayName": "Vanja Blazinic",
      "userId": "08775111406535905076"
     },
     "user_tz": 0
    },
    "id": "feedSmkUlDZi",
    "outputId": "aaef9ce0-3745-4efc-89f5-f0294bf4c3ae"
   },
   "outputs": [
    {
     "name": "stdout",
     "output_type": "stream",
     "text": [
      "[1] \"R-squared score on training data for Precipitation ~ Dry Bulb Temperature\"\n"
     ]
    },
    {
     "data": {
      "text/html": [
       "<table class=\"dataframe\">\n",
       "<caption>A tibble: 1 × 3</caption>\n",
       "<thead>\n",
       "\t<tr><th scope=col>.metric</th><th scope=col>.estimator</th><th scope=col>.estimate</th></tr>\n",
       "\t<tr><th scope=col>&lt;chr&gt;</th><th scope=col>&lt;chr&gt;</th><th scope=col>&lt;dbl&gt;</th></tr>\n",
       "</thead>\n",
       "<tbody>\n",
       "\t<tr><td>rsq</td><td>standard</td><td>0.0003023804</td></tr>\n",
       "</tbody>\n",
       "</table>\n"
      ],
      "text/latex": [
       "A tibble: 1 × 3\n",
       "\\begin{tabular}{lll}\n",
       " .metric & .estimator & .estimate\\\\\n",
       " <chr> & <chr> & <dbl>\\\\\n",
       "\\hline\n",
       "\t rsq & standard & 0.0003023804\\\\\n",
       "\\end{tabular}\n"
      ],
      "text/markdown": [
       "\n",
       "A tibble: 1 × 3\n",
       "\n",
       "| .metric &lt;chr&gt; | .estimator &lt;chr&gt; | .estimate &lt;dbl&gt; |\n",
       "|---|---|---|\n",
       "| rsq | standard | 0.0003023804 |\n",
       "\n"
      ],
      "text/plain": [
       "  .metric .estimator .estimate   \n",
       "1 rsq     standard   0.0003023804"
      ]
     },
     "metadata": {},
     "output_type": "display_data"
    },
    {
     "name": "stdout",
     "output_type": "stream",
     "text": [
      "[1] \"R-squared score on testing data for Precipitation ~ Dry Bulb Temperature\"\n"
     ]
    },
    {
     "data": {
      "text/html": [
       "<table class=\"dataframe\">\n",
       "<caption>A tibble: 1 × 3</caption>\n",
       "<thead>\n",
       "\t<tr><th scope=col>.metric</th><th scope=col>.estimator</th><th scope=col>.estimate</th></tr>\n",
       "\t<tr><th scope=col>&lt;chr&gt;</th><th scope=col>&lt;chr&gt;</th><th scope=col>&lt;dbl&gt;</th></tr>\n",
       "</thead>\n",
       "<tbody>\n",
       "\t<tr><td>rsq</td><td>standard</td><td>0.000355124</td></tr>\n",
       "</tbody>\n",
       "</table>\n"
      ],
      "text/latex": [
       "A tibble: 1 × 3\n",
       "\\begin{tabular}{lll}\n",
       " .metric & .estimator & .estimate\\\\\n",
       " <chr> & <chr> & <dbl>\\\\\n",
       "\\hline\n",
       "\t rsq & standard & 0.000355124\\\\\n",
       "\\end{tabular}\n"
      ],
      "text/markdown": [
       "\n",
       "A tibble: 1 × 3\n",
       "\n",
       "| .metric &lt;chr&gt; | .estimator &lt;chr&gt; | .estimate &lt;dbl&gt; |\n",
       "|---|---|---|\n",
       "| rsq | standard | 0.000355124 |\n",
       "\n"
      ],
      "text/plain": [
       "  .metric .estimator .estimate  \n",
       "1 rsq     standard   0.000355124"
      ]
     },
     "metadata": {},
     "output_type": "display_data"
    }
   ],
   "source": [
    "print(\"R-squared score on training data for Precipitation ~ Dry Bulb Temperature\")\n",
    "rsq(lmTrain_df2, truth=precip, estimate=precip_predict)\n",
    "\n",
    "print(\"R-squared score on testing data for Precipitation ~ Dry Bulb Temperature\")\n",
    "rsq(lmTest_df2, truth=precip, estimate=precip_predict)"
   ]
  },
  {
   "cell_type": "markdown",
   "metadata": {
    "colab": {
     "base_uri": "https://localhost:8080/",
     "height": 489
    },
    "executionInfo": {
     "elapsed": 1233,
     "status": "ok",
     "timestamp": 1725023883987,
     "user": {
      "displayName": "Vanja Blazinic",
      "userId": "08775111406535905076"
     },
     "user_tz": 0
    },
    "id": "IY_yzx9-lDZi",
    "outputId": "c0010950-c937-46cb-8c91-512d1ac7185b"
   },
   "source": [
    "### 8.3 Precipitation ~ Wind Speed"
   ]
  },
  {
   "cell_type": "code",
   "execution_count": 24,
   "metadata": {},
   "outputs": [
    {
     "data": {
      "text/html": [
       "<table class=\"dataframe\">\n",
       "<caption>A matrix: 2 × 4 of type dbl</caption>\n",
       "<thead>\n",
       "\t<tr><th></th><th scope=col>Estimate</th><th scope=col>Std. Error</th><th scope=col>t value</th><th scope=col>Pr(&gt;|t|)</th></tr>\n",
       "</thead>\n",
       "<tbody>\n",
       "\t<tr><th scope=row>(Intercept)</th><td>0.0004100668</td><td>0.0015991571</td><td>0.2564268</td><td>7.976376e-01</td></tr>\n",
       "\t<tr><th scope=row>wind_speed</th><td>0.0005697617</td><td>0.0001254338</td><td>4.5423297</td><td>5.766666e-06</td></tr>\n",
       "</tbody>\n",
       "</table>\n"
      ],
      "text/latex": [
       "A matrix: 2 × 4 of type dbl\n",
       "\\begin{tabular}{r|llll}\n",
       "  & Estimate & Std. Error & t value & Pr(>\\textbar{}t\\textbar{})\\\\\n",
       "\\hline\n",
       "\t(Intercept) & 0.0004100668 & 0.0015991571 & 0.2564268 & 7.976376e-01\\\\\n",
       "\twind\\_speed & 0.0005697617 & 0.0001254338 & 4.5423297 & 5.766666e-06\\\\\n",
       "\\end{tabular}\n"
      ],
      "text/markdown": [
       "\n",
       "A matrix: 2 × 4 of type dbl\n",
       "\n",
       "| <!--/--> | Estimate | Std. Error | t value | Pr(&gt;|t|) |\n",
       "|---|---|---|---|---|\n",
       "| (Intercept) | 0.0004100668 | 0.0015991571 | 0.2564268 | 7.976376e-01 |\n",
       "| wind_speed | 0.0005697617 | 0.0001254338 | 4.5423297 | 5.766666e-06 |\n",
       "\n"
      ],
      "text/plain": [
       "            Estimate     Std. Error   t value   Pr(>|t|)    \n",
       "(Intercept) 0.0004100668 0.0015991571 0.2564268 7.976376e-01\n",
       "wind_speed  0.0005697617 0.0001254338 4.5423297 5.766666e-06"
      ]
     },
     "metadata": {},
     "output_type": "display_data"
    },
    {
     "data": {
      "image/png": "[encoded data removed]",
      "text/plain": [
       "plot without title"
      ]
     },
     "metadata": {
      "image/png": {
       "height": 420,
       "width": 420
      }
     },
     "output_type": "display_data"
    }
   ],
   "source": [
    "train_fit3 <- lm(formula = precip ~ wind_speed, data = training_data)\n",
    "\n",
    "#train_fit1$coefficients\n",
    "summary(train_fit3)$coefficients\n",
    "intercept3 <- summary(train_fit3)$coefficients[1]\n",
    "coeff3 <- summary(train_fit3)$coefficients[2]\n",
    "\n",
    "lmTrain_df3 <- data.frame(wind_speed = training_data$wind_speed,\n",
    "                     precip = training_data$precip,\n",
    "                     precip_predict = predict(train_fit3)\n",
    "                     )\n",
    "\n",
    "ggTrain_plot3 <- ggplot(lmTrain_df3) +\n",
    "                 geom_point(aes(x=wind_speed, y=precip),\n",
    "                            colour='green', alpha=0.7) +\n",
    "                 geom_line( aes(x=wind_speed, y=precip_predict),\n",
    "                           colour='black', linewidth=1 ) +\n",
    "                 labs(x='Wind Speed', y='Precipitation',\n",
    "                      title='Training Data')\n",
    "\n",
    "test_results3 <- testing_data$wind_speed * coeff3 + intercept3\n",
    "lmTest_df3 <- data.frame(wind_speed = testing_data$wind_speed,\n",
    "                         precip = testing_data$precip,\n",
    "                         precip_predict = test_results3\n",
    "                        )\n",
    "\n",
    "ggTest_plot3 <- ggplot(lmTest_df3) +\n",
    "                geom_point(aes(x=wind_speed, y=precip),\n",
    "                           colour='red', alpha=0.7) +\n",
    "                geom_line( aes(x=wind_speed, y=precip_predict),\n",
    "                           colour='black', linewidth=1) +\n",
    "                labs(x='Wind Speed', y='',\n",
    "                      title='Testing Data')\n",
    "\n",
    "suppressWarnings( plot_grid(ggTrain_plot3, ggTest_plot3, ncol = 1, nrow=2, align='hv') )"
   ]
  },
  {
   "cell_type": "code",
   "execution_count": 25,
   "metadata": {},
   "outputs": [
    {
     "name": "stdout",
     "output_type": "stream",
     "text": [
      "[1] \"R-squared score on training data for Precipitation ~ Wind Speed\"\n"
     ]
    },
    {
     "data": {
      "text/html": [
       "<table class=\"dataframe\">\n",
       "<caption>A tibble: 1 × 3</caption>\n",
       "<thead>\n",
       "\t<tr><th scope=col>.metric</th><th scope=col>.estimator</th><th scope=col>.estimate</th></tr>\n",
       "\t<tr><th scope=col>&lt;chr&gt;</th><th scope=col>&lt;chr&gt;</th><th scope=col>&lt;dbl&gt;</th></tr>\n",
       "</thead>\n",
       "<tbody>\n",
       "\t<tr><td>rsq</td><td>standard</td><td>0.006331723</td></tr>\n",
       "</tbody>\n",
       "</table>\n"
      ],
      "text/latex": [
       "A tibble: 1 × 3\n",
       "\\begin{tabular}{lll}\n",
       " .metric & .estimator & .estimate\\\\\n",
       " <chr> & <chr> & <dbl>\\\\\n",
       "\\hline\n",
       "\t rsq & standard & 0.006331723\\\\\n",
       "\\end{tabular}\n"
      ],
      "text/markdown": [
       "\n",
       "A tibble: 1 × 3\n",
       "\n",
       "| .metric &lt;chr&gt; | .estimator &lt;chr&gt; | .estimate &lt;dbl&gt; |\n",
       "|---|---|---|\n",
       "| rsq | standard | 0.006331723 |\n",
       "\n"
      ],
      "text/plain": [
       "  .metric .estimator .estimate  \n",
       "1 rsq     standard   0.006331723"
      ]
     },
     "metadata": {},
     "output_type": "display_data"
    },
    {
     "name": "stdout",
     "output_type": "stream",
     "text": [
      "[1] \"R-squared score on testing data for Precipitation ~ Wind Speed\"\n"
     ]
    },
    {
     "data": {
      "text/html": [
       "<table class=\"dataframe\">\n",
       "<caption>A tibble: 1 × 3</caption>\n",
       "<thead>\n",
       "\t<tr><th scope=col>.metric</th><th scope=col>.estimator</th><th scope=col>.estimate</th></tr>\n",
       "\t<tr><th scope=col>&lt;chr&gt;</th><th scope=col>&lt;chr&gt;</th><th scope=col>&lt;dbl&gt;</th></tr>\n",
       "</thead>\n",
       "<tbody>\n",
       "\t<tr><td>rsq</td><td>standard</td><td>0.00167055</td></tr>\n",
       "</tbody>\n",
       "</table>\n"
      ],
      "text/latex": [
       "A tibble: 1 × 3\n",
       "\\begin{tabular}{lll}\n",
       " .metric & .estimator & .estimate\\\\\n",
       " <chr> & <chr> & <dbl>\\\\\n",
       "\\hline\n",
       "\t rsq & standard & 0.00167055\\\\\n",
       "\\end{tabular}\n"
      ],
      "text/markdown": [
       "\n",
       "A tibble: 1 × 3\n",
       "\n",
       "| .metric &lt;chr&gt; | .estimator &lt;chr&gt; | .estimate &lt;dbl&gt; |\n",
       "|---|---|---|\n",
       "| rsq | standard | 0.00167055 |\n",
       "\n"
      ],
      "text/plain": [
       "  .metric .estimator .estimate \n",
       "1 rsq     standard   0.00167055"
      ]
     },
     "metadata": {},
     "output_type": "display_data"
    }
   ],
   "source": [
    "print(\"R-squared score on training data for Precipitation ~ Wind Speed\")\n",
    "rsq(lmTrain_df3, truth=precip, estimate=precip_predict)\n",
    "\n",
    "print(\"R-squared score on testing data for Precipitation ~ Wind Speed\")\n",
    "rsq(lmTest_df3, truth=precip, estimate=precip_predict)"
   ]
  },
  {
   "cell_type": "markdown",
   "metadata": {},
   "source": [
    "### 8.4 Precipitation ~ Station Pressure"
   ]
  },
  {
   "cell_type": "code",
   "execution_count": 26,
   "metadata": {},
   "outputs": [
    {
     "data": {
      "text/html": [
       "<table class=\"dataframe\">\n",
       "<caption>A matrix: 2 × 4 of type dbl</caption>\n",
       "<thead>\n",
       "\t<tr><th></th><th scope=col>Estimate</th><th scope=col>Std. Error</th><th scope=col>t value</th><th scope=col>Pr(&gt;|t|)</th></tr>\n",
       "</thead>\n",
       "<tbody>\n",
       "\t<tr><th scope=row>(Intercept)</th><td> 0.74044309</td><td>0.095855445</td><td> 7.724580</td><td>1.485773e-14</td></tr>\n",
       "\t<tr><th scope=row>station_pressure</th><td>-0.02445667</td><td>0.003195217</td><td>-7.654149</td><td>2.551054e-14</td></tr>\n",
       "</tbody>\n",
       "</table>\n"
      ],
      "text/latex": [
       "A matrix: 2 × 4 of type dbl\n",
       "\\begin{tabular}{r|llll}\n",
       "  & Estimate & Std. Error & t value & Pr(>\\textbar{}t\\textbar{})\\\\\n",
       "\\hline\n",
       "\t(Intercept) &  0.74044309 & 0.095855445 &  7.724580 & 1.485773e-14\\\\\n",
       "\tstation\\_pressure & -0.02445667 & 0.003195217 & -7.654149 & 2.551054e-14\\\\\n",
       "\\end{tabular}\n"
      ],
      "text/markdown": [
       "\n",
       "A matrix: 2 × 4 of type dbl\n",
       "\n",
       "| <!--/--> | Estimate | Std. Error | t value | Pr(&gt;|t|) |\n",
       "|---|---|---|---|---|\n",
       "| (Intercept) |  0.74044309 | 0.095855445 |  7.724580 | 1.485773e-14 |\n",
       "| station_pressure | -0.02445667 | 0.003195217 | -7.654149 | 2.551054e-14 |\n",
       "\n"
      ],
      "text/plain": [
       "                 Estimate    Std. Error  t value   Pr(>|t|)    \n",
       "(Intercept)       0.74044309 0.095855445  7.724580 1.485773e-14\n",
       "station_pressure -0.02445667 0.003195217 -7.654149 2.551054e-14"
      ]
     },
     "metadata": {},
     "output_type": "display_data"
    },
    {
     "data": {
      "image/png": "[encoded data removed]",
      "text/plain": [
       "plot without title"
      ]
     },
     "metadata": {
      "image/png": {
       "height": 420,
       "width": 420
      }
     },
     "output_type": "display_data"
    }
   ],
   "source": [
    "train_fit4 <- lm(formula = precip ~ station_pressure, data = training_data)\n",
    "\n",
    "#train_fit1$coefficients\n",
    "summary(train_fit4)$coefficients\n",
    "intercept4 <- summary(train_fit4)$coefficients[1]\n",
    "coeff4 <- summary(train_fit4)$coefficients[2]\n",
    "\n",
    "lmTrain_df4 <- data.frame(station_pressure = training_data$station_pressure,\n",
    "                     precip = training_data$precip,\n",
    "                     precip_predict = predict(train_fit4)\n",
    "                     )\n",
    "\n",
    "ggTrain_plot4 <- ggplot(lmTrain_df4) +\n",
    "                 geom_point(aes(x=station_pressure, y=precip),\n",
    "                            colour='green', alpha=0.7) +\n",
    "                 geom_line( aes(x=station_pressure, y=precip_predict),\n",
    "                           colour='black', linewidth=1 ) +\n",
    "                 labs(x='Station Pressure', y='Precipitation',\n",
    "                      title='Training Data')\n",
    "\n",
    "test_results4 <- testing_data$station_pressure * coeff4 + intercept4\n",
    "lmTest_df4 <- data.frame(station_pressure = testing_data$station_pressure,\n",
    "                         precip = testing_data$precip,\n",
    "                         precip_predict = test_results4\n",
    "                        )\n",
    "\n",
    "ggTest_plot4 <- ggplot(lmTest_df4) +\n",
    "                geom_point(aes(x=station_pressure, y=precip),\n",
    "                           colour='red', alpha=0.7) +\n",
    "                geom_line( aes(x=station_pressure, y=precip_predict),\n",
    "                           colour='black', linewidth=1) +\n",
    "                labs(x='Station Pressure', y='',\n",
    "                      title='Testing Data')\n",
    "\n",
    "suppressWarnings( plot_grid(ggTrain_plot4, ggTest_plot4, ncol = 1, nrow=2, align='hv') )"
   ]
  },
  {
   "cell_type": "code",
   "execution_count": 27,
   "metadata": {},
   "outputs": [
    {
     "name": "stdout",
     "output_type": "stream",
     "text": [
      "[1] \"R-squared score on training data for Precipitation ~ Station Pressure\"\n"
     ]
    },
    {
     "data": {
      "text/html": [
       "<table class=\"dataframe\">\n",
       "<caption>A tibble: 1 × 3</caption>\n",
       "<thead>\n",
       "\t<tr><th scope=col>.metric</th><th scope=col>.estimator</th><th scope=col>.estimate</th></tr>\n",
       "\t<tr><th scope=col>&lt;chr&gt;</th><th scope=col>&lt;chr&gt;</th><th scope=col>&lt;dbl&gt;</th></tr>\n",
       "</thead>\n",
       "<tbody>\n",
       "\t<tr><td>rsq</td><td>standard</td><td>0.01777172</td></tr>\n",
       "</tbody>\n",
       "</table>\n"
      ],
      "text/latex": [
       "A tibble: 1 × 3\n",
       "\\begin{tabular}{lll}\n",
       " .metric & .estimator & .estimate\\\\\n",
       " <chr> & <chr> & <dbl>\\\\\n",
       "\\hline\n",
       "\t rsq & standard & 0.01777172\\\\\n",
       "\\end{tabular}\n"
      ],
      "text/markdown": [
       "\n",
       "A tibble: 1 × 3\n",
       "\n",
       "| .metric &lt;chr&gt; | .estimator &lt;chr&gt; | .estimate &lt;dbl&gt; |\n",
       "|---|---|---|\n",
       "| rsq | standard | 0.01777172 |\n",
       "\n"
      ],
      "text/plain": [
       "  .metric .estimator .estimate \n",
       "1 rsq     standard   0.01777172"
      ]
     },
     "metadata": {},
     "output_type": "display_data"
    },
    {
     "name": "stdout",
     "output_type": "stream",
     "text": [
      "[1] \"R-squared score on testing data for Precipitation ~ Station Pressure\"\n"
     ]
    },
    {
     "data": {
      "text/html": [
       "<table class=\"dataframe\">\n",
       "<caption>A tibble: 1 × 3</caption>\n",
       "<thead>\n",
       "\t<tr><th scope=col>.metric</th><th scope=col>.estimator</th><th scope=col>.estimate</th></tr>\n",
       "\t<tr><th scope=col>&lt;chr&gt;</th><th scope=col>&lt;chr&gt;</th><th scope=col>&lt;dbl&gt;</th></tr>\n",
       "</thead>\n",
       "<tbody>\n",
       "\t<tr><td>rsq</td><td>standard</td><td>0.01801277</td></tr>\n",
       "</tbody>\n",
       "</table>\n"
      ],
      "text/latex": [
       "A tibble: 1 × 3\n",
       "\\begin{tabular}{lll}\n",
       " .metric & .estimator & .estimate\\\\\n",
       " <chr> & <chr> & <dbl>\\\\\n",
       "\\hline\n",
       "\t rsq & standard & 0.01801277\\\\\n",
       "\\end{tabular}\n"
      ],
      "text/markdown": [
       "\n",
       "A tibble: 1 × 3\n",
       "\n",
       "| .metric &lt;chr&gt; | .estimator &lt;chr&gt; | .estimate &lt;dbl&gt; |\n",
       "|---|---|---|\n",
       "| rsq | standard | 0.01801277 |\n",
       "\n"
      ],
      "text/plain": [
       "  .metric .estimator .estimate \n",
       "1 rsq     standard   0.01801277"
      ]
     },
     "metadata": {},
     "output_type": "display_data"
    }
   ],
   "source": [
    "print(\"R-squared score on training data for Precipitation ~ Station Pressure\")\n",
    "rsq(lmTrain_df4, truth=precip, estimate=precip_predict)\n",
    "\n",
    "print(\"R-squared score on testing data for Precipitation ~ Station Pressure\")\n",
    "rsq(lmTest_df4, truth=precip, estimate=precip_predict)"
   ]
  },
  {
   "cell_type": "markdown",
   "metadata": {
    "id": "T-C3Tl5ylDZi"
   },
   "source": [
    "<a id=\"cell9\"></a>\n",
    "## 9. Improve the Model\n",
    "Now, try improving the simple models you created in the previous section.\n",
    "\n",
    "Create at least two more models, each model should use at least one of the different techniques:\n",
    "1. Add more features/predictors\n",
    "2. Add regularization (L1, L2 or a mix)\n",
    "3. Add a polynomial component\n",
    "\n",
    "Also, for each of the models you create, check the model performance using the **training set** and a metric like MSE, RMSE, or R-squared.\n",
    "\n",
    "Consider using `tidymodels` if you choose to add regularization and tune lambda.\n"
   ]
  },
  {
   "cell_type": "markdown",
   "metadata": {
    "id": "SLkU4XTylDZi"
   },
   "source": [
    "### 9.1 Multi-linear Regression (MLR)"
   ]
  },
  {
   "cell_type": "code",
   "execution_count": 28,
   "metadata": {},
   "outputs": [
    {
     "data": {
      "text/html": [
       "<table class=\"dataframe\">\n",
       "<caption>A matrix: 5 × 4 of type dbl</caption>\n",
       "<thead>\n",
       "\t<tr><th></th><th scope=col>Estimate</th><th scope=col>Std. Error</th><th scope=col>t value</th><th scope=col>Pr(&gt;|t|)</th></tr>\n",
       "</thead>\n",
       "<tbody>\n",
       "\t<tr><th scope=row>(Intercept)</th><td> 2.553572e-01</td><td>1.100745e-01</td><td> 2.31985902</td><td>2.041045e-02</td></tr>\n",
       "\t<tr><th scope=row>relative_humidity</th><td> 4.488156e-04</td><td>4.136693e-05</td><td>10.84962230</td><td>5.799382e-27</td></tr>\n",
       "\t<tr><th scope=row>dry_bulb_temp_f</th><td> 1.274267e-06</td><td>4.587063e-05</td><td> 0.02777958</td><td>9.778397e-01</td></tr>\n",
       "\t<tr><th scope=row>wind_speed</th><td> 7.944538e-04</td><td>1.379248e-04</td><td> 5.76005222</td><td>9.196374e-09</td></tr>\n",
       "\t<tr><th scope=row>station_pressure</th><td>-9.575207e-03</td><td>3.594359e-03</td><td>-2.66395371</td><td>7.761127e-03</td></tr>\n",
       "</tbody>\n",
       "</table>\n"
      ],
      "text/latex": [
       "A matrix: 5 × 4 of type dbl\n",
       "\\begin{tabular}{r|llll}\n",
       "  & Estimate & Std. Error & t value & Pr(>\\textbar{}t\\textbar{})\\\\\n",
       "\\hline\n",
       "\t(Intercept) &  2.553572e-01 & 1.100745e-01 &  2.31985902 & 2.041045e-02\\\\\n",
       "\trelative\\_humidity &  4.488156e-04 & 4.136693e-05 & 10.84962230 & 5.799382e-27\\\\\n",
       "\tdry\\_bulb\\_temp\\_f &  1.274267e-06 & 4.587063e-05 &  0.02777958 & 9.778397e-01\\\\\n",
       "\twind\\_speed &  7.944538e-04 & 1.379248e-04 &  5.76005222 & 9.196374e-09\\\\\n",
       "\tstation\\_pressure & -9.575207e-03 & 3.594359e-03 & -2.66395371 & 7.761127e-03\\\\\n",
       "\\end{tabular}\n"
      ],
      "text/markdown": [
       "\n",
       "A matrix: 5 × 4 of type dbl\n",
       "\n",
       "| <!--/--> | Estimate | Std. Error | t value | Pr(&gt;|t|) |\n",
       "|---|---|---|---|---|\n",
       "| (Intercept) |  2.553572e-01 | 1.100745e-01 |  2.31985902 | 2.041045e-02 |\n",
       "| relative_humidity |  4.488156e-04 | 4.136693e-05 | 10.84962230 | 5.799382e-27 |\n",
       "| dry_bulb_temp_f |  1.274267e-06 | 4.587063e-05 |  0.02777958 | 9.778397e-01 |\n",
       "| wind_speed |  7.944538e-04 | 1.379248e-04 |  5.76005222 | 9.196374e-09 |\n",
       "| station_pressure | -9.575207e-03 | 3.594359e-03 | -2.66395371 | 7.761127e-03 |\n",
       "\n"
      ],
      "text/plain": [
       "                  Estimate      Std. Error   t value     Pr(>|t|)    \n",
       "(Intercept)        2.553572e-01 1.100745e-01  2.31985902 2.041045e-02\n",
       "relative_humidity  4.488156e-04 4.136693e-05 10.84962230 5.799382e-27\n",
       "dry_bulb_temp_f    1.274267e-06 4.587063e-05  0.02777958 9.778397e-01\n",
       "wind_speed         7.944538e-04 1.379248e-04  5.76005222 9.196374e-09\n",
       "station_pressure  -9.575207e-03 3.594359e-03 -2.66395371 7.761127e-03"
      ]
     },
     "metadata": {},
     "output_type": "display_data"
    }
   ],
   "source": [
    "mlr_fit <- lm(formula =\n",
    "              precip ~ relative_humidity + dry_bulb_temp_f + wind_speed + station_pressure,\n",
    "              data = training_data)\n",
    "\n",
    "mlrCoeffs_results <- summary(mlr_fit)$coefficients\n",
    "mlrCoeffs_results\n",
    "mlr_coeffs <- summary(mlr_fit)$coefficients[1:5]\n",
    "#mlr_coeffs"
   ]
  },
  {
   "cell_type": "code",
   "execution_count": 29,
   "metadata": {
    "scrolled": false
   },
   "outputs": [
    {
     "name": "stdout",
     "output_type": "stream",
     "text": [
      "[1] \"R-squared for Training Data in MLR\"\n"
     ]
    },
    {
     "data": {
      "text/html": [
       "<table class=\"dataframe\">\n",
       "<caption>A tibble: 1 × 3</caption>\n",
       "<thead>\n",
       "\t<tr><th scope=col>.metric</th><th scope=col>.estimator</th><th scope=col>.estimate</th></tr>\n",
       "\t<tr><th scope=col>&lt;chr&gt;</th><th scope=col>&lt;chr&gt;</th><th scope=col>&lt;dbl&gt;</th></tr>\n",
       "</thead>\n",
       "<tbody>\n",
       "\t<tr><td>rsq</td><td>standard</td><td>0.054148</td></tr>\n",
       "</tbody>\n",
       "</table>\n"
      ],
      "text/latex": [
       "A tibble: 1 × 3\n",
       "\\begin{tabular}{lll}\n",
       " .metric & .estimator & .estimate\\\\\n",
       " <chr> & <chr> & <dbl>\\\\\n",
       "\\hline\n",
       "\t rsq & standard & 0.054148\\\\\n",
       "\\end{tabular}\n"
      ],
      "text/markdown": [
       "\n",
       "A tibble: 1 × 3\n",
       "\n",
       "| .metric &lt;chr&gt; | .estimator &lt;chr&gt; | .estimate &lt;dbl&gt; |\n",
       "|---|---|---|\n",
       "| rsq | standard | 0.054148 |\n",
       "\n"
      ],
      "text/plain": [
       "  .metric .estimator .estimate\n",
       "1 rsq     standard   0.054148 "
      ]
     },
     "metadata": {},
     "output_type": "display_data"
    },
    {
     "name": "stdout",
     "output_type": "stream",
     "text": [
      "[1] \"R-squared for Testing Data in MLR\"\n"
     ]
    },
    {
     "data": {
      "text/html": [
       "<table class=\"dataframe\">\n",
       "<caption>A tibble: 1 × 3</caption>\n",
       "<thead>\n",
       "\t<tr><th scope=col>.metric</th><th scope=col>.estimator</th><th scope=col>.estimate</th></tr>\n",
       "\t<tr><th scope=col>&lt;chr&gt;</th><th scope=col>&lt;chr&gt;</th><th scope=col>&lt;dbl&gt;</th></tr>\n",
       "</thead>\n",
       "<tbody>\n",
       "\t<tr><td>rsq</td><td>standard</td><td>0.06365411</td></tr>\n",
       "</tbody>\n",
       "</table>\n"
      ],
      "text/latex": [
       "A tibble: 1 × 3\n",
       "\\begin{tabular}{lll}\n",
       " .metric & .estimator & .estimate\\\\\n",
       " <chr> & <chr> & <dbl>\\\\\n",
       "\\hline\n",
       "\t rsq & standard & 0.06365411\\\\\n",
       "\\end{tabular}\n"
      ],
      "text/markdown": [
       "\n",
       "A tibble: 1 × 3\n",
       "\n",
       "| .metric &lt;chr&gt; | .estimator &lt;chr&gt; | .estimate &lt;dbl&gt; |\n",
       "|---|---|---|\n",
       "| rsq | standard | 0.06365411 |\n",
       "\n"
      ],
      "text/plain": [
       "  .metric .estimator .estimate \n",
       "1 rsq     standard   0.06365411"
      ]
     },
     "metadata": {},
     "output_type": "display_data"
    }
   ],
   "source": [
    "mlrTrain_results <- mlr_coeffs[1] + mlr_coeffs[2] * training_data$relative_humidity +\n",
    "                               mlr_coeffs[3] * training_data$dry_bulb_temp_f +\n",
    "                               mlr_coeffs[4] * training_data$wind_speed +\n",
    "                               mlr_coeffs[5] * training_data$station_pressure\n",
    "mlrTrain_df <- data.frame(precip = training_data$precip, precip_predict = mlrTrain_results)\n",
    "\n",
    "print(\"R-squared for Training Data in MLR\")\n",
    "mlrTrain_score <- rsq(mlrTrain_df, truth=precip, estimate=precip_predict)\n",
    "mlrTrain_score\n",
    "\n",
    "\n",
    "\n",
    "mlrTest_results <- mlr_coeffs[1] + mlr_coeffs[2] * testing_data$relative_humidity +\n",
    "                               mlr_coeffs[3] * testing_data$dry_bulb_temp_f +\n",
    "                               mlr_coeffs[4] * testing_data$wind_speed +\n",
    "                               mlr_coeffs[5] * testing_data$station_pressure\n",
    "mlrTest_df <- data.frame(precip = testing_data$precip, precip_predict = mlrTest_results)\n",
    "\n",
    "print(\"R-squared for Testing Data in MLR\")\n",
    "mlrTest_score <- rsq(mlrTest_df, truth=precip, estimate=precip_predict)\n",
    "mlrTest_score"
   ]
  },
  {
   "cell_type": "markdown",
   "metadata": {},
   "source": [
    "### 9.2 Lasso (L1) Model"
   ]
  },
  {
   "cell_type": "code",
   "execution_count": 30,
   "metadata": {},
   "outputs": [
    {
     "data": {
      "text/html": [
       "<table class=\"dataframe\">\n",
       "<caption>A tibble: 5 × 3</caption>\n",
       "<thead>\n",
       "\t<tr><th scope=col>term</th><th scope=col>estimate</th><th scope=col>penalty</th></tr>\n",
       "\t<tr><th scope=col>&lt;chr&gt;</th><th scope=col>&lt;dbl&gt;</th><th scope=col>&lt;dbl&gt;</th></tr>\n",
       "</thead>\n",
       "<tbody>\n",
       "\t<tr><td>(Intercept)      </td><td>0.006774691</td><td>0.1</td></tr>\n",
       "\t<tr><td>relative_humidity</td><td>0.000000000</td><td>0.1</td></tr>\n",
       "\t<tr><td>dry_bulb_temp_f  </td><td>0.000000000</td><td>0.1</td></tr>\n",
       "\t<tr><td>wind_speed       </td><td>0.000000000</td><td>0.1</td></tr>\n",
       "\t<tr><td>station_pressure </td><td>0.000000000</td><td>0.1</td></tr>\n",
       "</tbody>\n",
       "</table>\n"
      ],
      "text/latex": [
       "A tibble: 5 × 3\n",
       "\\begin{tabular}{lll}\n",
       " term & estimate & penalty\\\\\n",
       " <chr> & <dbl> & <dbl>\\\\\n",
       "\\hline\n",
       "\t (Intercept)       & 0.006774691 & 0.1\\\\\n",
       "\t relative\\_humidity & 0.000000000 & 0.1\\\\\n",
       "\t dry\\_bulb\\_temp\\_f   & 0.000000000 & 0.1\\\\\n",
       "\t wind\\_speed        & 0.000000000 & 0.1\\\\\n",
       "\t station\\_pressure  & 0.000000000 & 0.1\\\\\n",
       "\\end{tabular}\n"
      ],
      "text/markdown": [
       "\n",
       "A tibble: 5 × 3\n",
       "\n",
       "| term &lt;chr&gt; | estimate &lt;dbl&gt; | penalty &lt;dbl&gt; |\n",
       "|---|---|---|\n",
       "| (Intercept)       | 0.006774691 | 0.1 |\n",
       "| relative_humidity | 0.000000000 | 0.1 |\n",
       "| dry_bulb_temp_f   | 0.000000000 | 0.1 |\n",
       "| wind_speed        | 0.000000000 | 0.1 |\n",
       "| station_pressure  | 0.000000000 | 0.1 |\n",
       "\n"
      ],
      "text/plain": [
       "  term              estimate    penalty\n",
       "1 (Intercept)       0.006774691 0.1    \n",
       "2 relative_humidity 0.000000000 0.1    \n",
       "3 dry_bulb_temp_f   0.000000000 0.1    \n",
       "4 wind_speed        0.000000000 0.1    \n",
       "5 station_pressure  0.000000000 0.1    "
      ]
     },
     "metadata": {},
     "output_type": "display_data"
    }
   ],
   "source": [
    "precipitation_recipe <-\n",
    "  recipe(precip ~ ., data = training_data)\n",
    "\n",
    "lasso_spec <- linear_reg(penalty = 0.1, mixture = 1) %>% set_engine(\"glmnet\")\n",
    "\n",
    "lasso_wf <- workflow() %>%\n",
    "  add_recipe(precipitation_recipe)\n",
    "\n",
    "lasso_fit <- lasso_wf %>%\n",
    "  add_model(lasso_spec) %>%\n",
    "  fit(data = training_data)\n",
    "\n",
    "lasso_fit %>%\n",
    "  extract_fit_parsnip() %>%\n",
    "  tidy()"
   ]
  },
  {
   "cell_type": "markdown",
   "metadata": {},
   "source": [
    "#### 9.2.1 Lasso Train Scores"
   ]
  },
  {
   "cell_type": "code",
   "execution_count": 31,
   "metadata": {},
   "outputs": [
    {
     "name": "stderr",
     "output_type": "stream",
     "text": [
      "Warning message:\n",
      "“\u001b[1m\u001b[22mA correlation computation is required, but `estimate` is constant and has 0\n",
      "standard deviation, resulting in a divide by 0 error. `NA` will be returned.”\n"
     ]
    },
    {
     "data": {
      "text/html": [
       "<table class=\"dataframe\">\n",
       "<caption>A tibble: 1 × 3</caption>\n",
       "<thead>\n",
       "\t<tr><th scope=col>.metric</th><th scope=col>.estimator</th><th scope=col>.estimate</th></tr>\n",
       "\t<tr><th scope=col>&lt;chr&gt;</th><th scope=col>&lt;chr&gt;</th><th scope=col>&lt;dbl&gt;</th></tr>\n",
       "</thead>\n",
       "<tbody>\n",
       "\t<tr><td>rsq</td><td>standard</td><td>NA</td></tr>\n",
       "</tbody>\n",
       "</table>\n"
      ],
      "text/latex": [
       "A tibble: 1 × 3\n",
       "\\begin{tabular}{lll}\n",
       " .metric & .estimator & .estimate\\\\\n",
       " <chr> & <chr> & <dbl>\\\\\n",
       "\\hline\n",
       "\t rsq & standard & NA\\\\\n",
       "\\end{tabular}\n"
      ],
      "text/markdown": [
       "\n",
       "A tibble: 1 × 3\n",
       "\n",
       "| .metric &lt;chr&gt; | .estimator &lt;chr&gt; | .estimate &lt;dbl&gt; |\n",
       "|---|---|---|\n",
       "| rsq | standard | NA |\n",
       "\n"
      ],
      "text/plain": [
       "  .metric .estimator .estimate\n",
       "1 rsq     standard   NA       "
      ]
     },
     "metadata": {},
     "output_type": "display_data"
    }
   ],
   "source": [
    "lassoTrain_predict <- predict(lasso_fit, new_data = training_data)\n",
    "\n",
    "lassoTrain_results <- data.frame(precip = training_data$precip, precip_predict = lassoTrain_predict)\n",
    "\n",
    "lassoTrain_score <- rsq(lassoTrain_results, truth=precip, estimate=.pred)\n",
    "lassoTrain_score"
   ]
  },
  {
   "cell_type": "markdown",
   "metadata": {},
   "source": [
    "#### 9.2.2 Lasso Test Scores"
   ]
  },
  {
   "cell_type": "code",
   "execution_count": 32,
   "metadata": {},
   "outputs": [
    {
     "name": "stderr",
     "output_type": "stream",
     "text": [
      "Warning message:\n",
      "“\u001b[1m\u001b[22mA correlation computation is required, but `estimate` is constant and has 0\n",
      "standard deviation, resulting in a divide by 0 error. `NA` will be returned.”\n"
     ]
    },
    {
     "data": {
      "text/html": [
       "<table class=\"dataframe\">\n",
       "<caption>A tibble: 1 × 3</caption>\n",
       "<thead>\n",
       "\t<tr><th scope=col>.metric</th><th scope=col>.estimator</th><th scope=col>.estimate</th></tr>\n",
       "\t<tr><th scope=col>&lt;chr&gt;</th><th scope=col>&lt;chr&gt;</th><th scope=col>&lt;dbl&gt;</th></tr>\n",
       "</thead>\n",
       "<tbody>\n",
       "\t<tr><td>rsq</td><td>standard</td><td>NA</td></tr>\n",
       "</tbody>\n",
       "</table>\n"
      ],
      "text/latex": [
       "A tibble: 1 × 3\n",
       "\\begin{tabular}{lll}\n",
       " .metric & .estimator & .estimate\\\\\n",
       " <chr> & <chr> & <dbl>\\\\\n",
       "\\hline\n",
       "\t rsq & standard & NA\\\\\n",
       "\\end{tabular}\n"
      ],
      "text/markdown": [
       "\n",
       "A tibble: 1 × 3\n",
       "\n",
       "| .metric &lt;chr&gt; | .estimator &lt;chr&gt; | .estimate &lt;dbl&gt; |\n",
       "|---|---|---|\n",
       "| rsq | standard | NA |\n",
       "\n"
      ],
      "text/plain": [
       "  .metric .estimator .estimate\n",
       "1 rsq     standard   NA       "
      ]
     },
     "metadata": {},
     "output_type": "display_data"
    }
   ],
   "source": [
    "lassoTest_predict <- predict(lasso_fit, new_data = testing_data)\n",
    "\n",
    "lassoTest_results <- data.frame(precip = testing_data$precip, precip_predict = lassoTest_predict)\n",
    "\n",
    "lassoTest_score <- rsq(lassoTrain_results, truth=precip, estimate=.pred)\n",
    "lassoTest_score"
   ]
  },
  {
   "cell_type": "markdown",
   "metadata": {},
   "source": [
    "### 9.3 Ridge (L2) Model\n",
    "Here we use `penalty` parameter with value 0.1:"
   ]
  },
  {
   "cell_type": "code",
   "execution_count": 33,
   "metadata": {},
   "outputs": [
    {
     "data": {
      "text/html": [
       "<table class=\"dataframe\">\n",
       "<caption>A tibble: 5 × 3</caption>\n",
       "<thead>\n",
       "\t<tr><th scope=col>term</th><th scope=col>estimate</th><th scope=col>penalty</th></tr>\n",
       "\t<tr><th scope=col>&lt;chr&gt;</th><th scope=col>&lt;dbl&gt;</th><th scope=col>&lt;dbl&gt;</th></tr>\n",
       "</thead>\n",
       "<tbody>\n",
       "\t<tr><td>(Intercept)      </td><td> 1.836883e-01</td><td>0.1</td></tr>\n",
       "\t<tr><td>relative_humidity</td><td> 1.270115e-04</td><td>0.1</td></tr>\n",
       "\t<tr><td>dry_bulb_temp_f  </td><td> 5.785095e-06</td><td>0.1</td></tr>\n",
       "\t<tr><td>wind_speed       </td><td> 1.826492e-04</td><td>0.1</td></tr>\n",
       "\t<tr><td>station_pressure </td><td>-6.256377e-03</td><td>0.1</td></tr>\n",
       "</tbody>\n",
       "</table>\n"
      ],
      "text/latex": [
       "A tibble: 5 × 3\n",
       "\\begin{tabular}{lll}\n",
       " term & estimate & penalty\\\\\n",
       " <chr> & <dbl> & <dbl>\\\\\n",
       "\\hline\n",
       "\t (Intercept)       &  1.836883e-01 & 0.1\\\\\n",
       "\t relative\\_humidity &  1.270115e-04 & 0.1\\\\\n",
       "\t dry\\_bulb\\_temp\\_f   &  5.785095e-06 & 0.1\\\\\n",
       "\t wind\\_speed        &  1.826492e-04 & 0.1\\\\\n",
       "\t station\\_pressure  & -6.256377e-03 & 0.1\\\\\n",
       "\\end{tabular}\n"
      ],
      "text/markdown": [
       "\n",
       "A tibble: 5 × 3\n",
       "\n",
       "| term &lt;chr&gt; | estimate &lt;dbl&gt; | penalty &lt;dbl&gt; |\n",
       "|---|---|---|\n",
       "| (Intercept)       |  1.836883e-01 | 0.1 |\n",
       "| relative_humidity |  1.270115e-04 | 0.1 |\n",
       "| dry_bulb_temp_f   |  5.785095e-06 | 0.1 |\n",
       "| wind_speed        |  1.826492e-04 | 0.1 |\n",
       "| station_pressure  | -6.256377e-03 | 0.1 |\n",
       "\n"
      ],
      "text/plain": [
       "  term              estimate      penalty\n",
       "1 (Intercept)        1.836883e-01 0.1    \n",
       "2 relative_humidity  1.270115e-04 0.1    \n",
       "3 dry_bulb_temp_f    5.785095e-06 0.1    \n",
       "4 wind_speed         1.826492e-04 0.1    \n",
       "5 station_pressure  -6.256377e-03 0.1    "
      ]
     },
     "metadata": {},
     "output_type": "display_data"
    }
   ],
   "source": [
    "precipitation_recipe <-\n",
    "  recipe(precip ~ ., data = training_data)\n",
    "\n",
    "ridge_spec <- linear_reg(penalty = 0.1, mixture = 0) %>% set_engine(\"glmnet\")\n",
    "\n",
    "ridge_wf <- workflow() %>%\n",
    "  add_recipe(precipitation_recipe)\n",
    "\n",
    "ridge_fit <- ridge_wf %>%\n",
    "  add_model(ridge_spec) %>%\n",
    "  fit(data = training_data)\n",
    "\n",
    "ridge_fit %>%\n",
    "  extract_fit_parsnip() %>%\n",
    "  tidy()"
   ]
  },
  {
   "cell_type": "markdown",
   "metadata": {},
   "source": [
    "Here we use `penalty` parameter with value 0.3:"
   ]
  },
  {
   "cell_type": "code",
   "execution_count": 34,
   "metadata": {
    "scrolled": true
   },
   "outputs": [
    {
     "data": {
      "text/html": [
       "<table class=\"dataframe\">\n",
       "<caption>A tibble: 5 × 3</caption>\n",
       "<thead>\n",
       "\t<tr><th scope=col>term</th><th scope=col>estimate</th><th scope=col>penalty</th></tr>\n",
       "\t<tr><th scope=col>&lt;chr&gt;</th><th scope=col>&lt;dbl&gt;</th><th scope=col>&lt;dbl&gt;</th></tr>\n",
       "</thead>\n",
       "<tbody>\n",
       "\t<tr><td>(Intercept)      </td><td> 8.961456e-02</td><td>0.3</td></tr>\n",
       "\t<tr><td>relative_humidity</td><td> 5.350266e-05</td><td>0.3</td></tr>\n",
       "\t<tr><td>dry_bulb_temp_f  </td><td> 4.171787e-06</td><td>0.3</td></tr>\n",
       "\t<tr><td>wind_speed       </td><td> 7.414323e-05</td><td>0.3</td></tr>\n",
       "\t<tr><td>station_pressure </td><td>-2.914831e-03</td><td>0.3</td></tr>\n",
       "</tbody>\n",
       "</table>\n"
      ],
      "text/latex": [
       "A tibble: 5 × 3\n",
       "\\begin{tabular}{lll}\n",
       " term & estimate & penalty\\\\\n",
       " <chr> & <dbl> & <dbl>\\\\\n",
       "\\hline\n",
       "\t (Intercept)       &  8.961456e-02 & 0.3\\\\\n",
       "\t relative\\_humidity &  5.350266e-05 & 0.3\\\\\n",
       "\t dry\\_bulb\\_temp\\_f   &  4.171787e-06 & 0.3\\\\\n",
       "\t wind\\_speed        &  7.414323e-05 & 0.3\\\\\n",
       "\t station\\_pressure  & -2.914831e-03 & 0.3\\\\\n",
       "\\end{tabular}\n"
      ],
      "text/markdown": [
       "\n",
       "A tibble: 5 × 3\n",
       "\n",
       "| term &lt;chr&gt; | estimate &lt;dbl&gt; | penalty &lt;dbl&gt; |\n",
       "|---|---|---|\n",
       "| (Intercept)       |  8.961456e-02 | 0.3 |\n",
       "| relative_humidity |  5.350266e-05 | 0.3 |\n",
       "| dry_bulb_temp_f   |  4.171787e-06 | 0.3 |\n",
       "| wind_speed        |  7.414323e-05 | 0.3 |\n",
       "| station_pressure  | -2.914831e-03 | 0.3 |\n",
       "\n"
      ],
      "text/plain": [
       "  term              estimate      penalty\n",
       "1 (Intercept)        8.961456e-02 0.3    \n",
       "2 relative_humidity  5.350266e-05 0.3    \n",
       "3 dry_bulb_temp_f    4.171787e-06 0.3    \n",
       "4 wind_speed         7.414323e-05 0.3    \n",
       "5 station_pressure  -2.914831e-03 0.3    "
      ]
     },
     "metadata": {},
     "output_type": "display_data"
    }
   ],
   "source": [
    "precipitation_recipe <-\n",
    "  recipe(precip ~ ., data = training_data)\n",
    "\n",
    "ridge_spec <- linear_reg(penalty = 0.3, mixture = 0) %>% set_engine(\"glmnet\")\n",
    "\n",
    "ridge_wf <- workflow() %>%\n",
    "  add_recipe(precipitation_recipe)\n",
    "\n",
    "ridge_fit <- ridge_wf %>%\n",
    "  add_model(ridge_spec) %>%\n",
    "  fit(data = training_data)\n",
    "\n",
    "ridge_fit %>%\n",
    "  extract_fit_parsnip() %>%\n",
    "  tidy()"
   ]
  },
  {
   "cell_type": "markdown",
   "metadata": {},
   "source": [
    "We have a great variation in coefficients for small change in `penalty` parameter. Next phase is to use grid search to tune `penalty` parameter, with `mixture` value 0 (pure L2 regularization) given that for L1 (value 1) the modelling fails."
   ]
  },
  {
   "cell_type": "markdown",
   "metadata": {},
   "source": [
    "#### 9.3.1 Ridge (L2) Model with Grid Search"
   ]
  },
  {
   "cell_type": "code",
   "execution_count": 35,
   "metadata": {},
   "outputs": [
    {
     "data": {
      "text/html": [
       "<table class=\"dataframe\">\n",
       "<caption>A tibble: 5 × 7</caption>\n",
       "<thead>\n",
       "\t<tr><th scope=col>penalty</th><th scope=col>.metric</th><th scope=col>.estimator</th><th scope=col>mean</th><th scope=col>n</th><th scope=col>std_err</th><th scope=col>.config</th></tr>\n",
       "\t<tr><th scope=col>&lt;dbl&gt;</th><th scope=col>&lt;chr&gt;</th><th scope=col>&lt;chr&gt;</th><th scope=col>&lt;dbl&gt;</th><th scope=col>&lt;int&gt;</th><th scope=col>&lt;dbl&gt;</th><th scope=col>&lt;chr&gt;</th></tr>\n",
       "</thead>\n",
       "<tbody>\n",
       "\t<tr><td>0.001000000</td><td>rsq</td><td>standard</td><td>0.07037817</td><td>10</td><td>0.01293606</td><td>Preprocessor1_Model01</td></tr>\n",
       "\t<tr><td>0.001167742</td><td>rsq</td><td>standard</td><td>0.07037513</td><td>10</td><td>0.01293372</td><td>Preprocessor1_Model02</td></tr>\n",
       "\t<tr><td>0.001363622</td><td>rsq</td><td>standard</td><td>0.07037111</td><td>10</td><td>0.01293090</td><td>Preprocessor1_Model03</td></tr>\n",
       "\t<tr><td>0.001592358</td><td>rsq</td><td>standard</td><td>0.07036580</td><td>10</td><td>0.01292750</td><td>Preprocessor1_Model04</td></tr>\n",
       "\t<tr><td>0.001859464</td><td>rsq</td><td>standard</td><td>0.07035879</td><td>10</td><td>0.01292339</td><td>Preprocessor1_Model05</td></tr>\n",
       "</tbody>\n",
       "</table>\n"
      ],
      "text/latex": [
       "A tibble: 5 × 7\n",
       "\\begin{tabular}{lllllll}\n",
       " penalty & .metric & .estimator & mean & n & std\\_err & .config\\\\\n",
       " <dbl> & <chr> & <chr> & <dbl> & <int> & <dbl> & <chr>\\\\\n",
       "\\hline\n",
       "\t 0.001000000 & rsq & standard & 0.07037817 & 10 & 0.01293606 & Preprocessor1\\_Model01\\\\\n",
       "\t 0.001167742 & rsq & standard & 0.07037513 & 10 & 0.01293372 & Preprocessor1\\_Model02\\\\\n",
       "\t 0.001363622 & rsq & standard & 0.07037111 & 10 & 0.01293090 & Preprocessor1\\_Model03\\\\\n",
       "\t 0.001592358 & rsq & standard & 0.07036580 & 10 & 0.01292750 & Preprocessor1\\_Model04\\\\\n",
       "\t 0.001859464 & rsq & standard & 0.07035879 & 10 & 0.01292339 & Preprocessor1\\_Model05\\\\\n",
       "\\end{tabular}\n"
      ],
      "text/markdown": [
       "\n",
       "A tibble: 5 × 7\n",
       "\n",
       "| penalty &lt;dbl&gt; | .metric &lt;chr&gt; | .estimator &lt;chr&gt; | mean &lt;dbl&gt; | n &lt;int&gt; | std_err &lt;dbl&gt; | .config &lt;chr&gt; |\n",
       "|---|---|---|---|---|---|---|\n",
       "| 0.001000000 | rsq | standard | 0.07037817 | 10 | 0.01293606 | Preprocessor1_Model01 |\n",
       "| 0.001167742 | rsq | standard | 0.07037513 | 10 | 0.01293372 | Preprocessor1_Model02 |\n",
       "| 0.001363622 | rsq | standard | 0.07037111 | 10 | 0.01293090 | Preprocessor1_Model03 |\n",
       "| 0.001592358 | rsq | standard | 0.07036580 | 10 | 0.01292750 | Preprocessor1_Model04 |\n",
       "| 0.001859464 | rsq | standard | 0.07035879 | 10 | 0.01292339 | Preprocessor1_Model05 |\n",
       "\n"
      ],
      "text/plain": [
       "  penalty     .metric .estimator mean       n  std_err    .config              \n",
       "1 0.001000000 rsq     standard   0.07037817 10 0.01293606 Preprocessor1_Model01\n",
       "2 0.001167742 rsq     standard   0.07037513 10 0.01293372 Preprocessor1_Model02\n",
       "3 0.001363622 rsq     standard   0.07037111 10 0.01293090 Preprocessor1_Model03\n",
       "4 0.001592358 rsq     standard   0.07036580 10 0.01292750 Preprocessor1_Model04\n",
       "5 0.001859464 rsq     standard   0.07035879 10 0.01292339 Preprocessor1_Model05"
      ]
     },
     "metadata": {},
     "output_type": "display_data"
    }
   ],
   "source": [
    "precipitation_recipe <-\n",
    "  recipe(precip ~ ., data = training_data)\n",
    "\n",
    "tune_spec <- linear_reg(\n",
    "    penalty = tune(),\n",
    "    mixture = 0) %>% set_engine(\"glmnet\")\n",
    "\n",
    "ridge_wf <- workflow() %>%  add_recipe(precipitation_recipe)\n",
    "\n",
    "precipitation_cvfolds <- vfold_cv(training_data)\n",
    "\n",
    "lambda_grid <- grid_regular(levels = 50,  penalty(range = c(-3, 0.3)))\n",
    "\n",
    "\n",
    "ridge_grid <- tune_grid(\n",
    "    ridge_wf %>%\n",
    "    add_model(tune_spec),\n",
    "    resamples = precipitation_cvfolds,\n",
    "    grid = lambda_grid)\n",
    "\n",
    "#show_best(ridge_grid, metric = \"rmse\")\n",
    "\n",
    "show_best(ridge_grid, metric = \"rsq\")"
   ]
  },
  {
   "cell_type": "markdown",
   "metadata": {},
   "source": [
    "The best results are for `penalty` value of 0.001, so we repeat the previous calculation with this fixed value to obtain the parameters again."
   ]
  },
  {
   "cell_type": "code",
   "execution_count": 36,
   "metadata": {},
   "outputs": [
    {
     "data": {
      "text/html": [
       "<table class=\"dataframe\">\n",
       "<caption>A tibble: 5 × 3</caption>\n",
       "<thead>\n",
       "\t<tr><th scope=col>term</th><th scope=col>estimate</th><th scope=col>penalty</th></tr>\n",
       "\t<tr><th scope=col>&lt;chr&gt;</th><th scope=col>&lt;dbl&gt;</th><th scope=col>&lt;dbl&gt;</th></tr>\n",
       "</thead>\n",
       "<tbody>\n",
       "\t<tr><td>(Intercept)      </td><td> 2.645255e-01</td><td>0.001</td></tr>\n",
       "\t<tr><td>relative_humidity</td><td> 4.360694e-04</td><td>0.001</td></tr>\n",
       "\t<tr><td>dry_bulb_temp_f  </td><td> 4.226217e-07</td><td>0.001</td></tr>\n",
       "\t<tr><td>wind_speed       </td><td> 7.644872e-04</td><td>0.001</td></tr>\n",
       "\t<tr><td>station_pressure </td><td>-9.839968e-03</td><td>0.001</td></tr>\n",
       "</tbody>\n",
       "</table>\n"
      ],
      "text/latex": [
       "A tibble: 5 × 3\n",
       "\\begin{tabular}{lll}\n",
       " term & estimate & penalty\\\\\n",
       " <chr> & <dbl> & <dbl>\\\\\n",
       "\\hline\n",
       "\t (Intercept)       &  2.645255e-01 & 0.001\\\\\n",
       "\t relative\\_humidity &  4.360694e-04 & 0.001\\\\\n",
       "\t dry\\_bulb\\_temp\\_f   &  4.226217e-07 & 0.001\\\\\n",
       "\t wind\\_speed        &  7.644872e-04 & 0.001\\\\\n",
       "\t station\\_pressure  & -9.839968e-03 & 0.001\\\\\n",
       "\\end{tabular}\n"
      ],
      "text/markdown": [
       "\n",
       "A tibble: 5 × 3\n",
       "\n",
       "| term &lt;chr&gt; | estimate &lt;dbl&gt; | penalty &lt;dbl&gt; |\n",
       "|---|---|---|\n",
       "| (Intercept)       |  2.645255e-01 | 0.001 |\n",
       "| relative_humidity |  4.360694e-04 | 0.001 |\n",
       "| dry_bulb_temp_f   |  4.226217e-07 | 0.001 |\n",
       "| wind_speed        |  7.644872e-04 | 0.001 |\n",
       "| station_pressure  | -9.839968e-03 | 0.001 |\n",
       "\n"
      ],
      "text/plain": [
       "  term              estimate      penalty\n",
       "1 (Intercept)        2.645255e-01 0.001  \n",
       "2 relative_humidity  4.360694e-04 0.001  \n",
       "3 dry_bulb_temp_f    4.226217e-07 0.001  \n",
       "4 wind_speed         7.644872e-04 0.001  \n",
       "5 station_pressure  -9.839968e-03 0.001  "
      ]
     },
     "metadata": {},
     "output_type": "display_data"
    }
   ],
   "source": [
    "precipitation_recipe <-\n",
    "  recipe(precip ~ ., data = training_data)\n",
    "\n",
    "ridge_spec <- linear_reg(penalty = 0.001, mixture = 0) %>% set_engine(\"glmnet\")\n",
    "\n",
    "ridge_wf <- workflow() %>%\n",
    "  add_recipe(precipitation_recipe)\n",
    "\n",
    "ridge_fit <- ridge_wf %>%\n",
    "  add_model(ridge_spec) %>%\n",
    "  fit(data = training_data)\n",
    "\n",
    "ridgeCoeffs_results <-ridge_fit %>%\n",
    "  extract_fit_parsnip() %>%\n",
    "  tidy()\n",
    "\n",
    "ridgeCoeffs_results"
   ]
  },
  {
   "cell_type": "markdown",
   "metadata": {},
   "source": [
    "#### 9.3.2 Ridge (L2) Train Scores\n",
    "Using `penalty` value of 0.001:"
   ]
  },
  {
   "cell_type": "code",
   "execution_count": 37,
   "metadata": {},
   "outputs": [
    {
     "data": {
      "text/html": [
       "<table class=\"dataframe\">\n",
       "<caption>A tibble: 1 × 3</caption>\n",
       "<thead>\n",
       "\t<tr><th scope=col>.metric</th><th scope=col>.estimator</th><th scope=col>.estimate</th></tr>\n",
       "\t<tr><th scope=col>&lt;chr&gt;</th><th scope=col>&lt;chr&gt;</th><th scope=col>&lt;dbl&gt;</th></tr>\n",
       "</thead>\n",
       "<tbody>\n",
       "\t<tr><td>rsq</td><td>standard</td><td>0.05414188</td></tr>\n",
       "</tbody>\n",
       "</table>\n"
      ],
      "text/latex": [
       "A tibble: 1 × 3\n",
       "\\begin{tabular}{lll}\n",
       " .metric & .estimator & .estimate\\\\\n",
       " <chr> & <chr> & <dbl>\\\\\n",
       "\\hline\n",
       "\t rsq & standard & 0.05414188\\\\\n",
       "\\end{tabular}\n"
      ],
      "text/markdown": [
       "\n",
       "A tibble: 1 × 3\n",
       "\n",
       "| .metric &lt;chr&gt; | .estimator &lt;chr&gt; | .estimate &lt;dbl&gt; |\n",
       "|---|---|---|\n",
       "| rsq | standard | 0.05414188 |\n",
       "\n"
      ],
      "text/plain": [
       "  .metric .estimator .estimate \n",
       "1 rsq     standard   0.05414188"
      ]
     },
     "metadata": {},
     "output_type": "display_data"
    }
   ],
   "source": [
    "ridgeTrain_predict <- predict(ridge_fit, new_data = training_data)\n",
    "\n",
    "ridgeTrain_results <- data.frame(precip = training_data$precip, precip_predict = ridgeTrain_predict)\n",
    "\n",
    "ridgeTrain_score <- rsq(ridgeTrain_results, truth=precip, estimate=.pred)\n",
    "ridgeTrain_score"
   ]
  },
  {
   "cell_type": "markdown",
   "metadata": {},
   "source": [
    "#### 9.3.2 Ridge (L2) Test Scores\n",
    "Using `penalty` value of 0.001:"
   ]
  },
  {
   "cell_type": "code",
   "execution_count": 38,
   "metadata": {},
   "outputs": [
    {
     "data": {
      "text/html": [
       "<table class=\"dataframe\">\n",
       "<caption>A tibble: 1 × 3</caption>\n",
       "<thead>\n",
       "\t<tr><th scope=col>.metric</th><th scope=col>.estimator</th><th scope=col>.estimate</th></tr>\n",
       "\t<tr><th scope=col>&lt;chr&gt;</th><th scope=col>&lt;chr&gt;</th><th scope=col>&lt;dbl&gt;</th></tr>\n",
       "</thead>\n",
       "<tbody>\n",
       "\t<tr><td>rsq</td><td>standard</td><td>0.0636952</td></tr>\n",
       "</tbody>\n",
       "</table>\n"
      ],
      "text/latex": [
       "A tibble: 1 × 3\n",
       "\\begin{tabular}{lll}\n",
       " .metric & .estimator & .estimate\\\\\n",
       " <chr> & <chr> & <dbl>\\\\\n",
       "\\hline\n",
       "\t rsq & standard & 0.0636952\\\\\n",
       "\\end{tabular}\n"
      ],
      "text/markdown": [
       "\n",
       "A tibble: 1 × 3\n",
       "\n",
       "| .metric &lt;chr&gt; | .estimator &lt;chr&gt; | .estimate &lt;dbl&gt; |\n",
       "|---|---|---|\n",
       "| rsq | standard | 0.0636952 |\n",
       "\n"
      ],
      "text/plain": [
       "  .metric .estimator .estimate\n",
       "1 rsq     standard   0.0636952"
      ]
     },
     "metadata": {},
     "output_type": "display_data"
    }
   ],
   "source": [
    "ridgeTest_predict <- predict(ridge_fit, new_data = testing_data)\n",
    "\n",
    "ridgeTest_results <- data.frame(precip = testing_data$precip, precip_predict = ridgeTest_predict)\n",
    "\n",
    "ridgeTest_score <- rsq(ridgeTest_results, truth=precip, estimate=.pred)\n",
    "ridgeTest_score"
   ]
  },
  {
   "cell_type": "markdown",
   "metadata": {
    "id": "yHQpIfpQlDZi"
   },
   "source": [
    "<a id=\"cell10\"></a>\n",
    "## 10. Find Best Model\n",
    "Compare the regression metrics of each model from section 9 to find the best model overall. To do this,\n",
    "\n",
    "1. Evaluate the models on the **testing set** using at least one metric (like MSE, RMSE or R-squared).\n",
    "2. After calculating the metrics on the testing set for each model, print them out in as a table to easily compare. You can use something like:\n",
    "```\n",
    "model_names <- c(\"model_1\", \"model_2\", \"model_3\")\n",
    "train_error <- c(\"model_1_value\", \"model_2_value\", \"model_3_value\")\n",
    "test_error <- c(\"model_1_value\", \"model_2_value\", \"model_3_value\")\n",
    "comparison_df <- data.frame(model_names, train_error, test_error)\n",
    "```\n",
    "3. Finally, from the comparison table you create, conclude which model performed the best.\n"
   ]
  },
  {
   "cell_type": "code",
   "execution_count": 39,
   "metadata": {
    "id": "em7dTR1DlDZi"
   },
   "outputs": [
    {
     "data": {
      "text/html": [
       "<table class=\"dataframe\">\n",
       "<caption>A data.frame: 3 × 3</caption>\n",
       "<thead>\n",
       "\t<tr><th scope=col>model_names</th><th scope=col>train_error</th><th scope=col>test_error</th></tr>\n",
       "\t<tr><th scope=col>&lt;chr&gt;</th><th scope=col>&lt;dbl&gt;</th><th scope=col>&lt;dbl&gt;</th></tr>\n",
       "</thead>\n",
       "<tbody>\n",
       "\t<tr><td>MLR                      </td><td>0.05414800</td><td>0.06365411</td></tr>\n",
       "\t<tr><td>Lasso (L1)               </td><td>        NA</td><td>        NA</td></tr>\n",
       "\t<tr><td>Ridge (L2) w/ Grid Search</td><td>0.05414188</td><td>0.06369520</td></tr>\n",
       "</tbody>\n",
       "</table>\n"
      ],
      "text/latex": [
       "A data.frame: 3 × 3\n",
       "\\begin{tabular}{lll}\n",
       " model\\_names & train\\_error & test\\_error\\\\\n",
       " <chr> & <dbl> & <dbl>\\\\\n",
       "\\hline\n",
       "\t MLR                       & 0.05414800 & 0.06365411\\\\\n",
       "\t Lasso (L1)                &         NA &         NA\\\\\n",
       "\t Ridge (L2) w/ Grid Search & 0.05414188 & 0.06369520\\\\\n",
       "\\end{tabular}\n"
      ],
      "text/markdown": [
       "\n",
       "A data.frame: 3 × 3\n",
       "\n",
       "| model_names &lt;chr&gt; | train_error &lt;dbl&gt; | test_error &lt;dbl&gt; |\n",
       "|---|---|---|\n",
       "| MLR                       | 0.05414800 | 0.06365411 |\n",
       "| Lasso (L1)                |         NA |         NA |\n",
       "| Ridge (L2) w/ Grid Search | 0.05414188 | 0.06369520 |\n",
       "\n"
      ],
      "text/plain": [
       "  model_names               train_error test_error\n",
       "1 MLR                       0.05414800  0.06365411\n",
       "2 Lasso (L1)                        NA          NA\n",
       "3 Ridge (L2) w/ Grid Search 0.05414188  0.06369520"
      ]
     },
     "metadata": {},
     "output_type": "display_data"
    }
   ],
   "source": [
    "model_names <- c(\"MLR\", \"Lasso (L1)\", \"Ridge (L2) w/ Grid Search\")\n",
    "train_error <- c( as.numeric(mlrTrain_score[3]), NA, as.numeric(ridgeTrain_score[3]) )\n",
    "test_error <- c( as.numeric(mlrTest_score[3]), NA, as.numeric(ridgeTest_score[3]) ) \n",
    "comparison_df <- data.frame(model_names, train_error, test_error)\n",
    "comparison_df"
   ]
  },
  {
   "cell_type": "markdown",
   "metadata": {},
   "source": [
    "#### 11. Conclusion\n",
    "As is observable from the above table, multi-linear regression (MLR) and Ridge (L2) regularization with Grid Search (with `penalty` value cca 0.001) yield similar similar R-squared scores, both on training and testing data. Lasso (L1) regularization yielded no interpretable results as it minimized all coefficients (except intercept) to 0. Hence this model failed and error was not calculated. <br>\n",
    "It is worth noting that the results for coefficients in both MLR and L2 regularization have similar values and orders of magnitude, with the exception of `dry_bulb_temp_f` coefficient."
   ]
  },
  {
   "cell_type": "code",
   "execution_count": 40,
   "metadata": {},
   "outputs": [
    {
     "data": {
      "text/html": [
       "<table class=\"dataframe\">\n",
       "<caption>A matrix: 5 × 4 of type dbl</caption>\n",
       "<thead>\n",
       "\t<tr><th></th><th scope=col>Estimate</th><th scope=col>Std. Error</th><th scope=col>t value</th><th scope=col>Pr(&gt;|t|)</th></tr>\n",
       "</thead>\n",
       "<tbody>\n",
       "\t<tr><th scope=row>(Intercept)</th><td> 2.553572e-01</td><td>1.100745e-01</td><td> 2.31985902</td><td>2.041045e-02</td></tr>\n",
       "\t<tr><th scope=row>relative_humidity</th><td> 4.488156e-04</td><td>4.136693e-05</td><td>10.84962230</td><td>5.799382e-27</td></tr>\n",
       "\t<tr><th scope=row>dry_bulb_temp_f</th><td> 1.274267e-06</td><td>4.587063e-05</td><td> 0.02777958</td><td>9.778397e-01</td></tr>\n",
       "\t<tr><th scope=row>wind_speed</th><td> 7.944538e-04</td><td>1.379248e-04</td><td> 5.76005222</td><td>9.196374e-09</td></tr>\n",
       "\t<tr><th scope=row>station_pressure</th><td>-9.575207e-03</td><td>3.594359e-03</td><td>-2.66395371</td><td>7.761127e-03</td></tr>\n",
       "</tbody>\n",
       "</table>\n"
      ],
      "text/latex": [
       "A matrix: 5 × 4 of type dbl\n",
       "\\begin{tabular}{r|llll}\n",
       "  & Estimate & Std. Error & t value & Pr(>\\textbar{}t\\textbar{})\\\\\n",
       "\\hline\n",
       "\t(Intercept) &  2.553572e-01 & 1.100745e-01 &  2.31985902 & 2.041045e-02\\\\\n",
       "\trelative\\_humidity &  4.488156e-04 & 4.136693e-05 & 10.84962230 & 5.799382e-27\\\\\n",
       "\tdry\\_bulb\\_temp\\_f &  1.274267e-06 & 4.587063e-05 &  0.02777958 & 9.778397e-01\\\\\n",
       "\twind\\_speed &  7.944538e-04 & 1.379248e-04 &  5.76005222 & 9.196374e-09\\\\\n",
       "\tstation\\_pressure & -9.575207e-03 & 3.594359e-03 & -2.66395371 & 7.761127e-03\\\\\n",
       "\\end{tabular}\n"
      ],
      "text/markdown": [
       "\n",
       "A matrix: 5 × 4 of type dbl\n",
       "\n",
       "| <!--/--> | Estimate | Std. Error | t value | Pr(&gt;|t|) |\n",
       "|---|---|---|---|---|\n",
       "| (Intercept) |  2.553572e-01 | 1.100745e-01 |  2.31985902 | 2.041045e-02 |\n",
       "| relative_humidity |  4.488156e-04 | 4.136693e-05 | 10.84962230 | 5.799382e-27 |\n",
       "| dry_bulb_temp_f |  1.274267e-06 | 4.587063e-05 |  0.02777958 | 9.778397e-01 |\n",
       "| wind_speed |  7.944538e-04 | 1.379248e-04 |  5.76005222 | 9.196374e-09 |\n",
       "| station_pressure | -9.575207e-03 | 3.594359e-03 | -2.66395371 | 7.761127e-03 |\n",
       "\n"
      ],
      "text/plain": [
       "                  Estimate      Std. Error   t value     Pr(>|t|)    \n",
       "(Intercept)        2.553572e-01 1.100745e-01  2.31985902 2.041045e-02\n",
       "relative_humidity  4.488156e-04 4.136693e-05 10.84962230 5.799382e-27\n",
       "dry_bulb_temp_f    1.274267e-06 4.587063e-05  0.02777958 9.778397e-01\n",
       "wind_speed         7.944538e-04 1.379248e-04  5.76005222 9.196374e-09\n",
       "station_pressure  -9.575207e-03 3.594359e-03 -2.66395371 7.761127e-03"
      ]
     },
     "metadata": {},
     "output_type": "display_data"
    },
    {
     "data": {
      "text/html": [
       "<table class=\"dataframe\">\n",
       "<caption>A tibble: 5 × 3</caption>\n",
       "<thead>\n",
       "\t<tr><th scope=col>term</th><th scope=col>estimate</th><th scope=col>penalty</th></tr>\n",
       "\t<tr><th scope=col>&lt;chr&gt;</th><th scope=col>&lt;dbl&gt;</th><th scope=col>&lt;dbl&gt;</th></tr>\n",
       "</thead>\n",
       "<tbody>\n",
       "\t<tr><td>(Intercept)      </td><td> 2.645255e-01</td><td>0.001</td></tr>\n",
       "\t<tr><td>relative_humidity</td><td> 4.360694e-04</td><td>0.001</td></tr>\n",
       "\t<tr><td>dry_bulb_temp_f  </td><td> 4.226217e-07</td><td>0.001</td></tr>\n",
       "\t<tr><td>wind_speed       </td><td> 7.644872e-04</td><td>0.001</td></tr>\n",
       "\t<tr><td>station_pressure </td><td>-9.839968e-03</td><td>0.001</td></tr>\n",
       "</tbody>\n",
       "</table>\n"
      ],
      "text/latex": [
       "A tibble: 5 × 3\n",
       "\\begin{tabular}{lll}\n",
       " term & estimate & penalty\\\\\n",
       " <chr> & <dbl> & <dbl>\\\\\n",
       "\\hline\n",
       "\t (Intercept)       &  2.645255e-01 & 0.001\\\\\n",
       "\t relative\\_humidity &  4.360694e-04 & 0.001\\\\\n",
       "\t dry\\_bulb\\_temp\\_f   &  4.226217e-07 & 0.001\\\\\n",
       "\t wind\\_speed        &  7.644872e-04 & 0.001\\\\\n",
       "\t station\\_pressure  & -9.839968e-03 & 0.001\\\\\n",
       "\\end{tabular}\n"
      ],
      "text/markdown": [
       "\n",
       "A tibble: 5 × 3\n",
       "\n",
       "| term &lt;chr&gt; | estimate &lt;dbl&gt; | penalty &lt;dbl&gt; |\n",
       "|---|---|---|\n",
       "| (Intercept)       |  2.645255e-01 | 0.001 |\n",
       "| relative_humidity |  4.360694e-04 | 0.001 |\n",
       "| dry_bulb_temp_f   |  4.226217e-07 | 0.001 |\n",
       "| wind_speed        |  7.644872e-04 | 0.001 |\n",
       "| station_pressure  | -9.839968e-03 | 0.001 |\n",
       "\n"
      ],
      "text/plain": [
       "  term              estimate      penalty\n",
       "1 (Intercept)        2.645255e-01 0.001  \n",
       "2 relative_humidity  4.360694e-04 0.001  \n",
       "3 dry_bulb_temp_f    4.226217e-07 0.001  \n",
       "4 wind_speed         7.644872e-04 0.001  \n",
       "5 station_pressure  -9.839968e-03 0.001  "
      ]
     },
     "metadata": {},
     "output_type": "display_data"
    }
   ],
   "source": [
    "mlrCoeffs_results\n",
    "ridgeCoeffs_results"
   ]
  },
  {
   "cell_type": "markdown",
   "metadata": {
    "id": "_AT3ZoVRlDZi"
   },
   "source": [
    "## Author(s)\n",
    "\n",
    "<h4> Yiwen Li </h4>\n",
    "\n",
    "## Contributions\n",
    "\n",
    "<h4> Tiffany Zhu </h4>\n",
    "\n",
    "## <h3 align=\"center\"> © IBM Corporation 2021. All rights reserved. <h3/>\n"
   ]
  }
 ],
 "metadata": {
  "colab": {
   "provenance": []
  },
  "kernelspec": {
   "display_name": "R",
   "language": "R",
   "name": "ir"
  },
  "language_info": {
   "codemirror_mode": "r",
   "file_extension": ".r",
   "mimetype": "text/x-r-source",
   "name": "R",
   "pygments_lexer": "r",
   "version": "4.2.2"
  }
 },
 "nbformat": 4,
 "nbformat_minor": 1
}
